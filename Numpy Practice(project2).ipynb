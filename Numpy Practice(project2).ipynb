{
 "cells": [
  {
   "cell_type": "markdown",
   "id": "699f82ac-bbc3-4641-9eca-08dd1ffc9493",
   "metadata": {},
   "source": [
    "#1st\n",
    "#Explore different ways to create Numpy arrays?\n",
    "#Using np.array()"
   ]
  },
  {
   "cell_type": "code",
   "execution_count": 1,
   "id": "12a1e43d-ba83-4a28-96cb-c32ba1c6048f",
   "metadata": {},
   "outputs": [
    {
     "name": "stdout",
     "output_type": "stream",
     "text": [
      "[1 2 3 4 5]\n",
      "[[1 2 3]\n",
      " [4 5 6]]\n"
     ]
    }
   ],
   "source": [
    "import numpy as np\n",
    "arr1 = np.array([1, 2, 3, 4, 5])\n",
    "print(arr1)\n",
    "arr2 = np.array([[1, 2, 3], [4, 5, 6]])\n",
    "print(arr2)"
   ]
  },
  {
   "cell_type": "code",
   "execution_count": 3,
   "id": "a6947186-cd6f-47f2-b069-e2d41878424b",
   "metadata": {},
   "outputs": [
    {
     "name": "stdout",
     "output_type": "stream",
     "text": [
      "[0. 0. 0. 0. 0.]\n",
      "[[0. 0. 0. 0.]\n",
      " [0. 0. 0. 0.]\n",
      " [0. 0. 0. 0.]]\n"
     ]
    }
   ],
   "source": [
    "# Using np.zeros()\n",
    "arr3 = np.zeros(5)\n",
    "print(arr3)\n",
    "arr4 = np.zeros((3, 4))\n",
    "print(arr4)"
   ]
  },
  {
   "cell_type": "code",
   "execution_count": 5,
   "id": "d3e84d1f-bd62-47f0-8b63-0d5df5bc4c77",
   "metadata": {},
   "outputs": [
    {
     "name": "stdout",
     "output_type": "stream",
     "text": [
      "[1. 1. 1. 1.]\n",
      "[[1. 1. 1.]\n",
      " [1. 1. 1.]]\n"
     ]
    }
   ],
   "source": [
    "#np.ones()\n",
    "arr5 = np.ones(4)\n",
    "print(arr5)\n",
    "arr6 = np.ones((2, 3))\n",
    "print(arr6)"
   ]
  },
  {
   "cell_type": "code",
   "execution_count": 7,
   "id": "8d7165c8-3779-46c3-9fa8-6a792d4d2065",
   "metadata": {},
   "outputs": [
    {
     "name": "stdout",
     "output_type": "stream",
     "text": [
      "[0 1 2 3 4 5 6 7 8 9]\n",
      "[1 3 5 7 9]\n"
     ]
    }
   ],
   "source": [
    "# Using np.arange()\n",
    "arr7 = np.arange(10)\n",
    "print(arr7)\n",
    "arr8 = np.arange(1, 10, 2)\n",
    "print(arr8)"
   ]
  },
  {
   "cell_type": "code",
   "execution_count": 9,
   "id": "be977173-1968-4112-8dce-76bab7b757dc",
   "metadata": {},
   "outputs": [
    {
     "name": "stdout",
     "output_type": "stream",
     "text": [
      "[ 0.   2.5  5.   7.5 10. ]\n",
      "[-1.         -0.33333333  0.33333333  1.        ]\n"
     ]
    }
   ],
   "source": [
    "#np.linspace()\n",
    "arr9 = np.linspace(0, 10, 5)\n",
    "print(arr9)\n",
    "arr10 = np.linspace(-1, 1, 4)\n",
    "print(arr10)"
   ]
  },
  {
   "cell_type": "code",
   "execution_count": 15,
   "id": "e08dc0d8-26cc-4862-9979-2fa0a58b590e",
   "metadata": {},
   "outputs": [
    {
     "name": "stdout",
     "output_type": "stream",
     "text": [
      "[0.21013759 0.79125678 0.94874756 0.73723808 0.41794195]\n",
      "[[0.92534347 0.39151856 0.3729093 ]\n",
      " [0.37480598 0.48707726 0.66119998]]\n",
      "[-0.10687297 -0.07868433 -0.00310582 -1.52996739 -0.72827913]\n",
      "[[ 0.05876259 -0.04758342 -0.87202204]\n",
      " [ 0.55462602  1.44933261  1.02915835]]\n",
      "[3 8 6 0 9]\n",
      "[[55 74 43 34]\n",
      " [86 91 70 29]\n",
      " [44 72 57 21]]\n"
     ]
    }
   ],
   "source": [
    "#np.random\n",
    "arr11 = np.random.rand(5)\n",
    "print(arr11)\n",
    "arr12 = np.random.rand(2, 3)\n",
    "print(arr12)\n",
    "\n",
    "\n",
    "\n",
    "#np.random.randn()\n",
    "arr13 = np.random.randn(5)\n",
    "print(arr13)\n",
    "arr14 = np.random.randn(2, 3)\n",
    "print(arr14)\n",
    "\n",
    "\n",
    "\n",
    "#np.random.randint()\n",
    "arr15 = np.random.randint(0, 10, 5)\n",
    "print(arr15)\n",
    "arr16 = np.random.randint(1, 100, (3, 4))\n",
    "print(arr16)"
   ]
  },
  {
   "cell_type": "code",
   "execution_count": 17,
   "id": "e0344f47-6fea-4db0-996e-e4570e315a75",
   "metadata": {},
   "outputs": [
    {
     "name": "stdout",
     "output_type": "stream",
     "text": [
      "[[7 7 7]\n",
      " [7 7 7]\n",
      " [7 7 7]]\n"
     ]
    }
   ],
   "source": [
    "# Using np.full()\n",
    "arr18 = np.full((3, 3), 7)\n",
    "print(arr18)"
   ]
  },
  {
   "cell_type": "code",
   "execution_count": 19,
   "id": "673d3194-83b9-4c84-b27a-b7af502dc250",
   "metadata": {},
   "outputs": [
    {
     "name": "stdout",
     "output_type": "stream",
     "text": [
      "[[1 0 0]\n",
      " [0 2 0]\n",
      " [0 0 3]]\n",
      "[1 2 3]\n"
     ]
    }
   ],
   "source": [
    "#Using np.diag()\n",
    "arr19 = np.diag([1, 2, 3])\n",
    "print(arr19)\n",
    "arr20 = np.diag(arr19)\n",
    "print(arr20)"
   ]
  },
  {
   "cell_type": "code",
   "execution_count": 21,
   "id": "3149c6e5-61dc-41bc-9030-0c52fc7946bc",
   "metadata": {},
   "outputs": [
    {
     "name": "stdout",
     "output_type": "stream",
     "text": [
      "[1 2 3 1 2 3 1 2 3]\n",
      "[[1 2 3]\n",
      " [1 2 3]]\n"
     ]
    }
   ],
   "source": [
    "#np.tile()\n",
    "arr21 = np.tile([1, 2, 3], 3)\n",
    "print(arr21)\n",
    "arr22 = np.tile([1, 2, 3], (2, 1))\n",
    "print(arr22)"
   ]
  },
  {
   "cell_type": "code",
   "execution_count": 23,
   "id": "cf6c97dd-60b7-44c1-a451-f4746a838a11",
   "metadata": {},
   "outputs": [
    {
     "name": "stdout",
     "output_type": "stream",
     "text": [
      "[[0. 1. 2.]\n",
      " [1. 2. 3.]\n",
      " [2. 3. 4.]]\n"
     ]
    }
   ],
   "source": [
    "#np.fromfunction()\n",
    "arr23 = np.fromfunction(lambda i, j: i + j, (3, 3))\n",
    "print(arr23)"
   ]
  },
  {
   "cell_type": "code",
   "execution_count": null,
   "id": "b9ef15a7-8641-4a64-b9ef-fbfcb6fbcf3c",
   "metadata": {},
   "outputs": [],
   "source": [
    "#np.genfromtxt() (Reading from Files)\n",
    "arr24 = np.genfromtxt('data.csv', delimiter=',')\n",
    "print(arr24)\n",
    "\n",
    "(GETTING ERROR)(\"ERROR IS I HAVE NOT (SELECTED THE FILE)OR NOT COPIED THE CSV PATH\")"
   ]
  },
  {
   "cell_type": "markdown",
   "id": "5434f2c5-9c36-411f-87af-cc37a624477d",
   "metadata": {},
   "source": [
    "#Manipulate, aggregate and combine arrays\n",
    "#2nd question\n",
    "#ARRAY MANIPULATION(RESHAPING ARRAY)"
   ]
  },
  {
   "cell_type": "code",
   "execution_count": 10,
   "id": "0e310647-9b15-4273-b0f4-6b04c63065d3",
   "metadata": {},
   "outputs": [
    {
     "name": "stdout",
     "output_type": "stream",
     "text": [
      "[[ 0  1  2  3]\n",
      " [ 4  5  6  7]\n",
      " [ 8  9 10 11]]\n",
      "[ 0  1  2  3  4  5  6  7  8  9 10 11]\n",
      "[ 0  1  2  3  4  5  6  7  8  9 10 11]\n"
     ]
    }
   ],
   "source": [
    "#2nd question\n",
    "#ARRAY MANIPULATION(RESHAPING ARRAY)\n",
    "import numpy as np\n",
    "arr = np.arange(12)\n",
    "reshaped_arr = arr.reshape((3, 4))\n",
    "print(reshaped_arr)\n",
    "flattened_arr = reshaped_arr.flatten()\n",
    "print(flattened_arr)\n",
    "raveled_arr = reshaped_arr.ravel()\n",
    "print(raveled_arr)"
   ]
  },
  {
   "cell_type": "code",
   "execution_count": 4,
   "id": "547e1a13-cdc2-4692-9426-65b7fdb584b3",
   "metadata": {},
   "outputs": [
    {
     "name": "stdout",
     "output_type": "stream",
     "text": [
      "[4 5 6]\n",
      "6\n",
      "[[10  2  3]\n",
      " [ 4  5  6]\n",
      " [ 7  8  9]]\n"
     ]
    }
   ],
   "source": [
    "#Indexing and Slicing\n",
    "arr = np.array([[1, 2, 3], [4, 5, 6], [7, 8, 9]])\n",
    "slice_arr = arr[1, :]\n",
    "print(slice_arr)\n",
    "element = arr[1, 2]\n",
    "print(element)\n",
    "arr[0, 0] = 10\n",
    "print(arr)"
   ]
  },
  {
   "cell_type": "code",
   "execution_count": 6,
   "id": "88971a19-f5a7-474f-bec9-5bdbdf2cfbf6",
   "metadata": {},
   "outputs": [
    {
     "name": "stdout",
     "output_type": "stream",
     "text": [
      "[[1 2 3]\n",
      " [4 5 6]]\n",
      "[1 2 3 4 5 6]\n",
      "[[[1 4]\n",
      "  [2 5]\n",
      "  [3 6]]]\n"
     ]
    }
   ],
   "source": [
    "#Stacking Arrays\n",
    "arr1 = np.array([1, 2, 3])\n",
    "arr2 = np.array([4, 5, 6])\n",
    "arr_vstack = np.vstack((arr1, arr2))\n",
    "print(arr_vstack)\n",
    "arr_hstack = np.hstack((arr1, arr2))\n",
    "print(arr_hstack)\n",
    "arr_dstack = np.dstack((arr1, arr2))\n",
    "print(arr_dstack)"
   ]
  },
  {
   "cell_type": "code",
   "execution_count": 8,
   "id": "8180bf2a-33d5-417f-9bc5-a88bb50c802b",
   "metadata": {},
   "outputs": [
    {
     "name": "stdout",
     "output_type": "stream",
     "text": [
      "15\n",
      "3.0\n",
      "3.0\n",
      "[4 6]\n",
      "[3 7]\n"
     ]
    }
   ],
   "source": [
    "#(Array Aggregation)mean,median,sum\n",
    "arr = np.array([1, 2, 3, 4, 5])\n",
    "total_sum = arr.sum()\n",
    "print(total_sum)\n",
    "mean_val = arr.mean()\n",
    "print(mean_val)\n",
    "median_val = np.median(arr)\n",
    "print(median_val)\n",
    "arr_2d = np.array([[1, 2], [3, 4]])\n",
    "sum_axis_0 = arr_2d.sum(axis=0)\n",
    "print(sum_axis_0)\n",
    "sum_axis_1 = arr_2d.sum(axis=1)\n",
    "print(sum_axis_1)"
   ]
  },
  {
   "cell_type": "code",
   "execution_count": 10,
   "id": "08f63690-b777-45b1-bebb-723611de985b",
   "metadata": {},
   "outputs": [
    {
     "name": "stdout",
     "output_type": "stream",
     "text": [
      "[[1 2]\n",
      " [3 4]]\n"
     ]
    }
   ],
   "source": [
    "#3(Combining Arrays)\n",
    "arr1 = np.array([1, 2])\n",
    "arr2 = np.array([3, 4])\n",
    "stacked_arr = np.stack((arr1, arr2), axis=0)   #(combining with np.stack ())\n",
    "print(stacked_arr)"
   ]
  },
  {
   "cell_type": "code",
   "execution_count": 12,
   "id": "b43742a8-742b-4108-a5f7-1a475d1f3ed7",
   "metadata": {},
   "outputs": [
    {
     "name": "stdout",
     "output_type": "stream",
     "text": [
      "[False False  True  True  True]\n",
      "[3 4 5]\n"
     ]
    }
   ],
   "source": [
    "#4(Boolean Masking)\n",
    "arr = np.array([1, 2, 3, 4, 5])\n",
    "mask = arr > 2\n",
    "print(mask)\n",
    "filtered_arr = arr[mask]\n",
    "print(filtered_arr)"
   ]
  },
  {
   "cell_type": "code",
   "execution_count": 14,
   "id": "6086a0cd-4388-410f-9fb1-1c9627c3ea72",
   "metadata": {},
   "outputs": [
    {
     "name": "stdout",
     "output_type": "stream",
     "text": [
      "[1 2 3 4 5 6]\n",
      "[3 4]\n",
      "[1 2]\n"
     ]
    }
   ],
   "source": [
    "#5(Set Operations)\n",
    "arr1 = np.array([1, 2, 3, 4])\n",
    "arr2 = np.array([3, 4, 5, 6])\n",
    "union_arr = np.union1d(arr1, arr2)\n",
    "print(union_arr)\n",
    "intersect_arr = np.intersect1d(arr1, arr2)\n",
    "print(intersect_arr)\n",
    "diff_arr = np.setdiff1d(arr1, arr2)\n",
    "print(diff_arr)"
   ]
  },
  {
   "cell_type": "markdown",
   "id": "31accc36-9acc-4f64-b48d-6372b187ac9d",
   "metadata": {},
   "source": [
    "#3 question\n",
    "Apply broadcasting & vectorization techniques?"
   ]
  },
  {
   "cell_type": "markdown",
   "id": "9ea92954-a8db-4c42-bd34-f8c5be7884ed",
   "metadata": {},
   "source": [
    "Apply broadcasting & vectorization techniques?\n",
    "#Broadcasting in numpy"
   ]
  },
  {
   "cell_type": "code",
   "execution_count": 16,
   "id": "a072fb91-fb4f-4d09-914b-397eddf98a08",
   "metadata": {},
   "outputs": [
    {
     "name": "stdout",
     "output_type": "stream",
     "text": [
      "[11 12 13 14]\n"
     ]
    }
   ],
   "source": [
    "import numpy as np\n",
    "arr = np.array([1, 2, 3, 4])\n",
    "scalar = 10\n",
    "result = arr + scalar\n",
    "print(result)"
   ]
  },
  {
   "cell_type": "code",
   "execution_count": 18,
   "id": "ddb60794-ebb1-4011-bbbe-caddf7ed6dfe",
   "metadata": {},
   "outputs": [
    {
     "name": "stdout",
     "output_type": "stream",
     "text": [
      "[[2 4 6]\n",
      " [5 7 9]]\n"
     ]
    }
   ],
   "source": [
    "#Broadcasting with 2D and 1D Arrays\n",
    "arr_2d = np.array([[1, 2, 3], [4, 5, 6]])\n",
    "arr_1d = np.array([1, 2, 3])\n",
    "result = arr_2d + arr_1d\n",
    "print(result)"
   ]
  },
  {
   "cell_type": "code",
   "execution_count": 22,
   "id": "ed5f55e0-3369-4632-954b-af2127872272",
   "metadata": {},
   "outputs": [
    {
     "ename": "ValueError",
     "evalue": "operands could not be broadcast together with shapes (2,3) (2,) ",
     "output_type": "error",
     "traceback": [
      "\u001b[1;31m---------------------------------------------------------------------------\u001b[0m",
      "\u001b[1;31mValueError\u001b[0m                                Traceback (most recent call last)",
      "Cell \u001b[1;32mIn[22], line 4\u001b[0m\n\u001b[0;32m      2\u001b[0m arr_2d \u001b[38;5;241m=\u001b[39m np\u001b[38;5;241m.\u001b[39marray([[\u001b[38;5;241m1\u001b[39m, \u001b[38;5;241m2\u001b[39m, \u001b[38;5;241m3\u001b[39m], [\u001b[38;5;241m4\u001b[39m, \u001b[38;5;241m5\u001b[39m, \u001b[38;5;241m6\u001b[39m]])\n\u001b[0;32m      3\u001b[0m arr_1d \u001b[38;5;241m=\u001b[39m np\u001b[38;5;241m.\u001b[39marray([\u001b[38;5;241m1\u001b[39m, \u001b[38;5;241m2\u001b[39m])\n\u001b[1;32m----> 4\u001b[0m result \u001b[38;5;241m=\u001b[39m arr_2d \u001b[38;5;241m+\u001b[39m arr_1d\n",
      "\u001b[1;31mValueError\u001b[0m: operands could not be broadcast together with shapes (2,3) (2,) "
     ]
    }
   ],
   "source": [
    "# Broadcasting with Mismatched Shapes\n",
    "arr_2d = np.array([[1, 2, 3], [4, 5, 6]])\n",
    "arr_1d = np.array([1, 2])\n",
    "result = arr_2d + arr_1d"
   ]
  },
  {
   "cell_type": "code",
   "execution_count": 26,
   "id": "93233c12-f2a6-491e-b012-ba53f0a5d69e",
   "metadata": {},
   "outputs": [
    {
     "name": "stdout",
     "output_type": "stream",
     "text": [
      "[ 6  8 10 12]\n"
     ]
    }
   ],
   "source": [
    "#2(Vectorization)\n",
    "arr1 = np.array([1, 2, 3, 4])\n",
    "arr2 = np.array([5, 6, 7, 8])\n",
    "result = arr1 + arr2\n",
    "print(result)"
   ]
  },
  {
   "cell_type": "code",
   "execution_count": 3,
   "id": "6b2a322d-1ecb-4912-86df-3e50d664e107",
   "metadata": {},
   "outputs": [
    {
     "name": "stdout",
     "output_type": "stream",
     "text": [
      "[[ 10  40  90]\n",
      " [ 40 100 180]\n",
      " [ 70 160 270]]\n"
     ]
    }
   ],
   "source": [
    "#3(Apply broadcasting & vectorization techniques)\n",
    "import numpy as np\n",
    "arr2d = np.array([[1, 2, 3],\n",
    "                  [4, 5, 6],\n",
    "                  [7, 8, 9]])\n",
    "arr1d = np.array([10, 20, 30])\n",
    "result = arr2d * arr1d\n",
    "print(result)"
   ]
  },
  {
   "cell_type": "code",
   "execution_count": 5,
   "id": "830ed389-f6e3-4b0a-beae-9d661079d7f1",
   "metadata": {},
   "outputs": [
    {
     "name": "stdout",
     "output_type": "stream",
     "text": [
      "[[11 12 13]\n",
      " [14 15 16]\n",
      " [17 18 19]]\n"
     ]
    }
   ],
   "source": [
    "#4(boardcasting with scalar)\n",
    "import numpy as np\n",
    "arr2d = np.array([[1, 2, 3],\n",
    "                  [4, 5, 6],\n",
    "                  [7, 8, 9]])\n",
    "result = arr2d + 10\n",
    "print(result)"
   ]
  },
  {
   "cell_type": "code",
   "execution_count": 7,
   "id": "0112725d-d921-47ba-ae53-7c3d5efe1209",
   "metadata": {},
   "outputs": [
    {
     "name": "stdout",
     "output_type": "stream",
     "text": [
      "[[ 1  2  3]\n",
      " [ 8 10 12]\n",
      " [21 24 27]\n",
      " [40 44 48]]\n"
     ]
    }
   ],
   "source": [
    "#5(Broadcasting with Different Shapes)\n",
    "import numpy as np\n",
    "arr2d = np.array([[1, 2, 3],\n",
    "                  [4, 5, 6],\n",
    "                  [7, 8, 9],\n",
    "                  [10, 11, 12]])\n",
    "arr1d = np.array([1, 2, 3, 4])\n",
    "result = arr2d * arr1d[:, np.newaxis]\n",
    "print(result)"
   ]
  },
  {
   "cell_type": "markdown",
   "id": "1f83828d-11ff-4deb-a77b-f631560ae251",
   "metadata": {},
   "source": [
    " #4 question\n",
    " Explore Numpy docs and write a blog post?"
   ]
  },
  {
   "cell_type": "code",
   "execution_count": 14,
   "id": "fad3a3f7-0a53-4a0c-9b3a-13319b63576f",
   "metadata": {},
   "outputs": [
    {
     "name": "stdout",
     "output_type": "stream",
     "text": [
      "[1 2 3 4 5]\n",
      "[[1 2 3]\n",
      " [4 5 6]]\n"
     ]
    }
   ],
   "source": [
    "#1(Efficient Multidimensional Arrays)\n",
    "import numpy as np\n",
    "arr = np.array([1, 2, 3, 4, 5])\n",
    "print(arr)\n",
    "\n",
    "\n",
    "#\n",
    "arr_2d = np.array([[1, 2, 3], [4, 5, 6]])\n",
    "print(arr_2d)"
   ]
  },
  {
   "cell_type": "code",
   "execution_count": 18,
   "id": "9f2963fa-4738-43f6-8266-bfa3abe8ba79",
   "metadata": {},
   "outputs": [
    {
     "name": "stdout",
     "output_type": "stream",
     "text": [
      "[2 4 6]\n",
      "[5 7 9]\n"
     ]
    }
   ],
   "source": [
    "#2(element wise option)\n",
    "arr = np.array([1, 2, 3])\n",
    "result = arr * 2\n",
    "print(result)\n",
    "\n",
    "\n",
    "#\n",
    "arr1 = np.array([1, 2, 3])\n",
    "arr2 = np.array([4, 5, 6])\n",
    "sum_arr = arr1 + arr2\n",
    "print(sum_arr)"
   ]
  },
  {
   "cell_type": "code",
   "execution_count": 20,
   "id": "42f3734c-f5d6-427e-aee9-e27b069574d5",
   "metadata": {},
   "outputs": [
    {
     "name": "stdout",
     "output_type": "stream",
     "text": [
      "[11 12 13]\n"
     ]
    }
   ],
   "source": [
    "#3(Broadcasting)\n",
    "arr = np.array([1, 2, 3])\n",
    "result = arr + 10\n",
    "print(result)"
   ]
  },
  {
   "cell_type": "code",
   "execution_count": 24,
   "id": "dbccc000-5acd-4633-b9c7-2029746d282e",
   "metadata": {},
   "outputs": [
    {
     "name": "stdout",
     "output_type": "stream",
     "text": [
      "[[19 22]\n",
      " [43 50]]\n"
     ]
    }
   ],
   "source": [
    "#4(Linear Algebra and Matrix Operations)\n",
    "A = np.array([[1, 2], [3, 4]])\n",
    "B = np.array([[5, 6], [7, 8]])\n",
    "result = np.dot(A, B)\n",
    "print(result)"
   ]
  },
  {
   "cell_type": "code",
   "execution_count": 26,
   "id": "b3a4d352-4f54-421d-b7f0-1ef95a22f285",
   "metadata": {},
   "outputs": [
    {
     "name": "stdout",
     "output_type": "stream",
     "text": [
      "[[0.53927676 0.50968425]\n",
      " [0.55219542 0.12718843]\n",
      " [0.89633274 0.77172826]]\n"
     ]
    }
   ],
   "source": [
    "#5(Random Number Generation)\n",
    "random_numbers = np.random.rand(3, 2)\n",
    "print(random_numbers)"
   ]
  },
  {
   "cell_type": "code",
   "execution_count": 28,
   "id": "77a08ae3-fc78-4b17-8a28-779f8d3c841b",
   "metadata": {},
   "outputs": [
    {
     "name": "stdout",
     "output_type": "stream",
     "text": [
      "3.0\n"
     ]
    }
   ],
   "source": [
    "#6(aggregating data)\n",
    "arr = np.array([1, 2, 3, 4, 5])\n",
    "mean = np.mean(arr)\n",
    "print(mean)"
   ]
  },
  {
   "cell_type": "code",
   "execution_count": null,
   "id": "f2dfd1b7-8204-4959-a3e3-a9d2c1ef8b08",
   "metadata": {},
   "outputs": [],
   "source": []
  }
 ],
 "metadata": {
  "kernelspec": {
   "display_name": "Python 3 (ipykernel)",
   "language": "python",
   "name": "python3"
  },
  "language_info": {
   "codemirror_mode": {
    "name": "ipython",
    "version": 3
   },
   "file_extension": ".py",
   "mimetype": "text/x-python",
   "name": "python",
   "nbconvert_exporter": "python",
   "pygments_lexer": "ipython3",
   "version": "3.12.4"
  }
 },
 "nbformat": 4,
 "nbformat_minor": 5
}
