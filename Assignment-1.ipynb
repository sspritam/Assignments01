{
 "cells": [
  {
   "cell_type": "code",
   "execution_count": 1,
   "id": "1fd76379-8680-40b6-855b-f8a49d2544e2",
   "metadata": {},
   "outputs": [],
   "source": [
    "import numpy as np \n",
    "import pandas as pd\n",
    "import string as str"
   ]
  },
  {
   "cell_type": "code",
   "execution_count": 17,
   "id": "3f9bdba8-dc74-4a08-96f5-ad268d634b1a",
   "metadata": {},
   "outputs": [
    {
     "name": "stdout",
     "output_type": "stream",
     "text": [
      "Twinkle, twinlke, little star,\n",
      "    How I wonder what you are! \n",
      "up above the world so high,\n",
      "         Like a diamond in the sky. \n",
      "Twinkle, twinlke, little star,\n",
      "    How I wonder what you are! \n"
     ]
    }
   ],
   "source": [
    "a = '''Twinkle, twinlke, little star,\n",
    "    How I wonder what you are! '''\n",
    "b = '''up above the world so high,\n",
    "         Like a diamond in the sky. '''\n",
    "print(a,b,a,sep=('\\n'))\n"
   ]
  },
  {
   "cell_type": "code",
   "execution_count": 3,
   "id": "f6b4c230-7b7d-4be0-a779-7e7cc8c8e1ae",
   "metadata": {},
   "outputs": [
    {
     "name": "stdout",
     "output_type": "stream",
     "text": [
      "3.12.4\n"
     ]
    }
   ],
   "source": [
    "import platform\n",
    "print(platform.python_version())"
   ]
  },
  {
   "cell_type": "code",
   "execution_count": 5,
   "id": "a1c993e7-38a2-46fa-9c6c-61ec5f9d62d5",
   "metadata": {},
   "outputs": [
    {
     "name": "stdout",
     "output_type": "stream",
     "text": [
      "Python version\n",
      "3.12.4 | packaged by Anaconda, Inc. | (main, Jun 18 2024, 15:03:56) [MSC v.1929 64 bit (AMD64)]\n",
      "Version info.\n",
      "sys.version_info(major=3, minor=12, micro=4, releaselevel='final', serial=0)\n"
     ]
    }
   ],
   "source": [
    "import sys\n",
    "print(\"Python version\")\n",
    "print(sys.version)\n",
    "print(\"Version info.\")\n",
    "print(sys.version_info)"
   ]
  },
  {
   "cell_type": "code",
   "execution_count": 15,
   "id": "22c37261-3aa0-47df-8c13-ad0f537a81d2",
   "metadata": {},
   "outputs": [
    {
     "name": "stdin",
     "output_type": "stream",
     "text": [
      "Enter the radius of the circle:  2.3\n"
     ]
    },
    {
     "name": "stdout",
     "output_type": "stream",
     "text": [
      "Area of the circle: 16.619025137490002\n",
      "Perimeter of the circle: 14.451326206513047\n"
     ]
    }
   ],
   "source": [
    "import math\n",
    " \n",
    "radius = float(input(\"Enter the radius of the circle: \"))\n",
    " \n",
    "# Calculate the area of the circle\n",
    "area = math.pi * radius ** 2\n",
    "perimeter = 2 * math.pi * radius\n",
    "print(\"Area of the circle:\", area)\n",
    "print(\"Perimeter of the circle:\", perimeter)"
   ]
  },
  {
   "cell_type": "code",
   "execution_count": 15,
   "id": "726ff619-c6d6-46bb-9a0f-2fe0297579e4",
   "metadata": {},
   "outputs": [
    {
     "name": "stdout",
     "output_type": "stream",
     "text": [
      "The attributes of now() are :\n",
      "Year : 2024\n",
      "Month :  9\n",
      "Day :  14\n",
      "Hour :  18\n",
      "Minute :  53\n",
      "Second : 20\n",
      "Microsecond : 796886\n"
     ]
    }
   ],
   "source": [
    "# importing datetime module for now()\n",
    "import datetime\n",
    "# using now() to get current time\n",
    "current_time = datetime.datetime.now()\n",
    "# Printing attributes of now().\n",
    "print(\"The attributes of now() are :\")\n",
    "\n",
    "print(\"Year :\", current_time.year)\n",
    "\n",
    "print(\"Month : \", current_time.month)\n",
    "\n",
    "print(\"Day : \", current_time.day)\n",
    "\n",
    "print(\"Hour : \", current_time.hour)\n",
    "\n",
    "print(\"Minute : \", current_time.minute)\n",
    "\n",
    "print(\"Second :\", current_time.second)\n",
    "\n",
    "print(\"Microsecond :\", current_time.microsecond)"
   ]
  },
  {
   "cell_type": "code",
   "execution_count": 27,
   "id": "1db00ef2-9d22-4134-80ad-a1cd89ab1aa8",
   "metadata": {},
   "outputs": [
    {
     "name": "stdin",
     "output_type": "stream",
     "text": [
      "Input your First Name :  pritam\n",
      "Input your Last Name :  s s\n"
     ]
    },
    {
     "name": "stdout",
     "output_type": "stream",
     "text": [
      "Hello s s pritam\n"
     ]
    }
   ],
   "source": [
    "fname = input(\"Input your First Name : \")\n",
    "lname = input(\"Input your Last Name : \")\n",
    "print(\"Hello \" + lname + \" \" + fname)"
   ]
  },
  {
   "cell_type": "code",
   "execution_count": 29,
   "id": "3009a849-2c42-419f-a73c-d75e962eed37",
   "metadata": {},
   "outputs": [
    {
     "name": "stdin",
     "output_type": "stream",
     "text": [
      "Input an integer:  3\n"
     ]
    },
    {
     "name": "stdout",
     "output_type": "stream",
     "text": [
      "369\n"
     ]
    }
   ],
   "source": [
    "a = int(input(\"Input an integer: \"))\n",
    "# Create new integers 'n1', 'n2', and 'n3' by concatenating 'a' with itself one, two, and three times, respectively\n",
    "n1 = int(\"%s\" % a)          # Convert 'a' to an integer\n",
    "n2 = int(\"%s%s\" % (a, a))   # Concatenate 'a' with itself and convert to an integer\n",
    "n3 = int(\"%s%s%s\" % (a, a, a))  # Concatenate 'a' with itself twice and convert to an integer\n",
    "print(n1 + n2 + n3)"
   ]
  },
  {
   "cell_type": "code",
   "execution_count": 31,
   "id": "61d630e7-7b3d-482a-92ca-24c5d68af415",
   "metadata": {},
   "outputs": [
    {
     "name": "stdout",
     "output_type": "stream",
     "text": [
      "The value of x after swapping: 10\n",
      "The value of y after swapping: 5\n"
     ]
    }
   ],
   "source": [
    "# Python program to swap two variables\n",
    "x = 5\n",
    "y = 10\n",
    "#x = input('Enter value of x: ')\n",
    "#y = input('Enter value of y: ')\n",
    "# create a temporary variable and swap the values\n",
    "temp = x\n",
    "x = y\n",
    "y = temp\n",
    "print('The value of x after swapping: {}'.format(x))\n",
    "print('The value of y after swapping: {}'.format(y))"
   ]
  },
  {
   "cell_type": "code",
   "execution_count": 36,
   "id": "e1d0075a-b04a-4e9d-ab8b-49e35f04a9b4",
   "metadata": {},
   "outputs": [
    {
     "name": "stdout",
     "output_type": "stream",
     "text": [
      "Check if x is an integer!\n",
      "Check if y is an integer!\n",
      "False\n",
      "True\n"
     ]
    }
   ],
   "source": [
    "x = 1.23\n",
    "x_int = x.is_integer()\n",
    "print(\"Check if x is an integer!\")\n",
    "y = 1.0\n",
    "y_int = y.is_integer()\n",
    "print(\"Check if y is an integer!\")\n",
    "print(x_int)\n",
    "print(y_int)"
   ]
  },
  {
   "cell_type": "code",
   "execution_count": 11,
   "id": "df62b470-156a-425e-bc27-4649de46979b",
   "metadata": {},
   "outputs": [
    {
     "name": "stdout",
     "output_type": "stream",
     "text": [
      "32\n",
      "06\n"
     ]
    }
   ],
   "source": [
    "# DECIMAL TO HEXADECIMAL\n",
    "x = 50\n",
    "print(format(x, '02x'))\n",
    "x = 6\n",
    "print(format(x, '02x'))"
   ]
  },
  {
   "cell_type": "code",
   "execution_count": 45,
   "id": "f9af9d1b-f58d-4e84-9e08-f19cf80464aa",
   "metadata": {},
   "outputs": [
    {
     "name": "stdin",
     "output_type": "stream",
     "text": [
      "Enter a number:  0\n"
     ]
    },
    {
     "name": "stdout",
     "output_type": "stream",
     "text": [
      "Zero\n"
     ]
    }
   ],
   "source": [
    "#10\n",
    "num = float(input(\"Enter a number: \"))\n",
    "if num > 0:\n",
    "   print(\"Positive number\")\n",
    "elif num == 0:\n",
    "   print(\"Zero\")\n",
    "else:\n",
    "   print(\"Negative number\")"
   ]
  },
  {
   "cell_type": "code",
   "execution_count": 1,
   "id": "3787f7e1-1555-4d18-8fb5-da12a29eb8b9",
   "metadata": {},
   "outputs": [
    {
     "name": "stdout",
     "output_type": "stream",
     "text": [
      "Give number 3426\n",
      "6 2 4 3 "
     ]
    }
   ],
   "source": [
    "#11\n",
    "number = 3426\n",
    "print(\"Give number\",number)\n",
    "while number > 0:\n",
    "    digt = number % 10\n",
    "    number = number // 10\n",
    "    print(digt, end=\" \")"
   ]
  },
  {
   "cell_type": "code",
   "execution_count": null,
   "id": "e6a4a7e6-6961-4477-b68d-cc9b9ef8c312",
   "metadata": {},
   "outputs": [],
   "source": []
  }
 ],
 "metadata": {
  "kernelspec": {
   "display_name": "Python 3 (ipykernel)",
   "language": "python",
   "name": "python3"
  },
  "language_info": {
   "codemirror_mode": {
    "name": "ipython",
    "version": 3
   },
   "file_extension": ".py",
   "mimetype": "text/x-python",
   "name": "python",
   "nbconvert_exporter": "python",
   "pygments_lexer": "ipython3",
   "version": "3.12.4"
  }
 },
 "nbformat": 4,
 "nbformat_minor": 5
}
