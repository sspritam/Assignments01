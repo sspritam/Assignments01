{
 "cells": [
  {
   "cell_type": "code",
   "execution_count": 5,
   "id": "123fc873-72c3-4a94-ad2b-06c16a6d40bc",
   "metadata": {},
   "outputs": [
    {
     "name": "stdout",
     "output_type": "stream",
     "text": [
      "Total apples: 25\n",
      "Cookies left: 35\n",
      "Total distance: 300\n",
      "Candies per friend: 20.0\n",
      "Discounted price: 60.0\n",
      "Sally's age: 15\n"
     ]
    }
   ],
   "source": [
    "#Solve word problems using variables & arithmetic operations?\n",
    "#1:addition\n",
    "apples_before = 15\n",
    "apples_bought = 10\n",
    "total_apples = apples_before + apples_bought\n",
    "print(\"Total apples:\", total_apples)\n",
    "\n",
    "#2:subtraction\n",
    "cookies_baked = 60\n",
    "cookies_sold = 25\n",
    "cookies_left = cookies_baked - cookies_sold\n",
    "print(\"Cookies left:\", cookies_left)\n",
    "\n",
    "#3:mulitiplication\n",
    "speed = 60\n",
    "time = 5\n",
    "distance = speed * time\n",
    "print(\"Total distance:\", distance)\n",
    "\n",
    "#4:division\n",
    "total_candies = 80\n",
    "friends = 4\n",
    "candies_per_friend = total_candies / friends\n",
    "print(\"Candies per friend:\", candies_per_friend)\n",
    "\n",
    "#5:percentage problem\n",
    "original_price = 80\n",
    "discount_percentage = 25 / 100\n",
    "discounted_price = original_price * (1 - discount_percentage)\n",
    "print(\"Discounted price:\", discounted_price)\n",
    "\n",
    "#6:age problem\n",
    "brother_age = 10\n",
    "sally_age = brother_age + 5\n",
    "print(\"Sally's age:\", sally_age)"
   ]
  },
  {
   "cell_type": "code",
   "execution_count": 7,
   "id": "3d48260f-17fb-42b2-82ff-7b9143e74f41",
   "metadata": {},
   "outputs": [
    {
     "name": "stdout",
     "output_type": "stream",
     "text": [
      "Concatenated string: Hello World\n",
      "Repeated string: HelloHelloHello\n",
      "Stripped text: Python Programming\n",
      "Uppercase text:   PYTHON PROGRAMMING  \n",
      "Lowercase text:   python programming  \n"
     ]
    }
   ],
   "source": [
    "#2nd question\n",
    "#Manipulate data types using methods & operators?\n",
    "string1 = \"Hello\"\n",
    "string2 = \"World\"\n",
    "result = string1 + \" \" + string2\n",
    "print(\"Concatenated string:\", result)\n",
    "repeated_string = string1 * 3\n",
    "print(\"Repeated string:\", repeated_string)\n",
    "text = \"  Python Programming  \"\n",
    "print(\"Stripped text:\", text.strip())\n",
    "print(\"Uppercase text:\", text.upper())\n",
    "print(\"Lowercase text:\", text.lower())"
   ]
  },
  {
   "cell_type": "code",
   "execution_count": 9,
   "id": "032754ff-0fb2-4455-b85f-2bb357ae18a7",
   "metadata": {},
   "outputs": [
    {
     "name": "stdout",
     "output_type": "stream",
     "text": [
      "Combined list: [1, 2, 3, 4, 5, 6]\n",
      "Repeated list: [1, 2, 3, 1, 2, 3]\n",
      "List after append: [1, 2, 3, 4]\n",
      "List after removal: [1, 3, 4]\n",
      "Sorted list: [1, 3, 4]\n"
     ]
    }
   ],
   "source": [
    "#list manipulation\n",
    "list1 = [1, 2, 3]\n",
    "list2 = [4, 5, 6]\n",
    "combined_list = list1 + list2\n",
    "print(\"Combined list:\", combined_list)\n",
    "repeated_list = list1 * 2\n",
    "print(\"Repeated list:\", repeated_list)\n",
    "list1.append(4)\n",
    "print(\"List after append:\", list1)\n",
    "list1.remove(2)\n",
    "print(\"List after removal:\", list1)\n",
    "list1.sort()\n",
    "print(\"Sorted list:\", list1)"
   ]
  },
  {
   "cell_type": "code",
   "execution_count": 11,
   "id": "6080bd29-5783-4930-a1c0-f6120258e326",
   "metadata": {},
   "outputs": [
    {
     "name": "stdout",
     "output_type": "stream",
     "text": [
      "Addition: 13\n",
      "Subtraction: 7\n",
      "Multiplication: 30\n",
      "Division: 3.3333333333333335\n",
      "Floor Division: 3\n",
      "Modulus: 1\n",
      "Converted to int: 5\n",
      "Converted back to float: 5.0\n"
     ]
    }
   ],
   "source": [
    "#integer and float manipulation\n",
    "a = 10\n",
    "b = 3\n",
    "print(\"Addition:\", a + b)\n",
    "print(\"Subtraction:\", a - b)\n",
    "print(\"Multiplication:\", a * b)\n",
    "print(\"Division:\", a / b)\n",
    "print(\"Floor Division:\", a // b)\n",
    "print(\"Modulus:\", a % b)\n",
    "x = 5.7\n",
    "y = int(x)\n",
    "print(\"Converted to int:\", y)\n",
    "z = float(y)\n",
    "print(\"Converted back to float:\", z)"
   ]
  },
  {
   "cell_type": "code",
   "execution_count": 13,
   "id": "ebb9fdeb-e02d-47a6-957b-17323de5af50",
   "metadata": {},
   "outputs": [
    {
     "name": "stdout",
     "output_type": "stream",
     "text": [
      "x and y: False\n",
      "x or y: True\n",
      "not x: False\n",
      "a == b: False\n",
      "a != b: True\n",
      "a < b: True\n",
      "a >= b: False\n"
     ]
    }
   ],
   "source": [
    "#boolean manipulation\n",
    "x = True\n",
    "y = False\n",
    "print(\"x and y:\", x and y)\n",
    "print(\"x or y:\", x or y)\n",
    "print(\"not x:\", not x)\n",
    "a = 5\n",
    "b = 10\n",
    "print(\"a == b:\", a == b)\n",
    "print(\"a != b:\", a != b)\n",
    "print(\"a < b:\", a < b)\n",
    "print(\"a >= b:\", a >= b)"
   ]
  },
  {
   "cell_type": "code",
   "execution_count": 17,
   "id": "cf72d9cd-8dfd-4329-abfb-a7afbe58d609",
   "metadata": {},
   "outputs": [
    {
     "name": "stdout",
     "output_type": "stream",
     "text": [
      "Name: pritam\n",
      "Updated dictionary: {'name': 'pritam', 'age': 18, 'city': 'bengaluru', 'job': 'Engineer'}\n",
      "Dictionary after deletion: {'name': 'pritam', 'age': 18, 'job': 'Engineer'}\n"
     ]
    }
   ],
   "source": [
    "#dictionary manipulation\n",
    "my_dict = {'name': 'pritam', 'age': 18, 'city': 'bengaluru'}\n",
    "print(\"Name:\", my_dict['name'])\n",
    "my_dict['age'] = 18\n",
    "my_dict['job'] = 'Engineer'\n",
    "print(\"Updated dictionary:\", my_dict)\n",
    "del my_dict['city']\n",
    "print(\"Dictionary after deletion:\", my_dict)"
   ]
  },
  {
   "cell_type": "code",
   "execution_count": 19,
   "id": "1e67a11b-a5e4-49d4-9156-6878eb422f57",
   "metadata": {},
   "outputs": [
    {
     "name": "stdout",
     "output_type": "stream",
     "text": [
      "Union of sets: {1, 2, 3, 4, 5}\n",
      "Intersection of sets: {3}\n",
      "Difference of sets: {1, 2}\n"
     ]
    }
   ],
   "source": [
    "#set manipulation\n",
    "set1 = {1, 2, 3}\n",
    "set2 = {3, 4, 5}\n",
    "union_set = set1 | set2\n",
    "print(\"Union of sets:\", union_set)\n",
    "intersection_set = set1 & set2\n",
    "print(\"Intersection of sets:\", intersection_set)\n",
    "difference_set = set1 - set2\n",
    "print(\"Difference of sets:\", difference_set)"
   ]
  },
  {
   "cell_type": "markdown",
   "id": "31ff1f67-2a88-4ebf-8e96-8b8b25a5285a",
   "metadata": {},
   "source": [
    "Use branching and iterations to translate ideas into code"
   ]
  },
  {
   "cell_type": "code",
   "execution_count": 9,
   "id": "70640fb3-ff97-4ccd-98d1-2a253009019b",
   "metadata": {},
   "outputs": [],
   "source": [
    "#3rd question\n",
    "#Use branching and iterations to translate ideas into code?\n",
    "#branching(conditional statements)\n",
    "def check_license_eligibility(age):\n",
    "    if age >= 18:\n",
    "        return \"Eligible for a driver's license\"\n",
    "    elif age >= 16:\n",
    "        return \"Eligible for a learner's permit\"\n",
    "    else:\n",
    "        return \"Not eligible for a driver's license\""
   ]
  },
  {
   "cell_type": "code",
   "execution_count": 11,
   "id": "0da255da-e042-4830-85d0-6466dc5b3895",
   "metadata": {},
   "outputs": [
    {
     "name": "stdout",
     "output_type": "stream",
     "text": [
      "1\n",
      "2\n",
      "3\n",
      "4\n",
      "5\n",
      "Age 12: Not eligible for a driver's license\n",
      "Age 16: Eligible for a learner's permit\n",
      "Age 18: Eligible for a driver's license\n",
      "Age 20: Eligible for a driver's license\n",
      "Age 14: Not eligible for a driver's license\n"
     ]
    }
   ],
   "source": [
    "#iteration (loops)\n",
    "for i in range(1, 6):\n",
    "    print(i)\n",
    "#\n",
    "ages = [12, 16, 18, 20, 14]\n",
    "\n",
    "for age in ages:\n",
    "    if age >= 18:\n",
    "        print(f\"Age {age}: Eligible for a driver's license\")\n",
    "    elif age >= 16:\n",
    "        print(f\"Age {age}: Eligible for a learner's permit\")\n",
    "    else:\n",
    "        print(f\"Age {age}: Not eligible for a driver's license\")\n"
   ]
  },
  {
   "cell_type": "code",
   "execution_count": 15,
   "id": "03c0027b-2ae4-45a3-9363-9c4effc19491",
   "metadata": {},
   "outputs": [
    {
     "name": "stdout",
     "output_type": "stream",
     "text": [
      "rohit is in driving school.\n",
      "abhishek is eligible for a driver's license.\n",
      "rahul is not eligible for a driver's license.\n"
     ]
    }
   ],
   "source": [
    "#Iteration with Nested Branching\n",
    "people = [{'name': 'rohit', 'age': 17, 'in_driving_school': True},\n",
    "          {'name': 'abhishek', 'age': 19, 'in_driving_school': False},\n",
    "          {'name': 'rahul', 'age': 14, 'in_driving_school': False}]\n",
    "\n",
    "for person in people:\n",
    "    if person['in_driving_school']:\n",
    "        print(f\"{person['name']} is in driving school.\")\n",
    "    elif person['age'] >= 18:\n",
    "        print(f\"{person['name']} is eligible for a driver's license.\")\n",
    "    elif person['age'] >= 16:\n",
    "        print(f\"{person['name']} is eligible for a learner's permit.\")\n",
    "    else:\n",
    "        print(f\"{person['name']} is not eligible for a driver's license.\")"
   ]
  },
  {
   "cell_type": "code",
   "execution_count": 19,
   "id": "44b52317-df78-4aa3-9546-63bf216e3e07",
   "metadata": {},
   "outputs": [
    {
     "name": "stdout",
     "output_type": "stream",
     "text": [
      "Sorted Numbers: [1, 3, 4, 12, 23, 34, 98]\n",
      "[' ', '!', ',', 'H', 'W', 'd', 'e', 'l', 'l', 'l', 'o', 'o', 'r']\n",
      "Sorted valid list: [1, 4, 5, 7, 9]\n"
     ]
    }
   ],
   "source": [
    "#4th question\n",
    "#Explore the documentation and get help from the community?\n",
    "def sort_list(my_list):\n",
    "    return sorted(my_list)\n",
    "numbers = [34, 1, 23, 4, 3, 98, 12]\n",
    "sorted_numbers = sort_list(numbers)\n",
    "print(\"Sorted Numbers:\", sorted_numbers)\n",
    "try:\n",
    "    invalid_input = \"Hello, World!\"\n",
    "    print(sort_list(invalid_input))  # This will fail\n",
    "except TypeError as e:\n",
    "    print(\"Error encountered:\", e)\n",
    "    print(\"\"\"\n",
    "    Tip from Stack Overflow community:\n",
    "    \"You passed a string instead of a list to the function. \n",
    "    Remember that the sorted() function requires an iterable like a list or tuple.\"\n",
    "    \"\"\")\n",
    "valid_input = [5, 7, 1, 9, 4]\n",
    "print(\"Sorted valid list:\", sort_list(valid_input))"
   ]
  },
  {
   "cell_type": "code",
   "execution_count": null,
   "id": "82b3bb51-6be5-495a-89f6-acae8de3d5df",
   "metadata": {},
   "outputs": [],
   "source": []
  }
 ],
 "metadata": {
  "kernelspec": {
   "display_name": "Python 3 (ipykernel)",
   "language": "python",
   "name": "python3"
  },
  "language_info": {
   "codemirror_mode": {
    "name": "ipython",
    "version": 3
   },
   "file_extension": ".py",
   "mimetype": "text/x-python",
   "name": "python",
   "nbconvert_exporter": "python",
   "pygments_lexer": "ipython3",
   "version": "3.12.4"
  }
 },
 "nbformat": 4,
 "nbformat_minor": 5
}
