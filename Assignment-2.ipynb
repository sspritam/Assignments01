{
 "cells": [
  {
   "cell_type": "code",
   "execution_count": 2,
   "id": "559e05a7-6ebe-4536-8b7a-a5be7f8cef8e",
   "metadata": {},
   "outputs": [
    {
     "name": "stdin",
     "output_type": "stream",
     "text": [
      "Enter a number: 9\n"
     ]
    },
    {
     "name": "stdout",
     "output_type": "stream",
     "text": [
      "Not a positive number\n",
      "This statement always executes\n"
     ]
    }
   ],
   "source": [
    "number = int(input('Enter a number:'))\n",
    "\n",
    "if number > 10:\n",
    "    print('positive number')\n",
    "else:\n",
    "    print('Not a positive number')\n",
    "\n",
    "print('This statement always executes')"
   ]
  },
  {
   "cell_type": "code",
   "execution_count": 4,
   "id": "882e1def-c9f3-432a-83b4-28aa4674aeca",
   "metadata": {},
   "outputs": [
    {
     "name": "stdin",
     "output_type": "stream",
     "text": [
      "Enter the length\n",
      " 3\n",
      "Enter the breadth\n",
      " 4\n"
     ]
    },
    {
     "name": "stdout",
     "output_type": "stream",
     "text": [
      "It is not a square\n"
     ]
    }
   ],
   "source": [
    "length=int(input(\"Enter the length\\n\"))\n",
    "breadth=int(input(\"Enter the breadth\\n\"))\n",
    "if length==breadth:\n",
    "    print(\"It is a square\")\n",
    "else:\n",
    "    print(\"It is not a square\")"
   ]
  },
  {
   "cell_type": "code",
   "execution_count": 6,
   "id": "9c960ee6-37b6-4055-aa1a-090ee2f0bbf0",
   "metadata": {},
   "outputs": [
    {
     "name": "stdout",
     "output_type": "stream",
     "text": [
      "1\n",
      "2\n",
      "3\n",
      "4\n",
      "5\n",
      "6\n",
      "7\n",
      "8\n",
      "9\n",
      "10\n"
     ]
    }
   ],
   "source": [
    "i=1\n",
    "while i<11:\n",
    "    print(i)\n",
    "    i=i+1"
   ]
  },
  {
   "cell_type": "code",
   "execution_count": 8,
   "id": "1ac76614-471a-493a-9fd8-e0f85e311947",
   "metadata": {},
   "outputs": [],
   "source": [
    "#4\n",
    "list1=[12,15,32,42,55,75,122,132,150,180,200]\n",
    "for num in list1:\n",
    "    if(num < 150):\n",
    "        if i%5==0:\n",
    "            print(num)"
   ]
  },
  {
   "cell_type": "code",
   "execution_count": 10,
   "id": "d2290e2b-a1bb-4b42-aefd-d1fa3be2f9b8",
   "metadata": {},
   "outputs": [
    {
     "name": "stdout",
     "output_type": "stream",
     "text": [
      "Number list is: [12, 15, 32, 42, 55, 75, 122, 132, 150, 180, 200]\n",
      "Divisible by 5 numbers is:\n",
      "15\n",
      "55\n",
      "75\n",
      "150\n",
      "180\n",
      "200\n"
     ]
    }
   ],
   "source": [
    "#4\n",
    "num_list=[12,15,32,42,55,75,122,132,150,180,200]\n",
    "print(\"Number list is:\",num_list)\n",
    "print(\"Divisible by 5 numbers is:\")\n",
    "for num in num_list:\n",
    "    if num%5==0:\n",
    "        print(num)"
   ]
  },
  {
   "cell_type": "code",
   "execution_count": 12,
   "id": "c5077726-3734-4d8a-be60-489e64587d10",
   "metadata": {},
   "outputs": [
    {
     "name": "stdout",
     "output_type": "stream",
     "text": [
      "0 1 2 4 5 \n",
      "\n"
     ]
    }
   ],
   "source": [
    "for x in range (6):\n",
    "    if (x == 3 or x == 6):\n",
    "        continue\n",
    "    print(x,end=' ')\n",
    "print(\"\\n\")"
   ]
  },
  {
   "cell_type": "code",
   "execution_count": 14,
   "id": "10c5fc88-caab-4e0b-ad03-35f60b95a2c2",
   "metadata": {},
   "outputs": [
    {
     "name": "stdin",
     "output_type": "stream",
     "text": [
      "enter a no:  3\n"
     ]
    },
    {
     "name": "stdout",
     "output_type": "stream",
     "text": [
      "loop exited without executing break command\n"
     ]
    },
    {
     "name": "stdin",
     "output_type": "stream",
     "text": [
      "enter a no:  2\n"
     ]
    },
    {
     "name": "stdout",
     "output_type": "stream",
     "text": [
      "loop exited without executing break command\n"
     ]
    },
    {
     "name": "stdin",
     "output_type": "stream",
     "text": [
      "enter a no:  1\n"
     ]
    },
    {
     "name": "stdout",
     "output_type": "stream",
     "text": [
      "loop exited without executing break command\n"
     ]
    },
    {
     "name": "stdin",
     "output_type": "stream",
     "text": [
      "enter a no:  0\n"
     ]
    },
    {
     "name": "stdout",
     "output_type": "stream",
     "text": [
      "exiting loop with break command, 'else' is not executed\n"
     ]
    }
   ],
   "source": [
    "#6\n",
    "a = 1\n",
    "while a <= 3:\n",
    "    b = int (input (\"enter a no: \"))\n",
    "    if b == 0:\n",
    "        print (\"exiting loop with break command, 'else' is not executed\")\n",
    "        break\n",
    "        a+=1\n",
    "    else:\n",
    "        print (\"loop exited without executing break command\")"
   ]
  },
  {
   "cell_type": "code",
   "execution_count": null,
   "id": "a4a40b87-b4d4-4b07-a33c-f1debd8b9e5f",
   "metadata": {},
   "outputs": [],
   "source": [
    "# 7 INFINITE LOOP (lag)\n",
    "i=1\n",
    "while True:\n",
    "    print(i)\n",
    "    i=i+1"
   ]
  },
  {
   "cell_type": "code",
   "execution_count": 16,
   "id": "15397abd-a6ea-44ba-aa45-017cda13b65c",
   "metadata": {},
   "outputs": [
    {
     "name": "stdout",
     "output_type": "stream",
     "text": [
      "10\n"
     ]
    }
   ],
   "source": [
    "#8\n",
    "x = 0\n",
    "while x < 10:\n",
    "    x+=1\n",
    "    if x==3:\n",
    "        continue\n",
    "else:\n",
    "    print(x)"
   ]
  },
  {
   "cell_type": "code",
   "execution_count": 18,
   "id": "9d6466f9-6236-483e-afd8-60ea792706f6",
   "metadata": {},
   "outputs": [
    {
     "name": "stdout",
     "output_type": "stream",
     "text": [
      "1\n",
      "2\n"
     ]
    }
   ],
   "source": [
    "#8\n",
    "x = [1,2,3,4,5,6]\n",
    "\n",
    "for i in x:\n",
    "    if i == 3:\n",
    "        break\n",
    "    else:\n",
    "        print(i)"
   ]
  },
  {
   "cell_type": "code",
   "execution_count": 20,
   "id": "8a73f6a9-aa1f-4d12-ab0b-638ccf096f31",
   "metadata": {},
   "outputs": [
    {
     "name": "stdout",
     "output_type": "stream",
     "text": [
      "The factorial of 4 is 1\n",
      "The factorial of 4 is 2\n",
      "The factorial of 4 is 6\n",
      "The factorial of 4 is 24\n"
     ]
    }
   ],
   "source": [
    "num = 4\n",
    "factorial = 1\n",
    "for i in range(1, num + 1):\n",
    "    factorial *= i\n",
    "    print(f\"The factorial of {num} is {factorial}\")"
   ]
  },
  {
   "cell_type": "code",
   "execution_count": 22,
   "id": "e4084e04-c71b-47d1-9f44-25ec6b01a319",
   "metadata": {},
   "outputs": [
    {
     "name": "stdout",
     "output_type": "stream",
     "text": [
      "3\n"
     ]
    }
   ],
   "source": [
    "x = 0\n",
    "while x < 5:\n",
    "    x += 1\n",
    "    if x == 3:\n",
    "        pass\n",
    "        print(x)"
   ]
  },
  {
   "cell_type": "code",
   "execution_count": 24,
   "id": "c0f1c4cc-b726-46b0-ab1f-d03c20568b3a",
   "metadata": {},
   "outputs": [
    {
     "name": "stdin",
     "output_type": "stream",
     "text": [
      "Enter salary 23000\n",
      "Enter year of service 6\n"
     ]
    },
    {
     "name": "stdout",
     "output_type": "stream",
     "text": [
      "24150.0\n"
     ]
    }
   ],
   "source": [
    "# LEVEL MODERATE\n",
    "#NO-1\n",
    "a=int(input(\"Enter salary\")) \n",
    "b=int(input(\"Enter year of service\"))\n",
    "c=a+a/20 #a/20 gives 5%\n",
    "if(b>5):\n",
    "    print(c)\n",
    "else:\n",
    "    print(a)"
   ]
  },
  {
   "cell_type": "code",
   "execution_count": 26,
   "id": "9743f63f-48e0-4de2-a83f-337c16d50645",
   "metadata": {},
   "outputs": [
    {
     "name": "stdin",
     "output_type": "stream",
     "text": [
      "Enter salary 23000\n",
      "Enter year of service 4\n"
     ]
    },
    {
     "name": "stdout",
     "output_type": "stream",
     "text": [
      "no bonus\n"
     ]
    }
   ],
   "source": [
    "#1 (no bonus)\n",
    "a=int(input(\"Enter salary\")) \n",
    "b=int(input(\"Enter year of service\"))\n",
    "c=a+a/20 #a/20 gives 5%\n",
    "if b>5:\n",
    "    print (\"bonus is\"),0.05*salary\n",
    "else:\n",
    "    print (\"no bonus\")"
   ]
  },
  {
   "cell_type": "code",
   "execution_count": 28,
   "id": "053f3ae1-090d-47fa-b630-a8485c01f75b",
   "metadata": {},
   "outputs": [
    {
     "name": "stdout",
     "output_type": "stream",
     "text": [
      "Student1  got the highest mark 65\n"
     ]
    }
   ],
   "source": [
    "marks = {'Student1': 65, 'Student2': 61, 'Student3': 45, 'Student4': 37, 'Student5': 38,'student6': 50}\n",
    "highest = max(marks.values())\n",
    "n = [k for k, v in marks.items() if v == highest]\n",
    "\n",
    "if len(n)==1:\n",
    "    print(n[0],' got the highest mark 65')\n",
    "elif len(n)==2:\n",
    "    print(n[0],'and',n[1],' got the highest mark65')\n",
    "elif len(n)==3:\n",
    "    print(n[0],',',n[1],'and',n[2],' got the highest mark65')"
   ]
  },
  {
   "cell_type": "code",
   "execution_count": 30,
   "id": "0e3e3e61-3601-4ce3-9498-e5020827dbdf",
   "metadata": {},
   "outputs": [
    {
     "ename": "SyntaxError",
     "evalue": "invalid syntax. Perhaps you forgot a comma? (787535513.py, line 3)",
     "output_type": "error",
     "traceback": [
      "\u001b[1;36m  Cell \u001b[1;32mIn[30], line 3\u001b[1;36m\u001b[0m\n\u001b[1;33m    printf(\"Enter N: \")\u001b[0m\n\u001b[1;37m    ^\u001b[0m\n\u001b[1;31mSyntaxError\u001b[0m\u001b[1;31m:\u001b[0m invalid syntax. Perhaps you forgot a comma?\n"
     ]
    }
   ],
   "source": [
    "{\n",
    "    a == (i, j, N):\n",
    "    printf(\"Enter N: \")\n",
    "    scanf(\"%d\", &N);\n",
    "    for(i=1; i<=N; i++)\n",
    "{\n",
    "    // Logic to print numbers\n",
    "for(j=1; j<=i; j++)\n",
    "{\n",
    "    printf(\"%d\", j);\n",
    "}\n",
    "printf(\"\\n\");\n",
    "}\n",
    "return 0;\n",
    "}"
   ]
  },
  {
   "cell_type": "code",
   "execution_count": 32,
   "id": "3241d5ae-fb0c-426e-9659-9c9e210f03ab",
   "metadata": {},
   "outputs": [
    {
     "name": "stdin",
     "output_type": "stream",
     "text": [
      "Enter number of rows:  5\n"
     ]
    },
    {
     "name": "stdout",
     "output_type": "stream",
     "text": [
      "1 \n",
      "1 2 \n",
      "1 2 3 \n",
      "1 2 3 4 \n",
      "1 2 3 4 5 \n"
     ]
    }
   ],
   "source": [
    "# 4\n",
    "#1 - 12 - 123 - 1234 Pattern up to n lines\n",
    "\n",
    "n = int ( input (\"Enter number of rows: \" ))\n",
    "\n",
    "for i in range ( 1,n+1 ) :\n",
    "    for j in range ( 1, i+1):\n",
    "        print( j, end= \" \" )\n",
    "\n",
    "    print()"
   ]
  },
  {
   "cell_type": "code",
   "execution_count": 34,
   "id": "a6685fe6-f917-449a-8849-a9a1cb2db47d",
   "metadata": {},
   "outputs": [
    {
     "name": "stdout",
     "output_type": "stream",
     "text": [
      "1 2 3 5 8 13 21 34 55 89 \n"
     ]
    }
   ],
   "source": [
    "n = 10\n",
    "num1 = 0\n",
    "num2 = 1\n",
    "next_number = num2  \n",
    "count = 1\n",
    "\n",
    "while count <= n:\n",
    "    print(next_number, end=\" \")\n",
    "    count += 1\n",
    "    num1, num2 = num2, next_number\n",
    "    next_number = num1 + num2\n",
    "print()"
   ]
  },
  {
   "cell_type": "code",
   "execution_count": 36,
   "id": "d0daccc9-ea42-43b5-99d5-079ebdb1255c",
   "metadata": {},
   "outputs": [
    {
     "name": "stdout",
     "output_type": "stream",
     "text": [
      "From 1 to 5\n",
      "1\n",
      "2\n",
      "Fizz\n",
      "4\n",
      "Buzz\n"
     ]
    }
   ],
   "source": [
    "def fizz_buzz(start, end):\n",
    "    if start > end:\n",
    "        print(\"Start should be less than or equal to end.\")\n",
    "        return\n",
    "\n",
    "    for fizzbuzz in range(start, end + 1):\n",
    "        if fizzbuzz % 3 == 0 and fizzbuzz % 5 == 0:\n",
    "            print(\"FizzBuzz\")\n",
    "        elif fizzbuzz % 3 == 0:\n",
    "            print(\"Fizz\")\n",
    "        elif fizzbuzz % 5 == 0:\n",
    "            print(\"Buzz\")\n",
    "        else:\n",
    "            print(fizzbuzz)\n",
    "\n",
    "print(\"From 1 to 5\")\n",
    "fizz_buzz(1, 5)"
   ]
  },
  {
   "cell_type": "code",
   "execution_count": 38,
   "id": "59cb4ece-5972-4cc0-971f-b100baaf0d42",
   "metadata": {},
   "outputs": [
    {
     "name": "stdout",
     "output_type": "stream",
     "text": [
      "The gcd of 10 and 20 is : 10\n"
     ]
    }
   ],
   "source": [
    "import math\n",
    "print(\"The gcd of 10 and 20 is : \",end=\"\")\n",
    "print(math.gcd(10,20))"
   ]
  },
  {
   "cell_type": "code",
   "execution_count": 40,
   "id": "ed9d4b71-67aa-4032-9210-59d9ee29ee02",
   "metadata": {},
   "outputs": [],
   "source": [
    "def cigar_party(cigars, is_weekend):\n",
    "    return cigars >= 40 if is_weekend else 40 <= cigar <= 60"
   ]
  },
  {
   "cell_type": "code",
   "execution_count": 42,
   "id": "b7b177b7-3567-4339-99b0-d069ecc3480c",
   "metadata": {},
   "outputs": [
    {
     "name": "stdin",
     "output_type": "stream",
     "text": [
      "Enter the string to check if it is a palindrome:  Malayalm\n"
     ]
    },
    {
     "name": "stdout",
     "output_type": "stream",
     "text": [
      "The string is not a palindrome.\n"
     ]
    }
   ],
   "source": [
    "#9\n",
    "str_1 = input (\"Enter the string to check if it is a palindrome: \")\n",
    "str_1 = str_1.casefold ()\n",
    "rev_str = reversed (str_1)\n",
    "if (\"list str_1\") == list (rev_str):\n",
    "    print (\"The string is palindrome.\")\n",
    "else:\n",
    "    print(\"The string is not a palindrome.\")"
   ]
  },
  {
   "cell_type": "code",
   "execution_count": 44,
   "id": "121a8fff-e83e-4253-852d-5ee37b7bce46",
   "metadata": {},
   "outputs": [
    {
     "name": "stdin",
     "output_type": "stream",
     "text": [
      "Enter any number:  28\n"
     ]
    },
    {
     "name": "stdout",
     "output_type": "stream",
     "text": [
      "The number is a perfect number!\n"
     ]
    }
   ],
   "source": [
    "#10\n",
    "n = int(input(\"Enter any number: \"))\n",
    "sum1 = 0\n",
    "for i in range(1, n):\n",
    "    if(n % i == 0):\n",
    "        sum1 = sum1 + i\n",
    "if (sum1 == n):\n",
    "    print(\"The number is a perfect number!\")\n",
    "else:\n",
    "    print(\"The number is not a perfect number!\")"
   ]
  },
  {
   "cell_type": "code",
   "execution_count": 46,
   "id": "d8e7ed7d-33e5-4e20-baa8-df4c6278cff8",
   "metadata": {},
   "outputs": [],
   "source": [
    "# DIFFIULT\n",
    "#01"
   ]
  },
  {
   "cell_type": "code",
   "execution_count": 48,
   "id": "c6ca8e72-63b8-431b-aac6-913dd39ccbf1",
   "metadata": {},
   "outputs": [],
   "source": [
    "#2  (out put not coming)\n",
    "def caught_speeding(speed, is_birthday):\n",
    "  while not is_birthday:\n",
    "    speed = range(0,81)\n",
    "    if speed <= 60:\n",
    "      return 0\n",
    "    elif speed > 65 and speed < 80:\n",
    "      return 1\n",
    "    else: \n",
    "      if speed > 81: \n",
    "        return 2\n",
    "  return speed - 5"
   ]
  },
  {
   "cell_type": "code",
   "execution_count": 50,
   "id": "d89bd1d4-8f88-4b0a-95f4-e92e91194d34",
   "metadata": {},
   "outputs": [
    {
     "name": "stdout",
     "output_type": "stream",
     "text": [
      "2\n",
      "24\n",
      "246\n",
      "2468\n",
      "24690\n"
     ]
    }
   ],
   "source": [
    "#3\n",
    "number_of_terms = 5\n",
    "sum1=0\n",
    "for i in range (1,number_of_terms+1):\n",
    "    num=eval('2'*i)\n",
    "    sum1+=num\n",
    "    print(sum1)"
   ]
  },
  {
   "cell_type": "code",
   "execution_count": 52,
   "id": "1d460241-5274-43a9-b71c-a01f2dd974ac",
   "metadata": {},
   "outputs": [
    {
     "name": "stdin",
     "output_type": "stream",
     "text": [
      "Enter the lowest range value: 25\n",
      "Enter the upper range value: 50\n"
     ]
    },
    {
     "name": "stdout",
     "output_type": "stream",
     "text": [
      "The prime numbers in the range are:\n",
      "25\n",
      "25\n",
      "25\n",
      "27\n",
      "29\n",
      "29\n",
      "29\n",
      "29\n",
      "29\n",
      "29\n",
      "29\n",
      "29\n",
      "29\n",
      "29\n",
      "29\n",
      "29\n",
      "29\n",
      "29\n",
      "29\n",
      "29\n",
      "29\n",
      "29\n",
      "29\n",
      "29\n",
      "29\n",
      "29\n",
      "29\n",
      "29\n",
      "29\n",
      "29\n",
      "29\n",
      "31\n",
      "31\n",
      "31\n",
      "31\n",
      "31\n",
      "31\n",
      "31\n",
      "31\n",
      "31\n",
      "31\n",
      "31\n",
      "31\n",
      "31\n",
      "31\n",
      "31\n",
      "31\n",
      "31\n",
      "31\n",
      "31\n",
      "31\n",
      "31\n",
      "31\n",
      "31\n",
      "31\n",
      "31\n",
      "31\n",
      "31\n",
      "31\n",
      "31\n",
      "33\n",
      "35\n",
      "35\n",
      "35\n",
      "37\n",
      "37\n",
      "37\n",
      "37\n",
      "37\n",
      "37\n",
      "37\n",
      "37\n",
      "37\n",
      "37\n",
      "37\n",
      "37\n",
      "37\n",
      "37\n",
      "37\n",
      "37\n",
      "37\n",
      "37\n",
      "37\n",
      "37\n",
      "37\n",
      "37\n",
      "37\n",
      "37\n",
      "37\n",
      "37\n",
      "37\n",
      "37\n",
      "37\n",
      "37\n",
      "37\n",
      "37\n",
      "37\n",
      "37\n",
      "37\n",
      "39\n",
      "41\n",
      "41\n",
      "41\n",
      "41\n",
      "41\n",
      "41\n",
      "41\n",
      "41\n",
      "41\n",
      "41\n",
      "41\n",
      "41\n",
      "41\n",
      "41\n",
      "41\n",
      "41\n",
      "41\n",
      "41\n",
      "41\n",
      "41\n",
      "41\n",
      "41\n",
      "41\n",
      "41\n",
      "41\n",
      "41\n",
      "41\n",
      "41\n",
      "41\n",
      "41\n",
      "41\n",
      "41\n",
      "41\n",
      "41\n",
      "41\n",
      "41\n",
      "41\n",
      "41\n",
      "41\n",
      "43\n",
      "43\n",
      "43\n",
      "43\n",
      "43\n",
      "43\n",
      "43\n",
      "43\n",
      "43\n",
      "43\n",
      "43\n",
      "43\n",
      "43\n",
      "43\n",
      "43\n",
      "43\n",
      "43\n",
      "43\n",
      "43\n",
      "43\n",
      "43\n",
      "43\n",
      "43\n",
      "43\n",
      "43\n",
      "43\n",
      "43\n",
      "43\n",
      "43\n",
      "43\n",
      "43\n",
      "43\n",
      "43\n",
      "43\n",
      "43\n",
      "43\n",
      "43\n",
      "43\n",
      "43\n",
      "43\n",
      "43\n",
      "45\n",
      "47\n",
      "47\n",
      "47\n",
      "47\n",
      "47\n",
      "47\n",
      "47\n",
      "47\n",
      "47\n",
      "47\n",
      "47\n",
      "47\n",
      "47\n",
      "47\n",
      "47\n",
      "47\n",
      "47\n",
      "47\n",
      "47\n",
      "47\n",
      "47\n",
      "47\n",
      "47\n",
      "47\n",
      "47\n",
      "47\n",
      "47\n",
      "47\n",
      "47\n",
      "47\n",
      "47\n",
      "47\n",
      "47\n",
      "47\n",
      "47\n",
      "47\n",
      "47\n",
      "47\n",
      "47\n",
      "47\n",
      "47\n",
      "47\n",
      "47\n",
      "47\n",
      "47\n",
      "49\n",
      "49\n",
      "49\n",
      "49\n",
      "49\n"
     ]
    }
   ],
   "source": [
    "#4\n",
    "lower_value = int(input(\"Enter the lowest range value:\"))\n",
    "upper_value = int(input(\"Enter the upper range value:\"))\n",
    "print(\"The prime numbers in the range are:\")\n",
    "for number in range(lower_value,upper_value+1):\n",
    "    if number>1:\n",
    "        for i in range(2,number):\n",
    "            if(number%i)==0:\n",
    "                break\n",
    "            else:\n",
    "                print(number)"
   ]
  },
  {
   "cell_type": "code",
   "execution_count": 54,
   "id": "6b34eb13-4fa8-4e2c-8dfa-fc6a91a19b1c",
   "metadata": {},
   "outputs": [
    {
     "name": "stdin",
     "output_type": "stream",
     "text": [
      "Enter how many lines?  4\n"
     ]
    },
    {
     "name": "stdout",
     "output_type": "stream",
     "text": [
      "   1\n",
      "  121\n",
      " 12321\n",
      "1234321\n"
     ]
    }
   ],
   "source": [
    "row = int(input('Enter how many lines? '))\n",
    "for i in range(1,row+1):\n",
    "    for j in range(1, row+1-i):\n",
    "        print(' ', end='')\n",
    "    for j in range(1,i+1):\n",
    "        print(j, end='') \n",
    "    for j in range(i-1,0,-1):\n",
    "        print(j, end='')\n",
    "    print()\n"
   ]
  },
  {
   "cell_type": "code",
   "execution_count": 56,
   "id": "44b3e04e-f8a5-4465-b34f-d425c1a0dd69",
   "metadata": {},
   "outputs": [
    {
     "name": "stdout",
     "output_type": "stream",
     "text": [
      "2\n"
     ]
    },
    {
     "name": "stdin",
     "output_type": "stream",
     "text": [
      "Enter your numerical guess.  3\n"
     ]
    },
    {
     "name": "stdout",
     "output_type": "stream",
     "text": [
      "The number 3 was an incorrect guess. and you have 2 guesses left \n"
     ]
    },
    {
     "name": "stdin",
     "output_type": "stream",
     "text": [
      "Enter in your numerical guess.  4\n"
     ]
    },
    {
     "name": "stdout",
     "output_type": "stream",
     "text": [
      "The number 4 was an incorrect guess. and you have 1 guesses left \n"
     ]
    },
    {
     "name": "stdin",
     "output_type": "stream",
     "text": [
      "Enter in your numerical guess.  2\n"
     ]
    },
    {
     "name": "stdout",
     "output_type": "stream",
     "text": [
      "You Win! \n"
     ]
    }
   ],
   "source": [
    "import random\n",
    "random_number = random.randint(0, 10)\n",
    "print(random_number)     \n",
    "guess = int(input(\"Enter your numerical guess. \"))\n",
    "number_of_guess_left = 3\n",
    "while number_of_guess_left > 0:\n",
    "    number_of_guess_left -= 1\n",
    "    if guess == random_number:\n",
    "      print(\"You Win! \")\n",
    "      break\n",
    "    else:\n",
    "      if number_of_guess_left == 0:\n",
    "          print(\"You lose! You have no more chances left.\")\n",
    "          break\n",
    "      else:\n",
    "          print(f\"The number {guess} was an incorrect guess. and you have {number_of_guess_left} guesses left \")\n",
    "          guess = int(input(\"Enter in your numerical guess. \"))"
   ]
  },
  {
   "cell_type": "code",
   "execution_count": 60,
   "id": "b722c85a-f7b2-43a0-8760-daa43dd30e76",
   "metadata": {},
   "outputs": [
    {
     "name": "stdin",
     "output_type": "stream",
     "text": [
      "Player 1, choose rock, paper, or scissors:  rock\n",
      "Player 2, choose rock, paper, or scissors:  scissors\n"
     ]
    },
    {
     "name": "stdout",
     "output_type": "stream",
     "text": [
      "Rock hits scissors. Player 1 wins Player 2 loses!\n"
     ]
    }
   ],
   "source": [
    "p_1 = input(\"Player 1, choose rock, paper, or scissors: \")\n",
    "p_2 = input(\"Player 2, choose rock, paper, or scissors: \")\n",
    " \n",
    "def play (player_1, player_2):\n",
    "    if player_1 == player_2:\n",
    "        return play_again()\n",
    " \n",
    "    elif player_1 == 'rock'.lower():\n",
    "        if player_2 == 'scissors'.lower():\n",
    "            return \"Rock hits scissors. Player 1 wins Player 2 loses!\"\n",
    " \n",
    "    elif player_1 == 'paper'.lower():\n",
    "        if player_2 == 'scissors'.lower():\n",
    "            return \"Scissors cut paper. Player 2 wins Player 1 loses\"\n",
    " \n",
    "    elif player_1 == 'scissors'.lower():\n",
    "        if player_2 == 'rock'.lower():\n",
    "            return \"Rock hits scissors. Player 2 wins Player 1 loses!\"\n",
    " \n",
    "    elif player_1 == 'rock'.lower():\n",
    "        if player_2 == 'paper'.lower():\n",
    "            return \"Paper covers rock. Player 2 wins Player 1 loses!\"\n",
    " \n",
    "    elif player_1 == 'scissors'.lower():\n",
    "        if player_2 == 'paper'.lower():\n",
    "            return \"Scissors cut paper. Player 1 wins Player 2 loses!\"\n",
    " \n",
    "    elif player_1 == 'paper'.lower():\n",
    "        if player_2 == 'rock'.lower():\n",
    "            return \"Paper covers rock. Player 1 wins Player 2 loses!\"\n",
    "        else:\n",
    "            return \"Paper wins\"\n",
    "    else:\n",
    "        print(\"Invalid choice. Type either, type rock, paper, or scissors.\")\n",
    "        return play(p_1, p_2)\n",
    " \n",
    "print(play(p_1, p_2))"
   ]
  },
  {
   "cell_type": "code",
   "execution_count": 62,
   "id": "c4570634-d697-4a41-88aa-d6af3359b3cb",
   "metadata": {},
   "outputs": [
    {
     "name": "stdin",
     "output_type": "stream",
     "text": [
      "Input number of rows:  3\n",
      "Input number of columns:  4\n"
     ]
    },
    {
     "name": "stdout",
     "output_type": "stream",
     "text": [
      "[[0, 0, 0, 0], [0, 1, 2, 3], [0, 2, 4, 6]]\n"
     ]
    }
   ],
   "source": [
    "row_num = int(input(\"Input number of rows: \"))\n",
    "col_num = int(input(\"Input number of columns: \"))\n",
    "multi_list = [[0 for col in range(col_num)] for row in range(row_num)]\n",
    "for row in range(row_num):\n",
    "    for col in range(col_num):\n",
    "        multi_list[row][col] = row * col\n",
    "print(multi_list)"
   ]
  },
  {
   "cell_type": "code",
   "execution_count": 64,
   "id": "f65daa0c-bce2-4cf2-b001-267c3875b7a8",
   "metadata": {},
   "outputs": [
    {
     "name": "stdin",
     "output_type": "stream",
     "text": [
      "  hi its me\n",
      "  hi its me\n",
      "  hi its me\n",
      "  hi its me\n",
      "  hi its me\n",
      "  hi its me\n",
      "  hi its me\n",
      "  hi its me\n",
      "  hi its me\n",
      "  hi its me\n",
      "  hi its me\n",
      "  hi its me\n",
      "  hi its me\n",
      "  hi its me\n",
      "  hi its me\n",
      "  hi its me\n",
      "  hi its me\n",
      "  hi its me\n",
      "  hi its me\n",
      "  hi its me\n",
      "  hi its me\n",
      "  hi its me\n",
      "  hi its me\n",
      "  hi its me\n",
      "  hi its me\n",
      "  hi its me\n",
      "  hi its me\n",
      "  hi its me\n",
      "  hi its me\n",
      "  hi its me\n",
      "  hi its me\n",
      "  hi its me\n",
      "  hi its me\n",
      "  hi its me\n",
      "  hi its me\n",
      "  hi its me\n",
      "  hi its me\n",
      "  hi its me\n",
      "  hi its me\n",
      " \n"
     ]
    }
   ],
   "source": [
    "lines = []\n",
    "while True:\n",
    "    l = input()\n",
    "    if l:\n",
    "        lines.append(l.upper())\n",
    "    else:\n",
    "        break;\n",
    "        for l in lines:\n",
    "            print(l)"
   ]
  },
  {
   "cell_type": "code",
   "execution_count": 68,
   "id": "a1f4d0f6-f62f-4fd0-a678-ddf29124d343",
   "metadata": {},
   "outputs": [],
   "source": [
    "#9\n"
   ]
  },
  {
   "cell_type": "code",
   "execution_count": 78,
   "id": "05cb1fe4-15a7-45c3-a0f2-e9b18832865b",
   "metadata": {},
   "outputs": [
    {
     "name": "stdin",
     "output_type": "stream",
     "text": [
      "Input your password sp@2024s\n"
     ]
    },
    {
     "name": "stdout",
     "output_type": "stream",
     "text": [
      "Not a Valid Password\n"
     ]
    }
   ],
   "source": [
    "#10\n",
    "import re\n",
    "p = input(\"Input your password\")\n",
    "x = True\n",
    "while x:\n",
    "    if (len(p) < 6 or len(p) >12):\n",
    "        break\n",
    "    elif not re.search(\"[a-z]\", p):\n",
    "        break\n",
    "    elif not re.search(\"[0-9]\", p):\n",
    "        break\n",
    "    elif not re.search(\"[A-Z]\", p):\n",
    "        break\n",
    "    elif not re.search(\"[$#@]\", p):\n",
    "        break\n",
    "    else:\n",
    "        print(\"Valid Password\")\n",
    "        x = False\n",
    "        break\n",
    "if x:\n",
    "    print(\"Not a Valid Password\")"
   ]
  },
  {
   "cell_type": "code",
   "execution_count": null,
   "id": "8c5b5d8a-d425-4ffb-b1af-1858450d847d",
   "metadata": {},
   "outputs": [],
   "source": []
  }
 ],
 "metadata": {
  "kernelspec": {
   "display_name": "Python 3 (ipykernel)",
   "language": "python",
   "name": "python3"
  },
  "language_info": {
   "codemirror_mode": {
    "name": "ipython",
    "version": 3
   },
   "file_extension": ".py",
   "mimetype": "text/x-python",
   "name": "python",
   "nbconvert_exporter": "python",
   "pygments_lexer": "ipython3",
   "version": "3.12.4"
  }
 },
 "nbformat": 4,
 "nbformat_minor": 5
}
