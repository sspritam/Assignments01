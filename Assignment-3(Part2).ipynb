{
 "cells": [
  {
   "cell_type": "markdown",
   "id": "f666ee36-32dc-456b-8fd3-da1982097ecb",
   "metadata": {},
   "source": [
    "LVL-EASY"
   ]
  },
  {
   "cell_type": "code",
   "execution_count": 5,
   "id": "1e355969-06bc-4e6a-bcae-186eb6e86c33",
   "metadata": {},
   "outputs": [
    {
     "name": "stdout",
     "output_type": "stream",
     "text": [
      "ivnaaJsIemaNyM\n"
     ]
    }
   ],
   "source": [
    "str = 'MyNameIsJaanvi'\n",
    "reversed_string = 'MyNameIsJaanvi'[::-1]\n",
    "print(reversed_string)"
   ]
  },
  {
   "cell_type": "code",
   "execution_count": 9,
   "id": "38b89843-31ba-4f6e-ba66-e2052d92f938",
   "metadata": {},
   "outputs": [
    {
     "name": "stdout",
     "output_type": "stream",
     "text": [
      "lovely.\n"
     ]
    }
   ],
   "source": [
    "string = 'The winter is so lovely. I wish it stayed here for longer.'\n",
    "word = string.split()[4]\n",
    "print(word)"
   ]
  },
  {
   "cell_type": "code",
   "execution_count": 11,
   "id": "60460191-1984-47e2-ae7f-fb4714c80ccf",
   "metadata": {},
   "outputs": [
    {
     "name": "stdout",
     "output_type": "stream",
     "text": [
      "73.0\n"
     ]
    }
   ],
   "source": [
    "#3\n",
    "spam = \"7\"\n",
    "spam = spam + \"0\"\n",
    "eggs = int(spam) + 3\n",
    "print(float(eggs))"
   ]
  },
  {
   "cell_type": "code",
   "execution_count": 13,
   "id": "c9a47fbe-facb-45d0-b7bf-848a88f240c3",
   "metadata": {},
   "outputs": [
    {
     "name": "stdout",
     "output_type": "stream",
     "text": [
      "Sum = 15\n"
     ]
    }
   ],
   "source": [
    "#4\n",
    "program = 'a = 5\\nb=10\\nprint(\"Sum =\", a+b)'\n",
    "exec(program)"
   ]
  },
  {
   "cell_type": "code",
   "execution_count": 16,
   "id": "74cc71cf-ff88-479d-8fdd-e653fe44f0a7",
   "metadata": {},
   "outputs": [
    {
     "name": "stdout",
     "output_type": "stream",
     "text": [
      "['MynameisShankar', 'IlovePython']\n"
     ]
    }
   ],
   "source": [
    "#5\n",
    "def remove_whitespaces(sentences):\n",
    "    return [sentence.replace(\" \", \"\") for sentence in sentences]\n",
    "list1 = [\"My name is Shankar\", \"I love Python\"]\n",
    "output = remove_whitespaces(list1)\n",
    "print(output)"
   ]
  },
  {
   "cell_type": "code",
   "execution_count": 18,
   "id": "3c67c43f-35c1-4e70-abbc-700e2af138da",
   "metadata": {},
   "outputs": [
    {
     "name": "stdout",
     "output_type": "stream",
     "text": [
      "{'Kavitha': 19, 'Aksar': 20, 'Seema': 21}\n",
      "Kavitha: 19\n",
      "Aksar: 20\n",
      "Seema: 21\n"
     ]
    }
   ],
   "source": [
    "age = {\n",
    "    \"Kavitha\": 19,\n",
    "    \"Aksar\": 20,\n",
    "    \"Seema\": 21,\n",
    "}\n",
    "print(age)\n",
    "for name, age_value in age.items():\n",
    "    print(f\"{name}: {age_value}\")"
   ]
  },
  {
   "cell_type": "code",
   "execution_count": 20,
   "id": "e6839567-a847-4480-992c-096153b6595a",
   "metadata": {},
   "outputs": [
    {
     "name": "stdout",
     "output_type": "stream",
     "text": [
      "-427\n"
     ]
    }
   ],
   "source": [
    "#7\n",
    "dict = {\"name\": \"Plato\", \"country\": \"Ancient Greece\", \"born\": -427, \"teacher\": \"Socrates\", \"student\": \"Aristole\"}\n",
    "answer_1 = dict[\"born\"]\n",
    "print(answer_1)"
   ]
  },
  {
   "cell_type": "code",
   "execution_count": 22,
   "id": "8de13182-64e1-4aed-8968-7ede3b6cf423",
   "metadata": {},
   "outputs": [
    {
     "name": "stdout",
     "output_type": "stream",
     "text": [
      "-428\n"
     ]
    }
   ],
   "source": [
    "#8\n",
    "dict = {\"name\": \"Plato\", \"country\": \"Ancient Greece\", \"born\": -427, \"teacher\": \"Socrates\", \"student\": \"Aristole\"}\n",
    "dict[\"born\"] = -428\n",
    "print(dict[\"born\"])"
   ]
  },
  {
   "cell_type": "code",
   "execution_count": 24,
   "id": "48d3305a-27c7-4bf1-a333-376b46fc6b88",
   "metadata": {},
   "outputs": [
    {
     "name": "stdout",
     "output_type": "stream",
     "text": [
      "{'name': 'Plato', 'country': 'Ancient Greece', 'born': -427, 'teacher': 'Socrates', 'student': 'Aristotle', 'work': ['Apology', 'Phaedo', 'Republic', 'Symposium']}\n"
     ]
    }
   ],
   "source": [
    "#9\n",
    "dict = {\n",
    "    \"name\": \"Plato\",\n",
    "    \"country\": \"Ancient Greece\",\n",
    "    \"born\": -427,\n",
    "    \"teacher\": \"Socrates\",\n",
    "    \"student\": \"Aristotle\"\n",
    "}\n",
    "dict[\"work\"] = [\"Apology\", \"Phaedo\", \"Republic\", \"Symposium\"]\n",
    "# Print the updated dictionary\n",
    "print(dict)"
   ]
  },
  {
   "cell_type": "code",
   "execution_count": 3,
   "id": "7b1b7d7b-16ed-4c63-b90d-968a42907387",
   "metadata": {},
   "outputs": [
    {
     "name": "stdout",
     "output_type": "stream",
     "text": [
      "{'Ten': 10, 'Twenty': 20, 'Thirty': 30}\n"
     ]
    }
   ],
   "source": [
    "keys = ['Ten', 'Twenty', 'Thirty']\n",
    "values = [10, 20, 30]\n",
    "result_dict = dict(zip(keys, values))\n",
    "print(result_dict)"
   ]
  },
  {
   "cell_type": "markdown",
   "id": "66908f7a-78f1-4883-b9ea-b227b3bcf72f",
   "metadata": {},
   "source": [
    "LVL-MODERATE"
   ]
  },
  {
   "cell_type": "code",
   "execution_count": 27,
   "id": "f3ac7c27-35b4-4397-aa98-881167b60f13",
   "metadata": {},
   "outputs": [
    {
     "name": "stdout",
     "output_type": "stream",
     "text": [
      "{'lower_case': 8, 'upper_case': 2, 'digits': 3, 'special_symbols': 4}\n"
     ]
    }
   ],
   "source": [
    "#1\n",
    "def count_characters(s):\n",
    "    lower_case = sum(1 for char in s if char.islower())\n",
    "    upper_case = sum(1 for char in s if char.isupper())\n",
    "    digits = sum(1 for char in s if char.isdigit())\n",
    "    special_symbols = sum(1 for char in s if not char.isalnum())\n",
    "    return {\n",
    "        \"lower_case\": lower_case,\n",
    "        \"upper_case\": upper_case,\n",
    "        \"digits\": digits,\n",
    "        \"special_symbols\": special_symbols\n",
    "    }\n",
    "input_string = \"Hello, World! 123\"\n",
    "result = count_characters(input_string)\n",
    "print(result)"
   ]
  },
  {
   "cell_type": "code",
   "execution_count": 33,
   "id": "38d459d7-3018-4ea9-98d5-416d61f293e1",
   "metadata": {},
   "outputs": [
    {
     "name": "stdout",
     "output_type": "stream",
     "text": [
      "The count of 'Canada' is : 2\n"
     ]
    }
   ],
   "source": [
    "#2\n",
    "country_string = \"Welome to Canada! Canada is my Best Friends Contry\"\n",
    "count = country_string.lower().count('canada')\n",
    "print(f\"The count of 'Canada' is : {count}\")"
   ]
  },
  {
   "cell_type": "code",
   "execution_count": 35,
   "id": "f3aa8c8c-8dd2-4334-a486-08993701608f",
   "metadata": {},
   "outputs": [
    {
     "name": "stdout",
     "output_type": "stream",
     "text": [
      "Last occurrence of Jason starts at index 44\n"
     ]
    }
   ],
   "source": [
    "sentence_str = \"Jason is a data scientist who knows python. Jason works at google.\"\n",
    "last_index = sentence_str.rfind(\"Jason\")\n",
    "print(f\"Last occurrence of Jason starts at index {last_index}\")"
   ]
  },
  {
   "cell_type": "code",
   "execution_count": 37,
   "id": "7aad5324-75b7-4038-bbcc-425b5c1265d6",
   "metadata": {},
   "outputs": [
    {
     "name": "stdin",
     "output_type": "stream",
     "text": [
      "Enter your full name:  Neil Nitin Mukesh\n"
     ]
    },
    {
     "name": "stdout",
     "output_type": "stream",
     "text": [
      "N.N.Mukesh\n"
     ]
    }
   ],
   "source": [
    "full_name = input(\"Enter your full name: \")\n",
    "name_parts = full_name.split()\n",
    "abbreviated_name = \".\".join(part[0] for part in name_parts[:-1]) + \".\" + name_parts[-1]\n",
    "print(abbreviated_name)"
   ]
  },
  {
   "cell_type": "code",
   "execution_count": 39,
   "id": "b297d6e2-d258-49f7-9fa8-ea92832b8aa8",
   "metadata": {},
   "outputs": [
    {
     "name": "stdout",
     "output_type": "stream",
     "text": [
      "{'O': 1}\n",
      "{'O': 1, 'r': 1}\n",
      "{'O': 1, 'r': 1, 'a': 1}\n",
      "{'O': 1, 'r': 1, 'a': 1, 'n': 1}\n",
      "{'O': 1, 'r': 1, 'a': 1, 'n': 1, 'g': 1}\n",
      "{'O': 1, 'r': 1, 'a': 1, 'n': 1, 'g': 1, 'e': 1}\n"
     ]
    }
   ],
   "source": [
    "#5\n",
    "fruit = \"Orange\"\n",
    "char_count = {}\n",
    "for char in fruit:\n",
    "    char_count[char] = char_count.get(char, 0) + 1\n",
    "    print(char_count)"
   ]
  },
  {
   "cell_type": "code",
   "execution_count": 41,
   "id": "d9c057ea-6a3a-4d6c-acaa-9c5a275d6808",
   "metadata": {},
   "outputs": [
    {
     "name": "stdout",
     "output_type": "stream",
     "text": [
      "{'Ten': 10, 'Twenty': 20, 'Thirty': 30, 'Fourty': 40, 'Fifty': 50}\n"
     ]
    }
   ],
   "source": [
    "#6\n",
    "dict1 = {'Ten': 10, 'Twenty': 20, 'Thirty': 30}\n",
    "dict2 = {'Thirty': 30, 'Fourty': 40, 'Fifty': 50}\n",
    "dict3 = dict1.copy()\n",
    "dict3.update(dict2)\n",
    "print(dict3)"
   ]
  },
  {
   "cell_type": "code",
   "execution_count": 45,
   "id": "82d79841-97ea-4342-a000-addcbc051eb1",
   "metadata": {},
   "outputs": [
    {
     "name": "stdout",
     "output_type": "stream",
     "text": [
      "math\n"
     ]
    }
   ],
   "source": [
    "#7\n",
    "sampleDict = {'physic':82, 'math':65, 'history':75}\n",
    "min_key = min(sampleDict, key=sampleDict.get)\n",
    "print(min_key)"
   ]
  },
  {
   "cell_type": "code",
   "execution_count": 47,
   "id": "ab4eb9d0-5fee-44bc-932f-7f9c85bbb276",
   "metadata": {},
   "outputs": [
    {
     "name": "stdout",
     "output_type": "stream",
     "text": [
      "{'name': 'Donna', 'salary': 800000}\n"
     ]
    }
   ],
   "source": [
    "#8\n",
    "sample_keyvalue = {\"name\": \"Donna\", \"age\": 45, \"salary\": 800000, \"city\": \"New York\"}\n",
    "keys = [\"name\", \"salary\"]\n",
    "new_dict = {key: sample_keyvalue[key] for key in keys}\n",
    "print(new_dict)"
   ]
  },
  {
   "cell_type": "code",
   "execution_count": 51,
   "id": "96b5cbc7-3140-49f0-a762-ffeb9b04e4cc",
   "metadata": {},
   "outputs": [
    {
     "name": "stdout",
     "output_type": "stream",
     "text": [
      "{'Benson': 175, 'Jason': 180, 'Pierre': 190}\n"
     ]
    }
   ],
   "source": [
    "#9\n",
    "marks = {'Benson': 175, 'Jason': 180, 'Clarke': 165, 'Pierre': 190}\n",
    "filtered_marks = {key: value for key, value in marks.items() if value >= 170}\n",
    "print(filtered_marks)"
   ]
  },
  {
   "cell_type": "code",
   "execution_count": 55,
   "id": "70481c51-6e48-4e73-b43a-05aeafa6c3ff",
   "metadata": {},
   "outputs": [
    {
     "name": "stdout",
     "output_type": "stream",
     "text": [
      "Sally: 43\n"
     ]
    }
   ],
   "source": [
    "#10\n",
    "dict1 = {'Sally': 43, 'Mukund': 33, 'Jasmine': 24} \n",
    "dict2 = {'Sally': 43, 'Hiren': 29}\n",
    "common_items = {key: dict1[key] for key in dict1 if key in dict2 and dict1[key] == dict2[key]}\n",
    "for key, value in common_items.items():\n",
    "    print(f\"{key}: {value}\")"
   ]
  },
  {
   "cell_type": "markdown",
   "id": "027cf2f2-a112-49b9-a42a-2457c6e9e06b",
   "metadata": {},
   "source": [
    "LVL-DIFFICULT"
   ]
  },
  {
   "cell_type": "code",
   "execution_count": 5,
   "id": "94adf013-4536-4d72-9fb3-3cd2bdb1a3d6",
   "metadata": {},
   "outputs": [
    {
     "name": "stdout",
     "output_type": "stream",
     "text": [
      "None\n"
     ]
    }
   ],
   "source": [
    "#1\n",
    "str1 = \"JaSonay\"\n",
    "result = middle_three_chars(str1)\n",
    "print(result)"
   ]
  },
  {
   "cell_type": "code",
   "execution_count": 1,
   "id": "e0babb8b-06bc-4ae4-b97d-4d186fa10d97",
   "metadata": {},
   "outputs": [
    {
     "name": "stdout",
     "output_type": "stream",
     "text": [
      "CoPythonOl\n"
     ]
    }
   ],
   "source": [
    "#2\n",
    "s1 = \"CoOl\"\n",
    "s2 = \"Python\"\n",
    "midpoint = len(s1) // 2\n",
    "new_string = s1[:midpoint] + s2 + s1[midpoint:]\n",
    "print(new_string)\n"
   ]
  },
  {
   "cell_type": "code",
   "execution_count": 3,
   "id": "2e1a4d5b-01ca-4c56-a474-35bdd6ab0a59",
   "metadata": {},
   "outputs": [
    {
     "name": "stdout",
     "output_type": "stream",
     "text": [
      "pyoTHN\n"
     ]
    }
   ],
   "source": [
    "#3\n",
    "str1 = \"pyTHoN\"\n",
    "lowercase = ''.join(char for char in str1 if char.islower())\n",
    "uppercase = ''.join(char for char in str1 if char.isupper())\n",
    "result = lowercase + uppercase\n",
    "print(result)\n"
   ]
  },
  {
   "cell_type": "code",
   "execution_count": 7,
   "id": "139d62f4-7de2-4c42-9029-df03ac4e1757",
   "metadata": {},
   "outputs": [
    {
     "name": "stdout",
     "output_type": "stream",
     "text": [
      "sum is 294\n",
      "average is 73.5\n"
     ]
    }
   ],
   "source": [
    "#4\n",
    "str1 = \"Computer = 65 Science = 68 Math = 83 Geography = 78\"\n",
    "numbers = [int(num) for num in str1.split() if num.isdigit()]\n",
    "total_sum = sum(numbers)\n",
    "average = total_sum / len(numbers) if numbers else 0\n",
    "print(f\"sum is {total_sum}\")\n",
    "print(f\"average is {average:.1f}\")\n"
   ]
  },
  {
   "cell_type": "code",
   "execution_count": 9,
   "id": "063d9bf4-d6ba-4fe1-9c51-b390d9b5e152",
   "metadata": {},
   "outputs": [
    {
     "name": "stdout",
     "output_type": "stream",
     "text": [
      "eoaeaooa\n"
     ]
    }
   ],
   "source": [
    "input_str = \"Hello, have a good day\"\n",
    "vowels = \"aeiouAEIOU\"\n",
    "new_string = ''.join(char for char in input_str if char in vowels)\n",
    "print(new_string)"
   ]
  },
  {
   "cell_type": "code",
   "execution_count": 11,
   "id": "5d4d9fee-48f5-4b24-80b1-13324b559798",
   "metadata": {},
   "outputs": [
    {
     "name": "stdout",
     "output_type": "stream",
     "text": [
      "{1: 1, 2: 4, 3: 9, 4: 16, 5: 25}\n"
     ]
    }
   ],
   "source": [
    "#6\n",
    "n = 5\n",
    "squared_dict = {x: x * x for x in range(1, n + 1)}\n",
    "print(squared_dict)\n"
   ]
  },
  {
   "cell_type": "code",
   "execution_count": 15,
   "id": "db01adc2-7a77-4313-a7ce-f6775591c067",
   "metadata": {},
   "outputs": [
    {
     "name": "stdout",
     "output_type": "stream",
     "text": [
      "Counter({'a': 400, 'b': 400, 'd': 400, 'c': 300})\n"
     ]
    }
   ],
   "source": [
    "#7\n",
    "from collections import Counter\n",
    "d1 = {'a': 100, 'b': 200, 'c': 300}\n",
    "d2 = {'a': 300, 'b': 200, 'd': 400}\n",
    "combined = Counter(d1) + Counter(d2)\n",
    "print(combined)"
   ]
  },
  {
   "cell_type": "code",
   "execution_count": 17,
   "id": "981746b7-f9a2-464d-a841-5917b7987f5f",
   "metadata": {},
   "outputs": [
    {
     "name": "stdout",
     "output_type": "stream",
     "text": [
      "ac\n",
      "ad\n",
      "bc\n",
      "bd\n"
     ]
    }
   ],
   "source": [
    "from itertools import product\n",
    "data = {'1': ['a', 'b'], '2': ['c', 'd']}\n",
    "combinations = product(*data.values())\n",
    "for combo in combinations:\n",
    "    print(''.join(combo))"
   ]
  },
  {
   "cell_type": "code",
   "execution_count": 19,
   "id": "baf4658a-c4ff-4ca9-a559-a0e83811dea1",
   "metadata": {},
   "outputs": [
    {
     "name": "stdout",
     "output_type": "stream",
     "text": [
      "{'T': 1, 'o': 4, 'G': 1, 'd': 1}\n"
     ]
    }
   ],
   "source": [
    "#9\n",
    "input_string = 'TooGood'\n",
    "letter_count = {}\n",
    "for letter in input_string:\n",
    "    if letter in letter_count:\n",
    "        letter_count[letter] += 1\n",
    "    else:\n",
    "        letter_count[letter] = 1\n",
    "print(letter_count) "
   ]
  },
  {
   "cell_type": "code",
   "execution_count": 21,
   "id": "2e266313-ba8b-436a-9fb2-931f2fc75c36",
   "metadata": {},
   "outputs": [
    {
     "name": "stdout",
     "output_type": "stream",
     "text": [
      "{'FavCol': 'Red', 'DoorCol': 'Brown', 'WallCol': 'Green'}\n"
     ]
    }
   ],
   "source": [
    "#10\n",
    "original_dict = {\n",
    "    'FavCol': 'Red',\n",
    "    'DoorCol': 'Brown',\n",
    "    'FloorCol': None,\n",
    "    'WallCol': 'Green'\n",
    "}\n",
    "new_dict = {key: value for key, value in original_dict.items() if value}\n",
    "print(new_dict)"
   ]
  },
  {
   "cell_type": "code",
   "execution_count": null,
   "id": "7dffbadb-4f2f-4a39-a07c-94096d5c32b0",
   "metadata": {},
   "outputs": [],
   "source": []
  }
 ],
 "metadata": {
  "kernelspec": {
   "display_name": "Python 3 (ipykernel)",
   "language": "python",
   "name": "python3"
  },
  "language_info": {
   "codemirror_mode": {
    "name": "ipython",
    "version": 3
   },
   "file_extension": ".py",
   "mimetype": "text/x-python",
   "name": "python",
   "nbconvert_exporter": "python",
   "pygments_lexer": "ipython3",
   "version": "3.12.4"
  }
 },
 "nbformat": 4,
 "nbformat_minor": 5
}
