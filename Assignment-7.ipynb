{
 "cells": [
  {
   "cell_type": "markdown",
   "id": "69a7f3f0-8d9b-4d92-9a08-b413ef5707a6",
   "metadata": {},
   "source": [
    "LVL-EASY\n",
    "#1"
   ]
  },
  {
   "cell_type": "code",
   "execution_count": 3,
   "id": "6a4713c5-57e4-404c-8354-57468d3cc54a",
   "metadata": {},
   "outputs": [
    {
     "ename": "ZeroDivisionError",
     "evalue": "division by zero",
     "output_type": "error",
     "traceback": [
      "\u001b[1;31m---------------------------------------------------------------------------\u001b[0m",
      "\u001b[1;31mZeroDivisionError\u001b[0m                         Traceback (most recent call last)",
      "Cell \u001b[1;32mIn[3], line 2\u001b[0m\n\u001b[0;32m      1\u001b[0m marks \u001b[38;5;241m=\u001b[39m \u001b[38;5;241m10000\u001b[39m\n\u001b[1;32m----> 2\u001b[0m a \u001b[38;5;241m=\u001b[39m marks \u001b[38;5;241m/\u001b[39m \u001b[38;5;241m0\u001b[39m\n\u001b[0;32m      3\u001b[0m \u001b[38;5;28mprint\u001b[39m(a)\n",
      "\u001b[1;31mZeroDivisionError\u001b[0m: division by zero"
     ]
    }
   ],
   "source": [
    "marks = 10000\n",
    "a = marks / 0\n",
    "print(a)"
   ]
  },
  {
   "cell_type": "code",
   "execution_count": 11,
   "id": "815ecd58-2e0a-4211-8df7-c0ab8944c186",
   "metadata": {},
   "outputs": [
    {
     "ename": "SyntaxError",
     "evalue": "Missing parentheses in call to 'print'. Did you mean print(...)? (1748111505.py, line 4)",
     "output_type": "error",
     "traceback": [
      "\u001b[1;36m  Cell \u001b[1;32mIn[11], line 4\u001b[1;36m\u001b[0m\n\u001b[1;33m    print \"Second element = %d\" %(a[1])\u001b[0m\n\u001b[1;37m    ^\u001b[0m\n\u001b[1;31mSyntaxError\u001b[0m\u001b[1;31m:\u001b[0m Missing parentheses in call to 'print'. Did you mean print(...)?\n"
     ]
    }
   ],
   "source": [
    "#2\n",
    "a = [1, 2, 3]\n",
    "try:\n",
    "    print \"Second element = %d\" %(a[1]) \n",
    "except IndexError:\n",
    "    print \"An error occurred\""
   ]
  },
  {
   "cell_type": "code",
   "execution_count": 9,
   "id": "e64b9c32-fef6-41b7-aa7f-d16010aa2fe3",
   "metadata": {},
   "outputs": [
    {
     "name": "stdout",
     "output_type": "stream",
     "text": [
      "Second element = 2\n"
     ]
    }
   ],
   "source": [
    "#2(corrected code)\n",
    "a = [1, 2, 3]\n",
    "try:\n",
    "    print (\"Second element = %d\" %(a[1])) \n",
    "except IndexError:\n",
    "    print (\"An error occurred\")"
   ]
  },
  {
   "cell_type": "code",
   "execution_count": 13,
   "id": "07250824-742f-48b3-a426-0ca8f4fe2bb9",
   "metadata": {},
   "outputs": [
    {
     "name": "stdout",
     "output_type": "stream",
     "text": [
      "Can't divide by zero\n",
      "This is always executed\n"
     ]
    }
   ],
   "source": [
    "#3\n",
    "try:\n",
    "    k = 5 // 0\n",
    "    print(k)\n",
    "except ZeroDivisionError:\n",
    "    print(\"Can't divide by zero\")\n",
    "finally:\n",
    "    print('This is always executed')"
   ]
  },
  {
   "cell_type": "code",
   "execution_count": 15,
   "id": "e7a31bd1-bd03-42fa-9411-217cc56574df",
   "metadata": {},
   "outputs": [
    {
     "name": "stdout",
     "output_type": "stream",
     "text": [
      "An exception\n"
     ]
    }
   ],
   "source": [
    "#4\n",
    "try:\n",
    "    raise NameError(\"Hi there\")\n",
    "except NameError:\n",
    "    print(\"An exception\")"
   ]
  },
  {
   "cell_type": "code",
   "execution_count": 21,
   "id": "f7630bce-ad7e-40ff-bee0-09ad20df434d",
   "metadata": {},
   "outputs": [
    {
     "name": "stdout",
     "output_type": "stream",
     "text": [
      "ValueError\n"
     ]
    }
   ],
   "source": [
    "#5\n",
    "try:\n",
    "    if '2' != 2:\n",
    "        raise ValueError\n",
    "    else:\n",
    "        print('same')\n",
    "except ValueError:\n",
    "    print('ValueError')\n",
    "except NameError:\n",
    "    print('NameError')"
   ]
  },
  {
   "cell_type": "code",
   "execution_count": 23,
   "id": "74f24ad5-db7b-4886-99b9-e5a5f0d1818a",
   "metadata": {},
   "outputs": [
    {
     "name": "stdout",
     "output_type": "stream",
     "text": [
      "try\n",
      "finally\n"
     ]
    }
   ],
   "source": [
    "#6\n",
    "try:\n",
    "    print('try')\n",
    "except ValueError:\n",
    "    print('ValueError')\n",
    "finally:\n",
    "    print('finally')"
   ]
  },
  {
   "cell_type": "code",
   "execution_count": 25,
   "id": "c667774e-c1bf-4164-89a4-f9eca2a9e800",
   "metadata": {},
   "outputs": [
    {
     "name": "stdout",
     "output_type": "stream",
     "text": [
      "Cannot square 'a': TypeError\n",
      "Cannot square 'b': TypeError\n",
      "Cannot square 'c': TypeError\n"
     ]
    }
   ],
   "source": [
    "#7\n",
    "for i in ['a', 'b', 'c']:\n",
    "    try:\n",
    "        print(i ** 2)\n",
    "    except TypeError:\n",
    "        print(f\"Cannot square '{i}': TypeError\")"
   ]
  },
  {
   "cell_type": "code",
   "execution_count": 29,
   "id": "d9f62ee6-8e10-4769-b8f8-2901de6444b0",
   "metadata": {},
   "outputs": [
    {
     "name": "stdout",
     "output_type": "stream",
     "text": [
      "Cannot divide by zero.\n",
      "All Done.\n"
     ]
    }
   ],
   "source": [
    "#8\n",
    "x = 5\n",
    "y = 0\n",
    "try:\n",
    "    z = x / y\n",
    "except ZeroDivisionError:\n",
    "    print(\"Cannot divide by zero.\")\n",
    "finally:\n",
    "    print(\"All Done.\")"
   ]
  },
  {
   "cell_type": "code",
   "execution_count": 31,
   "id": "bb6ad76c-37f8-45cd-a484-dd9f3cd05e24",
   "metadata": {},
   "outputs": [
    {
     "name": "stdin",
     "output_type": "stream",
     "text": [
      "Please enter the dividend:  2\n",
      "Please enter the divisor:  3\n"
     ]
    },
    {
     "name": "stdout",
     "output_type": "stream",
     "text": [
      "Quotient: 0.6666666666666666, Rounded: 1\n"
     ]
    }
   ],
   "source": [
    "#9\n",
    "import math\n",
    "try:\n",
    "    dividend = float(input(\"Please enter the dividend: \"))\n",
    "    divisor = float(input(\"Please enter the divisor: \"))\n",
    "    quotient = dividend / divisor\n",
    "    quotient_rounded = round(quotient)\n",
    "    print(f\"Quotient: {quotient}, Rounded: {quotient_rounded}\")\n",
    "except ValueError:\n",
    "    print(\"Invalid input. Please enter numeric values.\")\n",
    "except ZeroDivisionError:\n",
    "    print(\"Error: Cannot divide by zero.\")"
   ]
  },
  {
   "cell_type": "code",
   "execution_count": 35,
   "id": "c984e39d-230f-4548-91da-50ee364a5df9",
   "metadata": {},
   "outputs": [
    {
     "name": "stdout",
     "output_type": "stream",
     "text": [
      "Error: 'a' or 'b' is not defined.\n"
     ]
    }
   ],
   "source": [
    "#10\n",
    "try:\n",
    "    for x in range(a, b):\n",
    "        print(\"(%f, %f, %f)\" % my_list[x])\n",
    "except NameError:\n",
    "    print(\"Error: 'a' or 'b' is not defined.\")\n",
    "except ValueError:\n",
    "    print(\"Error: Each element in my_list must be a tuple with three numeric values.\")\n",
    "except TypeError:\n",
    "    print(\"Error: Non-numeric values found in my_list.\")"
   ]
  },
  {
   "cell_type": "markdown",
   "id": "932cb1c0-e190-462a-94b2-9ad32556c000",
   "metadata": {},
   "source": [
    "LVL-MODERATE\n",
    "#1"
   ]
  },
  {
   "cell_type": "code",
   "execution_count": 37,
   "id": "a97892bf-7497-4b9c-8e54-1ef1cac87726",
   "metadata": {},
   "outputs": [
    {
     "name": "stdin",
     "output_type": "stream",
     "text": [
      "Please enter an integer:  3\n"
     ]
    },
    {
     "name": "stdout",
     "output_type": "stream",
     "text": [
      "The square of 3 is 9.\n"
     ]
    }
   ],
   "source": [
    "def ask():\n",
    "    while True:\n",
    "        try:\n",
    "            user_input = int(input(\"Please enter an integer: \"))\n",
    "        except ValueError:\n",
    "            print(\"That's not an integer. Please try again.\")\n",
    "        else:\n",
    "            square = user_input ** 2\n",
    "            print(f\"The square of {user_input} is {square}.\")\n",
    "            break\n",
    "ask()"
   ]
  },
  {
   "cell_type": "code",
   "execution_count": 45,
   "id": "f6fd235a-d610-405a-931c-7e8c011453dd",
   "metadata": {},
   "outputs": [
    {
     "name": "stdout",
     "output_type": "stream",
     "text": [
      "Product of numbers from 1 to 9: 9\n",
      "Sum of squares from 0 to 9: 285\n",
      "Sum of numbers from 0 to 9: 45\n"
     ]
    }
   ],
   "source": [
    "#2\n",
    "product = 1\n",
    "product *= i\n",
    "sum_squares = 0\n",
    "for i in range(10):\n",
    "    i_sq = i ** 2\n",
    "    sum_squares += i_sq\n",
    "nums_sum = 0\n",
    "for num in range(10):\n",
    "    nums_sum += num\n",
    "print(f\"Product of numbers from 1 to 9: {product}\")\n",
    "print(f\"Sum of squares from 0 to 9: {sum_squares}\")\n",
    "print(f\"Sum of numbers from 0 to 9: {nums_sum}\")"
   ]
  },
  {
   "cell_type": "code",
   "execution_count": 49,
   "id": "c1dd6130-d946-40ac-bba4-21d065ebf495",
   "metadata": {},
   "outputs": [
    {
     "name": "stdout",
     "output_type": "stream",
     "text": [
      "30\n",
      "Error: Index 5 is out of range for the list.\n"
     ]
    }
   ],
   "source": [
    "#3\n",
    "def print_list_element(thelist, index):\n",
    "    try:\n",
    "        print(thelist[index])\n",
    "    except IndexError:\n",
    "        print(f\"Error: Index {index} is out of range for the list.\")\n",
    "my_list = [10, 20, 30, 40]\n",
    "print_list_element(my_list, 2)\n",
    "print_list_element(my_list, 5)"
   ]
  },
  {
   "cell_type": "markdown",
   "id": "087c6c17-b2ca-4ae2-8488-1db0ff9ad43e",
   "metadata": {},
   "source": [
    "LVL-HARD\n",
    "#1"
   ]
  },
  {
   "cell_type": "code",
   "execution_count": 51,
   "id": "47fe59e6-cb7d-4b6f-8c21-273582f9e677",
   "metadata": {},
   "outputs": [
    {
     "name": "stdout",
     "output_type": "stream",
     "text": [
      "Created fruits.\n",
      "Current state of 'fruits': ['apple']\n",
      "fruits already has 1 elements.\n",
      "Added banana to fruits.\n",
      "Current state of 'fruits': ['apple', 'banana']\n"
     ]
    }
   ],
   "source": [
    "def add_to_list_in_dict(thedict, listname, element):\n",
    "    try:\n",
    "        l = thedict[listname]\n",
    "        print(\"%s already has %d elements.\" % (listname, len(l)))\n",
    "        l.append(element)\n",
    "    except KeyError:\n",
    "        thedict[listname] = []\n",
    "        print(\"Created %s.\" % listname)\n",
    "        thedict[listname].append(element)\n",
    "    else:\n",
    "        print(\"Added %s to %s.\" % (element, listname))\n",
    "    finally:\n",
    "        print(\"Current state of '%s': %s\" % (listname, thedict[listname]))\n",
    "my_dict = {}\n",
    "add_to_list_in_dict(my_dict, 'fruits', 'apple')\n",
    "add_to_list_in_dict(my_dict, 'fruits', 'banana')"
   ]
  },
  {
   "cell_type": "code",
   "execution_count": null,
   "id": "54eb6056-90b9-4c00-ba47-bccee0b672ad",
   "metadata": {},
   "outputs": [],
   "source": [
    "#2\n",
    "class FormulaError(Exception):\n",
    "    pass\n",
    "def interactive_calculator():\n",
    "    while True:\n",
    "        user_input = input(\">>> \")\n",
    "        if user_input.lower() == 'quit':\n",
    "            break\n",
    "        parts = user_input.split()\n",
    "        if operator not in ('+', '-'):\n",
    "            raise FormulaError(\"Invalid operator: must be '+' or '-'.\")\n",
    "        if operator == '+':\n",
    "            result = num1 + num2\n",
    "        else:\n",
    "            result = num1 - num2\n",
    "        print(result)\n",
    "try:\n",
    "    interactive_calculator()\n",
    "except FormulaError as e:\n",
    "    print(e)"
   ]
  },
  {
   "cell_type": "code",
   "execution_count": null,
   "id": "0147fc04-3bfd-4471-b97d-b4a96263f0d4",
   "metadata": {},
   "outputs": [],
   "source": []
  }
 ],
 "metadata": {
  "kernelspec": {
   "display_name": "Python 3 (ipykernel)",
   "language": "python",
   "name": "python3"
  },
  "language_info": {
   "codemirror_mode": {
    "name": "ipython",
    "version": 3
   },
   "file_extension": ".py",
   "mimetype": "text/x-python",
   "name": "python",
   "nbconvert_exporter": "python",
   "pygments_lexer": "ipython3",
   "version": "3.12.4"
  }
 },
 "nbformat": 4,
 "nbformat_minor": 5
}
