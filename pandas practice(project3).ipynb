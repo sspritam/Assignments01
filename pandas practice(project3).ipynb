{
 "cells": [
  {
   "cell_type": "markdown",
   "id": "2aa16081-4e88-4219-8d29-5d6792300778",
   "metadata": {},
   "source": [
    "#3(pandas practice)\n",
    "1st question \n",
    "Read and write different file types using Pandas data frames?"
   ]
  },
  {
   "cell_type": "code",
   "execution_count": 2,
   "id": "18d6279a-3905-4497-a281-9d99769a32ce",
   "metadata": {},
   "outputs": [],
   "source": [
    "#1(csv files)\n",
    "import pandas as pd\n",
    "df = pd.read_csv('A.txt')\n",
    "\n",
    "\n",
    "# Write the dataframe to a CSV file\n",
    "df.to_csv('output_file.csv', index=False)\n"
   ]
  },
  {
   "cell_type": "code",
   "execution_count": 4,
   "id": "0d4aa1c0-36fb-48e8-8a69-122358358db9",
   "metadata": {},
   "outputs": [],
   "source": [
    "#2(Reading exel files)\n",
    "import pandas as pd\n",
    "df = pd.read_csv('text.txt')"
   ]
  },
  {
   "cell_type": "code",
   "execution_count": 6,
   "id": "58968f01-3e51-4a64-9a7f-283244f3f75e",
   "metadata": {},
   "outputs": [
    {
     "name": "stdout",
     "output_type": "stream",
     "text": [
      "      name  age\n",
      "0    Alice   25\n",
      "1      Bob   30\n",
      "2  Charlie   35\n"
     ]
    },
    {
     "name": "stderr",
     "output_type": "stream",
     "text": [
      "C:\\Users\\mp12y\\AppData\\Local\\Temp\\ipykernel_8656\\457409319.py:11: FutureWarning: Passing literal json to 'read_json' is deprecated and will be removed in a future version. To read from a literal string, wrap it in a 'StringIO' object.\n",
      "  df = pd.read_json(data)\n"
     ]
    }
   ],
   "source": [
    "#3(JSON Files)\n",
    "import pandas as pd\n",
    "import json\n",
    "data = '''\n",
    "[\n",
    "    {\"name\": \"Alice\", \"age\": 25},\n",
    "    {\"name\": \"Bob\", \"age\": 30},\n",
    "    {\"name\": \"Charlie\", \"age\": 35}\n",
    "]\n",
    "'''\n",
    "df = pd.read_json(data)\n",
    "print(df)"
   ]
  },
  {
   "cell_type": "code",
   "execution_count": 8,
   "id": "ca64bbd0-2717-450e-b270-e1c53ff1f54d",
   "metadata": {},
   "outputs": [],
   "source": [
    "#4( Parquet Files)\n",
    "df_parquet = pd.DataFrame({\n",
    "    'name': ['Alice', 'Bob', 'Charlie'],\n",
    "    'age': [25, 30, 35]\n",
    "})\n",
    "# Write dataframe to Parquet\n",
    "df_parquet.to_parquet('output_parquet_file.parquet')"
   ]
  },
  {
   "cell_type": "code",
   "execution_count": 10,
   "id": "8073b8ef-7aaf-4fe9-89db-802a68ec84c6",
   "metadata": {},
   "outputs": [],
   "source": [
    "#5(SQL database)\n",
    "import sqlite3\n",
    "df_sql = pd.DataFrame({\n",
    "    'name': ['Alice', 'Bob', 'Charlie'],\n",
    "    'age': [25, 30, 35]\n",
    "})\n",
    "conn = sqlite3.connect('output_sqlite_database.db')\n",
    "df_sql.to_sql('people', conn, if_exists='replace', index=False)\n",
    "conn.close()\n",
    "\n",
    "\n",
    "#output will be like below\n",
    "# | name    | age |\n",
    "# |---------|-----|\n",
    "# | Alice   |  25 |\n",
    "# | Bob     |  30 |\n",
    "# | Charlie |  35 |"
   ]
  },
  {
   "cell_type": "code",
   "execution_count": 12,
   "id": "a6aa0958-d223-40ea-8b66-3d66806dea17",
   "metadata": {},
   "outputs": [],
   "source": [
    "#7(Stata files)\n",
    "df_stata = pd.DataFrame({\n",
    "    'name': ['Alice', 'Bob', 'Charlie'],\n",
    "    'age': [25, 30, 35]\n",
    "})\n",
    "df_stata.to_stata('output_stata_file.dta')\n",
    "# Output: Stata files are binary and not human readable"
   ]
  },
  {
   "cell_type": "code",
   "execution_count": 14,
   "id": "c2c552aa-4f9b-4efb-904b-b97a0846ad2c",
   "metadata": {},
   "outputs": [],
   "source": [
    "#8(feature files)\n",
    "df_feather = pd.DataFrame({\n",
    "    'name': ['Alice', 'Bob', 'Charlie'],\n",
    "    'age': [25, 30, 35]\n",
    "})\n",
    "df_feather.to_feather('output_feather_file.feather')"
   ]
  },
  {
   "cell_type": "markdown",
   "id": "8c14fdfd-926b-4702-ae3f-fc2453b37f96",
   "metadata": {},
   "source": [
    "#2nd question\n",
    "Manipulate rows, columns, empty values in data frames?"
   ]
  },
  {
   "cell_type": "code",
   "execution_count": 17,
   "id": "3ecdf9d5-3382-47c1-8b0e-7bab5cc00021",
   "metadata": {},
   "outputs": [
    {
     "name": "stdout",
     "output_type": "stream",
     "text": [
      "      name  age\n",
      "0    Alice   25\n",
      "1      Bob   30\n",
      "2  Charlie   35\n",
      "3    David   40\n"
     ]
    }
   ],
   "source": [
    "#1 (Manipulating Rows)\n",
    "#adding rows\n",
    "import pandas as pd\n",
    "df = pd.DataFrame({\n",
    "    'name': ['Alice', 'Bob'],\n",
    "    'age': [25, 30]\n",
    "})\n",
    "df.loc[2] = ['Charlie', 35] \n",
    "new_row = pd.DataFrame({'name': ['David'], 'age': [40]})\n",
    "df = pd.concat([df, new_row], ignore_index=True)\n",
    "print(df)"
   ]
  },
  {
   "cell_type": "code",
   "execution_count": 19,
   "id": "7c832b2d-a854-48c1-8e60-dbf142565859",
   "metadata": {},
   "outputs": [
    {
     "name": "stdout",
     "output_type": "stream",
     "text": [
      "    name  age\n",
      "0  Alice   25\n",
      "1    Bob   30\n",
      "3  David   40\n"
     ]
    }
   ],
   "source": [
    "#2(dropping a row)\n",
    "df = df.drop(2)\n",
    "print(df)"
   ]
  },
  {
   "cell_type": "code",
   "execution_count": 21,
   "id": "79074418-ea68-42f3-99f0-52f707da0801",
   "metadata": {},
   "outputs": [
    {
     "name": "stdout",
     "output_type": "stream",
     "text": [
      "    name  age\n",
      "3  David   40\n"
     ]
    }
   ],
   "source": [
    "#3(filtering row based on a condition)\n",
    "df_filtered = df[df['age'] > 30]\n",
    "print(df_filtered)"
   ]
  },
  {
   "cell_type": "code",
   "execution_count": 23,
   "id": "c94700db-60aa-47ba-a83e-4a619c731390",
   "metadata": {},
   "outputs": [
    {
     "name": "stdout",
     "output_type": "stream",
     "text": [
      "    name  age  salary\n",
      "0  Alice   26   50000\n",
      "1    Bob   31   60000\n",
      "3  David   41   70000\n"
     ]
    }
   ],
   "source": [
    "#4(adding or modifying columns)\n",
    "df['salary'] = [50000, 60000, 70000]\n",
    "df['age'] = df['age'] + 1\n",
    "print(df)"
   ]
  },
  {
   "cell_type": "code",
   "execution_count": 25,
   "id": "8ec2da2f-4f13-47c7-a236-2b5c82e0fe8a",
   "metadata": {},
   "outputs": [
    {
     "name": "stdout",
     "output_type": "stream",
     "text": [
      "    name  age\n",
      "0  Alice   26\n",
      "1    Bob   31\n",
      "3  David   41\n"
     ]
    }
   ],
   "source": [
    "#5(dropping a column)\n",
    "df = df.drop('salary', axis=1)\n",
    "print(df)"
   ]
  },
  {
   "cell_type": "code",
   "execution_count": 27,
   "id": "e6a6a302-b176-4ee7-8083-d3c8bdd5e021",
   "metadata": {},
   "outputs": [
    {
     "name": "stdout",
     "output_type": "stream",
     "text": [
      "    name    age\n",
      "0  False  False\n",
      "1  False   True\n",
      "2   True  False\n"
     ]
    }
   ],
   "source": [
    "#6(renaming column)\n",
    "df_with_na = pd.DataFrame({\n",
    "    'name': ['Alice', 'Bob', None],\n",
    "    'age': [25, None, 35]\n",
    "})\n",
    "\n",
    "print(df_with_na.isna())"
   ]
  },
  {
   "cell_type": "code",
   "execution_count": 29,
   "id": "564ef0fa-2e0a-4a59-a3ea-3bb31e0a70ff",
   "metadata": {},
   "outputs": [
    {
     "name": "stdout",
     "output_type": "stream",
     "text": [
      "    name    age\n",
      "0  False  False\n",
      "1  False   True\n",
      "2   True  False\n",
      "    name   age\n",
      "0  Alice  25.0\n",
      "1    Bob  30.0\n",
      "2    Bob  35.0\n",
      "    name   age\n",
      "0  Alice  25.0\n",
      "1    Bob  30.0\n",
      "2    Bob  35.0\n",
      "    name   age\n",
      "0  Alice  25.0\n",
      "1    Bob  30.0\n",
      "2    Bob  35.0\n",
      "  full_name  years\n",
      "3     David     40\n",
      "2   Charlie     35\n",
      "1       Bob     30\n",
      "0     Alice     25\n",
      "  full_name  years\n",
      "0     David     40\n",
      "1   Charlie     35\n",
      "2       Bob     30\n",
      "3     Alice     25\n"
     ]
    },
    {
     "name": "stderr",
     "output_type": "stream",
     "text": [
      "C:\\Users\\mp12y\\AppData\\Local\\Temp\\ipykernel_8656\\579545445.py:11: FutureWarning: Series.fillna with 'method' is deprecated and will raise in a future version. Use obj.ffill() or obj.bfill() instead.\n",
      "  df_with_na['name'] = df_with_na['name'].fillna(method='ffill')\n"
     ]
    }
   ],
   "source": [
    "#7(checking for missing value)\n",
    "df_with_na = pd.DataFrame({\n",
    "    'name': ['Alice', 'Bob', None],\n",
    "    'age': [25, None, 35]\n",
    "})\n",
    "\n",
    "print(df_with_na.isna())\n",
    "\n",
    "#8(filling missing value)\n",
    "df_with_na['age'] = df_with_na['age'].fillna(30)\n",
    "df_with_na['name'] = df_with_na['name'].fillna(method='ffill')\n",
    "print(df_with_na)\n",
    "\n",
    "\n",
    "#9(droping row with missing values)\n",
    "df_clean = df_with_na.dropna()\n",
    "print(df_clean)\n",
    "\n",
    "#10(dropping column with missing values)\n",
    "df_clean_columns = df_with_na.dropna(axis=1)\n",
    "print(df_clean_columns)\n",
    "\n",
    "#11(sorting data by column)\n",
    "import pandas as pd\n",
    "df = pd.DataFrame({\n",
    "    'name': ['Alice', 'Bob'],\n",
    "    'age': [25, 30]\n",
    "})\n",
    "df.loc[2] = ['Charlie', 35]\n",
    "new_row = pd.DataFrame({'name': ['David'], 'age': [40]})\n",
    "df = pd.concat([df, new_row], ignore_index=True)\n",
    "df = df.rename(columns={'name': 'full_name', 'age': 'years'})\n",
    "df_sorted = df.sort_values(by='years', ascending=False)\n",
    "print(df_sorted)\n",
    "\n",
    "\n",
    "#12(resetting index)\n",
    "df_reset = df_sorted.reset_index(drop=True)\n",
    "print(df_reset)"
   ]
  },
  {
   "cell_type": "markdown",
   "id": "d20e1082-ac51-47d7-8de7-f321a06c8d58",
   "metadata": {},
   "source": [
    "#3rd question\n",
    "Merge, join and query data from multiple data frames?"
   ]
  },
  {
   "cell_type": "code",
   "execution_count": 32,
   "id": "ccb72d72-76bd-459f-8dcf-50ba94078ea6",
   "metadata": {},
   "outputs": [
    {
     "name": "stdout",
     "output_type": "stream",
     "text": [
      "Inner Merge:\n",
      "   id     name  age\n",
      "0   2      Bob   30\n",
      "1   3  Charlie   35\n",
      "Left Merge:\n",
      "   id     name   age\n",
      "0   1    Alice   NaN\n",
      "1   2      Bob  30.0\n",
      "2   3  Charlie  35.0\n"
     ]
    }
   ],
   "source": [
    "#1(merging dataframes)\n",
    "import pandas as pd\n",
    "df1 = pd.DataFrame({\n",
    "    'id': [1, 2, 3],\n",
    "    'name': ['Alice', 'Bob', 'Charlie']\n",
    "})\n",
    "df2 = pd.DataFrame({\n",
    "    'id': [2, 3, 4],\n",
    "    'age': [30, 35, 40]\n",
    "})\n",
    "merged_df = pd.merge(df1, df2, on='id', how='inner')\n",
    "print(\"Inner Merge:\")\n",
    "print(merged_df)\n",
    "\n",
    "#left join\n",
    "left_joined_df = pd.merge(df1, df2, on='id', how='left')\n",
    "print(\"Left Merge:\")\n",
    "print(left_joined_df)"
   ]
  },
  {
   "cell_type": "code",
   "execution_count": 34,
   "id": "7a23adde-11dc-466c-ba9b-653e66baef90",
   "metadata": {},
   "outputs": [
    {
     "name": "stdout",
     "output_type": "stream",
     "text": [
      "   A  B  C\n",
      "b  2  Y  P\n",
      "c  3  Z  Q\n"
     ]
    }
   ],
   "source": [
    "#2(joining dataframe)\n",
    "df1 = pd.DataFrame({\n",
    "    'A': [1, 2, 3],\n",
    "    'B': ['X', 'Y', 'Z'],\n",
    "}, index=['a', 'b', 'c'])\n",
    "df2 = pd.DataFrame({\n",
    "    'C': ['P', 'Q', 'R'],\n",
    "}, index=['b', 'c', 'd'])\n",
    "joined_df = df1.join(df2, how='inner')\n",
    "print(joined_df)"
   ]
  },
  {
   "cell_type": "code",
   "execution_count": 36,
   "id": "9fad1223-8ac0-48ae-830d-39e17ddc213e",
   "metadata": {},
   "outputs": [
    {
     "name": "stdout",
     "output_type": "stream",
     "text": [
      "   A  B\n",
      "2  3  Z\n",
      "3  4  W\n",
      "   A  B\n",
      "2  3  Z\n"
     ]
    }
   ],
   "source": [
    "#3(quering dataframe)\n",
    "df = pd.DataFrame({\n",
    "    'A': [1, 2, 3, 4],\n",
    "    'B': ['X', 'Y', 'Z', 'W'],\n",
    "})\n",
    "result_query = df.query('A > 2')\n",
    "print(result_query)\n",
    "result_boolean = df[df['B'] == 'Z']\n",
    "print(result_boolean)"
   ]
  },
  {
   "cell_type": "code",
   "execution_count": 40,
   "id": "d38f791e-e2c4-4d3e-9e5c-72610531d2b0",
   "metadata": {},
   "outputs": [
    {
     "name": "stdout",
     "output_type": "stream",
     "text": [
      "   A  B\n",
      "0  1  X\n",
      "1  2  Y\n",
      "2  3  Z\n",
      "3  4  W\n",
      "   A  B\n",
      "0  1  X\n",
      "1  2  Y\n"
     ]
    }
   ],
   "source": [
    "#4(combining dataframe with concatenation)\n",
    "df1 = pd.DataFrame({'A': [1, 2], 'B': ['X', 'Y']})\n",
    "df2 = pd.DataFrame({'A': [3, 4], 'B': ['Z', 'W']})\n",
    "concat_df = pd.concat([df1, df2], axis=0, ignore_index=True)\n",
    "print(concat_df)\n",
    "\n",
    "\n",
    "#horizontal concatenation\n",
    "df1 = pd.DataFrame({'A': [1, 2]})\n",
    "df2 = pd.DataFrame({'B': ['X', 'Y']})\n",
    "concat_df = pd.concat([df1, df2], axis=1)\n",
    "print(concat_df)"
   ]
  },
  {
   "cell_type": "code",
   "execution_count": 44,
   "id": "7c159d32-afc4-4eb1-b3cb-3c6d53669b52",
   "metadata": {},
   "outputs": [
    {
     "name": "stdout",
     "output_type": "stream",
     "text": [
      "Index(['ID', 'Name'], dtype='object')\n",
      "Index(['ID', 'Age'], dtype='object')\n",
      "   ID     Name   Age\n",
      "0   1    Alice  25.0\n",
      "1   2      Bob  30.0\n",
      "2   3  Charlie   0.0\n",
      "3   4        0  22.0\n",
      "   ID     Name   Age\n",
      "0   1    Alice  25.0\n",
      "1   2      Bob  30.0\n",
      "2   3  Charlie   0.0\n",
      "3   4        0  22.0\n"
     ]
    }
   ],
   "source": [
    "#5(handling missing data during merge/join)\n",
    "import pandas as pd\n",
    "df1 = pd.DataFrame({\n",
    "    'ID': [1, 2, 3],\n",
    "    'Name': ['Alice', 'Bob', 'Charlie']\n",
    "})\n",
    "df2 = pd.DataFrame({\n",
    "    'ID': [1, 2, 4],\n",
    "    'Age': [25, 30, 22]\n",
    "})\n",
    "print(df1.columns)\n",
    "print(df2.columns)\n",
    "merged_df = pd.merge(df1, df2, on='ID', how='outer')\n",
    "merged_df.fillna(0, inplace=True)  \n",
    "print(merged_df)\n",
    "merged_df.dropna(inplace=True)\n",
    "print(merged_df)"
   ]
  },
  {
   "cell_type": "code",
   "execution_count": 46,
   "id": "8a9425a8-8b7d-4625-a3ae-deade41ba00a",
   "metadata": {},
   "outputs": [
    {
     "name": "stdout",
     "output_type": "stream",
     "text": [
      "   ID Name   Age City\n",
      "1   2  Bob  30.0  NaN\n"
     ]
    }
   ],
   "source": [
    "df1 = pd.DataFrame({\n",
    "    'ID': [1, 2, 3],\n",
    "    'Name': ['Alice', 'Bob', 'Charlie']\n",
    "})\n",
    "df2 = pd.DataFrame({\n",
    "    'ID': [1, 2, 4],\n",
    "    'Age': [25, 30, 22]\n",
    "})\n",
    "df3 = pd.DataFrame({\n",
    "    'ID': [1, 3, 5],\n",
    "    'City': ['New York', 'Los Angeles', 'Chicago']\n",
    "})\n",
    "merged_df = pd.merge(df1, df2, on='ID', how='outer')\n",
    "merged_df = pd.merge(merged_df, df3, on='ID', how='outer')\n",
    "filtered_df = merged_df.query('Age > 25')\n",
    "print(filtered_df)"
   ]
  },
  {
   "cell_type": "markdown",
   "id": "431cd745-e6a7-4c54-b4d8-b2a447823a0f",
   "metadata": {},
   "source": [
    "#4th question\n",
    "Explore interoperability between Numpy & Pandas?"
   ]
  },
  {
   "cell_type": "code",
   "execution_count": 1,
   "id": "299398db-b06a-4113-8f95-626d37bfbd59",
   "metadata": {},
   "outputs": [
    {
     "name": "stdout",
     "output_type": "stream",
     "text": [
      "   A  B  C\n",
      "0  1  2  3\n",
      "1  4  5  6\n"
     ]
    }
   ],
   "source": [
    "#1(Creating a Pandas DataFrame from a NumPy Array)\n",
    "import numpy as np\n",
    "import pandas as pd\n",
    "arr = np.array([[1, 2, 3], [4, 5, 6]])\n",
    "df = pd.DataFrame(arr, columns=[\"A\", \"B\", \"C\"])\n",
    "print(df)"
   ]
  },
  {
   "cell_type": "code",
   "execution_count": 3,
   "id": "ec1da635-71c6-4832-81d8-7d5268dee649",
   "metadata": {},
   "outputs": [
    {
     "name": "stdout",
     "output_type": "stream",
     "text": [
      "          A  B  C\n",
      "0  0.000000  2  3\n",
      "1  1.386294  5  6\n"
     ]
    }
   ],
   "source": [
    "#2(Applying a NumPy Function to a Pandas DataFrame)\n",
    "df[\"A\"] = np.log(df[\"A\"])\n",
    "print(df)"
   ]
  },
  {
   "cell_type": "code",
   "execution_count": 5,
   "id": "bedeb3db-6934-418a-963e-441de3648aff",
   "metadata": {},
   "outputs": [
    {
     "name": "stdout",
     "output_type": "stream",
     "text": [
      "0     1\n",
      "1     4\n",
      "2     9\n",
      "3    16\n",
      "dtype: int64\n"
     ]
    }
   ],
   "source": [
    "#3(using numpy with pandas and series)\n",
    "s = pd.Series([1, 2, 3, 4])\n",
    "s_squared = np.square(s)\n",
    "print(s_squared)"
   ]
  },
  {
   "cell_type": "code",
   "execution_count": 7,
   "id": "051e02a0-18fa-43e4-864e-dbdb0f2c250b",
   "metadata": {},
   "outputs": [
    {
     "name": "stdout",
     "output_type": "stream",
     "text": [
      "[[0.         2.         3.        ]\n",
      " [1.38629436 5.         6.        ]]\n",
      "[1 2 3 4]\n"
     ]
    }
   ],
   "source": [
    "#4( extracting numpy arrays from pandas dataframe and series)\n",
    "numpy_array = df.to_numpy()\n",
    "print(numpy_array)\n",
    "numpy_array_from_series = s.to_numpy()\n",
    "print(numpy_array_from_series)"
   ]
  },
  {
   "cell_type": "code",
   "execution_count": 9,
   "id": "e17b0582-c921-4d47-8428-f759daaa9b92",
   "metadata": {},
   "outputs": [
    {
     "name": "stdout",
     "output_type": "stream",
     "text": [
      "     A     B\n",
      "0  NaN   NaN\n",
      "1  7.0  11.0\n",
      "2  NaN   NaN\n"
     ]
    }
   ],
   "source": [
    "#5(index alignment and boardcasting in pandas)\n",
    "df1 = pd.DataFrame({\n",
    "    \"A\": [1, 2],\n",
    "    \"B\": [3, 4]\n",
    "})\n",
    "df2 = pd.DataFrame({\n",
    "    \"A\": [5, 6],\n",
    "    \"B\": [7, 8]\n",
    "}, index=[1, 2])\n",
    "result = df1 + df2\n",
    "print(result)"
   ]
  },
  {
   "cell_type": "code",
   "execution_count": 11,
   "id": "47647b01-af57-4afb-876f-404a7c27b10d",
   "metadata": {},
   "outputs": [
    {
     "name": "stdout",
     "output_type": "stream",
     "text": [
      "[5 7 9]\n"
     ]
    }
   ],
   "source": [
    "#6(victorized operation  with numpy arrays)\n",
    "arr1 = np.array([1, 2, 3])\n",
    "arr2 = np.array([4, 5, 6])\n",
    "result = arr1 + arr2\n",
    "print(result)"
   ]
  },
  {
   "cell_type": "code",
   "execution_count": 13,
   "id": "4d729b63-0250-4d29-b676-9e15240ee3ac",
   "metadata": {},
   "outputs": [
    {
     "name": "stdout",
     "output_type": "stream",
     "text": [
      "          A  B  C         D\n",
      "0  0.000000  2  3  0.000000\n",
      "1  1.386294  5  6  6.931472\n"
     ]
    }
   ],
   "source": [
    "#7(vectorized operations in pandas)\n",
    "df[\"D\"] = df[\"A\"] * df[\"B\"]\n",
    "print(df)"
   ]
  },
  {
   "cell_type": "code",
   "execution_count": 15,
   "id": "862fbe5d-7862-4f28-8def-970781a32c0d",
   "metadata": {},
   "outputs": [
    {
     "name": "stdout",
     "output_type": "stream",
     "text": [
      "     A    B\n",
      "0  1.0  4.0\n",
      "1  0.0  5.0\n",
      "2  3.0  0.0\n"
     ]
    }
   ],
   "source": [
    "#8(handling missing data in pandas)\n",
    "df_with_nan = pd.DataFrame({\n",
    "    \"A\": [1, np.nan, 3],\n",
    "    \"B\": [4, 5, np.nan]\n",
    "})\n",
    "df_with_nan_filled = df_with_nan.fillna(0)\n",
    "print(df_with_nan_filled)"
   ]
  },
  {
   "cell_type": "code",
   "execution_count": null,
   "id": "b59cdc0a-a4b0-4ad8-9023-38c4afd164a1",
   "metadata": {},
   "outputs": [],
   "source": []
  }
 ],
 "metadata": {
  "kernelspec": {
   "display_name": "Python 3 (ipykernel)",
   "language": "python",
   "name": "python3"
  },
  "language_info": {
   "codemirror_mode": {
    "name": "ipython",
    "version": 3
   },
   "file_extension": ".py",
   "mimetype": "text/x-python",
   "name": "python",
   "nbconvert_exporter": "python",
   "pygments_lexer": "ipython3",
   "version": "3.12.4"
  }
 },
 "nbformat": 4,
 "nbformat_minor": 5
}
