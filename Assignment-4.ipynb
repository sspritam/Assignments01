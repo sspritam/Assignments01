{
 "cells": [
  {
   "cell_type": "code",
   "execution_count": 1,
   "id": "8d1dbe6c-dcee-4bb1-b18f-b26ee2865902",
   "metadata": {},
   "outputs": [
    {
     "name": "stdout",
     "output_type": "stream",
     "text": [
      "20\n"
     ]
    }
   ],
   "source": [
    "#1\n",
    "def sum_numbers(numbers):\n",
    "    return sum(numbers)\n",
    "result = sum_numbers((8,2,3,0,7))\n",
    "print(result)"
   ]
  },
  {
   "cell_type": "code",
   "execution_count": 3,
   "id": "63562d8e-b208-451a-84f8-b3cd7ce65af2",
   "metadata": {},
   "outputs": [
    {
     "name": "stdout",
     "output_type": "stream",
     "text": [
      "2\n",
      "5\n"
     ]
    }
   ],
   "source": [
    "#2\n",
    "def lesser_of_two_evens(a, b):\n",
    "    if a % 2 == 0 and b % 2 == 0:\n",
    "        return min(a, b)\n",
    "    else:\n",
    "        return max(a, b)\n",
    "print(lesser_of_two_evens(2, 4))\n",
    "print(lesser_of_two_evens(2, 5)) "
   ]
  },
  {
   "cell_type": "code",
   "execution_count": 5,
   "id": "339d4a69-79ed-4415-9ee9-ed422f65506f",
   "metadata": {},
   "outputs": [
    {
     "name": "stdout",
     "output_type": "stream",
     "text": [
      "Employee Douglas salary is: 9000\n",
      "Employee Douglas salary is: 9000\n"
     ]
    }
   ],
   "source": [
    "#3\n",
    "def showEmployee(name, salary=9000):\n",
    "    print(f\"Employee {name} salary is: {salary}\")\n",
    "showEmployee(\"Douglas\", 9000)\n",
    "showEmployee(\"Douglas\")"
   ]
  },
  {
   "cell_type": "code",
   "execution_count": 13,
   "id": "ca408264-dfcd-42f6-93c8-62b8bef185dc",
   "metadata": {},
   "outputs": [
    {
     "name": "stdout",
     "output_type": "stream",
     "text": [
      "42 17 4 17\n",
      "42 15 3 4\n"
     ]
    }
   ],
   "source": [
    "#4\n",
    "def foo(x, y):\n",
    "    global a\n",
    "    a = 42\n",
    "    x, y = y, x\n",
    "    b = 33\n",
    "    b = 17\n",
    "    c = 100\n",
    "    print(a, b, x, y)\n",
    "\n",
    "a, b, x, y = 1, 15, 3, 4\n",
    "foo(17, 4)\n",
    "print(a, b, x, y)"
   ]
  },
  {
   "cell_type": "code",
   "execution_count": 15,
   "id": "0ce22ace-c374-4415-9263-12d88554913c",
   "metadata": {},
   "outputs": [
    {
     "name": "stdout",
     "output_type": "stream",
     "text": [
      "Python is fantastic\n",
      "Python is awesome\n"
     ]
    }
   ],
   "source": [
    "#5\n",
    "x = \"awesome\"\n",
    "def myfunc():\n",
    "    x = \"fantastic\"\n",
    "    print(\"Python is \" + x)\n",
    "myfunc()\n",
    "print(\"Python is \" + x)"
   ]
  },
  {
   "cell_type": "code",
   "execution_count": 17,
   "id": "489d6982-1279-4c00-b0fb-5c637e0bc6d3",
   "metadata": {},
   "outputs": [
    {
     "name": "stdout",
     "output_type": "stream",
     "text": [
      "200\n",
      "300\n"
     ]
    }
   ],
   "source": [
    "#6\n",
    "x = 300\n",
    "def myfunc():\n",
    "    x = 200\n",
    "    print(x)\n",
    "myfunc()\n",
    "print(x)"
   ]
  },
  {
   "cell_type": "code",
   "execution_count": 19,
   "id": "91de6cb4-43de-4b30-a7e8-64d954f69552",
   "metadata": {},
   "outputs": [
    {
     "name": "stdout",
     "output_type": "stream",
     "text": [
      "300\n"
     ]
    }
   ],
   "source": [
    "#7\n",
    "def myfunc():\n",
    "    global x\n",
    "    x = 300\n",
    "myfunc()\n",
    "print(x)"
   ]
  },
  {
   "cell_type": "code",
   "execution_count": 25,
   "id": "424a9501-8091-40b2-a149-7edb639491ea",
   "metadata": {},
   "outputs": [
    {
     "name": "stdout",
     "output_type": "stream",
     "text": [
      "15\n"
     ]
    }
   ],
   "source": [
    "#8\n",
    "a = lambda x: x + 10\n",
    "print(a(5))"
   ]
  },
  {
   "cell_type": "code",
   "execution_count": 27,
   "id": "7f6cc128-8481-41a6-831c-2c45a98dfb90",
   "metadata": {},
   "outputs": [
    {
     "name": "stdout",
     "output_type": "stream",
     "text": [
      "After func1(20, 40, 60):\n",
      "20 40 60\n",
      "After func1(80, 100):\n",
      "80 100\n"
     ]
    }
   ],
   "source": [
    "#9\n",
    "def func1(*args):\n",
    "    print(\" \".join(map(str, args)))\n",
    "print(\"After func1(20, 40, 60):\")\n",
    "func1(20, 40, 60)\n",
    "print(\"After func1(80, 100):\")\n",
    "func1(80, 100)"
   ]
  },
  {
   "cell_type": "code",
   "execution_count": 29,
   "id": "c36f45bd-89db-4134-b626-e42f9e2ed216",
   "metadata": {},
   "outputs": [
    {
     "name": "stdout",
     "output_type": "stream",
     "text": [
      "Help on function my_sum in module __main__:\n",
      "\n",
      "my_sum(a, b)\n",
      "\n"
     ]
    }
   ],
   "source": [
    "def my_sum(a, b):\n",
    "    return a + b\n",
    "help(my_sum)"
   ]
  },
  {
   "cell_type": "markdown",
   "id": "3b89dd17-0bfb-4b7b-be1e-32886cd59ed5",
   "metadata": {},
   "source": [
    "LVL-MODERATE"
   ]
  },
  {
   "cell_type": "code",
   "execution_count": 32,
   "id": "268b4e22-d415-4c9a-8b10-161f6849fe84",
   "metadata": {},
   "outputs": [
    {
     "name": "stdout",
     "output_type": "stream",
     "text": [
      "2\n",
      "5\n"
     ]
    }
   ],
   "source": [
    "#1\n",
    "def lesser_of_two_evens(a, b):\n",
    "    if a % 2 == 0 and b % 2 == 0:\n",
    "        return min(a, b)\n",
    "    else:\n",
    "        return max(a, b)\n",
    "print(lesser_of_two_evens(2, 4))\n",
    "print(lesser_of_two_evens(2, 5))\n"
   ]
  },
  {
   "cell_type": "code",
   "execution_count": 36,
   "id": "096ff555-4d8a-445b-b633-eb2255375110",
   "metadata": {},
   "outputs": [
    {
     "name": "stdout",
     "output_type": "stream",
     "text": [
      "True\n",
      "False\n"
     ]
    }
   ],
   "source": [
    "def animal_crackers(text):\n",
    "    words = text.split()\n",
    "    return words[0][0].lower() == words[1][0].lower()\n",
    "print(animal_crackers('Levelheaded Llama'))\n",
    "print(animal_crackers('Crazy Kangaroo'))"
   ]
  },
  {
   "cell_type": "code",
   "execution_count": 44,
   "id": "4638d173-71c0-4c12-8205-00eb8bf1a1e3",
   "metadata": {},
   "outputs": [
    {
     "name": "stdout",
     "output_type": "stream",
     "text": [
      "AnThRoPoMoRpHiSm\n"
     ]
    }
   ],
   "source": [
    "def a_func(s):\n",
    "    result = \"\"\n",
    "    for index, char in enumerate(s):\n",
    "        if index % 2 == 0:\n",
    "            result += char.upper()\n",
    "        else:  # Odd index\n",
    "            result += char.lower()\n",
    "    return result\n",
    "print(a_func('Anthropomorphism'))\n"
   ]
  },
  {
   "cell_type": "code",
   "execution_count": 46,
   "id": "051e053b-9953-47fd-989a-3f48c27fc5ad",
   "metadata": {},
   "outputs": [
    {
     "name": "stdout",
     "output_type": "stream",
     "text": [
      "Original list of integers: [1, 2, 3, 4, 5, 6, 7, 8, 9, 10]\n",
      "Square every number of the said list: [1, 4, 9, 16, 25, 36, 49, 64, 81, 100]\n",
      "Cube every number of the said list: [1, 8, 27, 64, 125, 216, 343, 512, 729, 1000]\n"
     ]
    }
   ],
   "source": [
    "#4\n",
    "original_list = [1, 2, 3, 4, 5, 6, 7, 8, 9, 10]\n",
    "squared_list = list(map(lambda x: x**2, original_list))\n",
    "cubed_list = list(map(lambda x: x**3, original_list))\n",
    "print(\"Original list of integers:\", original_list)\n",
    "print(\"Square every number of the said list:\", squared_list)\n",
    "print(\"Cube every number of the said list:\", cubed_list)"
   ]
  },
  {
   "cell_type": "code",
   "execution_count": 48,
   "id": "6a38c2df-9a04-4931-b089-377150364125",
   "metadata": {},
   "outputs": [
    {
     "name": "stdout",
     "output_type": "stream",
     "text": [
      "Hello Sarah!\n",
      "Hello Henry!\n",
      "Hello Lola!\n"
     ]
    }
   ],
   "source": [
    "def my_names(**names):\n",
    "    for name in names.values():\n",
    "        print(f\"Hello {name}!\")\n",
    "my_names(stud1='Sarah', stud2='Henry', stud3='Lola')"
   ]
  },
  {
   "cell_type": "code",
   "execution_count": 62,
   "id": "f5a13a31-9a73-46f5-8fb2-bca2018c58ad",
   "metadata": {},
   "outputs": [
    {
     "name": "stdout",
     "output_type": "stream",
     "text": [
      "Original list: [2, 4, -6, -9, 11, -12, 14, -5, 17]\n",
      "Sum of the positive numbers: 48\n",
      "Sum of the negative numbers: -32\n"
     ]
    }
   ],
   "source": [
    "#6\n",
    "from functools import reduce\n",
    "numbers = [2, 4, -6, -9, 11, -12, 14, -5, 17]\n",
    "sum_positive = reduce(lambda x, y: x + y, filter(lambda x: x > 0, numbers))\n",
    "sum_negative = reduce(lambda x, y: x + y, filter(lambda x: x < 0, numbers))\n",
    "print(\"Original list:\", numbers)\n",
    "print(\"Sum of the positive numbers:\", sum_positive)\n",
    "print(\"Sum of the negative numbers:\", sum_negative)"
   ]
  },
  {
   "cell_type": "code",
   "execution_count": 64,
   "id": "796f44c0-31d3-4c03-99db-70080460751b",
   "metadata": {},
   "outputs": [
    {
     "name": "stdout",
     "output_type": "stream",
     "text": [
      "Palindromes in the list: ['civic', 'madam']\n"
     ]
    }
   ],
   "source": [
    "#7\n",
    "words = [\"chocolate\", \"civic\", \"afternoon\", \"madam\", \"fleece\"]\n",
    "palindromes = list(filter(lambda word: word == word[::-1], words))\n",
    "print(\"Palindromes in the list:\", palindromes)"
   ]
  },
  {
   "cell_type": "code",
   "execution_count": 66,
   "id": "5298086a-9f40-480d-8123-1e44c2f7203f",
   "metadata": {},
   "outputs": [],
   "source": [
    "#8\n",
    "def returnDay(num):\n",
    "    days = {\n",
    "        1: \"Sunday\",\n",
    "        2: \"Monday\",\n",
    "        3: \"Tuesday\",\n",
    "        4: \"Wednesday\",\n",
    "        5: \"Thursday\",\n",
    "        6: \"Friday\",\n",
    "        7: \"Saturday\"\n",
    "    }"
   ]
  },
  {
   "cell_type": "code",
   "execution_count": 68,
   "id": "edbf1bff-d730-4df5-a729-c138178fc7ee",
   "metadata": {},
   "outputs": [
    {
     "name": "stdout",
     "output_type": "stream",
     "text": [
      "Unique List: [1, 2, 3, 4, 5]\n"
     ]
    }
   ],
   "source": [
    "#9\n",
    "def unique_elements(input_list):\n",
    "    unique_list = list(set(input_list))\n",
    "    return unique_list\n",
    "sample_list = [1, 1, 1, 1, 2, 2, 3, 3, 3, 3, 4, 5]\n",
    "result = unique_elements(sample_list)\n",
    "print(\"Unique List:\", result)"
   ]
  },
  {
   "cell_type": "code",
   "execution_count": 76,
   "id": "c59bd1f8-e41e-43c2-a0ec-66373b241a07",
   "metadata": {},
   "outputs": [
    {
     "name": "stdout",
     "output_type": "stream",
     "text": [
      "18\n",
      "BUST\n",
      "19\n"
     ]
    }
   ],
   "source": [
    "#10\n",
    "def blackjack(a, b, c):\n",
    "    total = a + b + c\n",
    "    if total <= 21:\n",
    "        return total\n",
    "    elif total > 21 and (a == 11 or b == 11 or c == 11):\n",
    "        total -= 10\n",
    "    if total > 21:\n",
    "        return 'BUST'\n",
    "    return total\n",
    "print(blackjack(5, 6, 7))\n",
    "print(blackjack(9, 9, 9)) \n",
    "print(blackjack(9, 9, 11))    "
   ]
  },
  {
   "cell_type": "markdown",
   "id": "3c920813-fd28-4ff3-b691-9b472031869b",
   "metadata": {},
   "source": [
    "LVL-DIFFICULT"
   ]
  },
  {
   "cell_type": "code",
   "execution_count": 82,
   "id": "d0d96e74-2e6e-4d53-89fd-84f748b62bc7",
   "metadata": {},
   "outputs": [
    {
     "name": "stdout",
     "output_type": "stream",
     "text": [
      "True\n",
      "False\n",
      "False\n"
     ]
    }
   ],
   "source": [
    "#1\n",
    "def has_33(nums):\n",
    "    for i in range(len(nums) - 1):\n",
    "        if nums[i] == 3 and nums[i + 1] == 3:\n",
    "            return True\n",
    "    return False\n",
    "print(has_33([1, 3, 3]))\n",
    "print(has_33([1, 3, 1, 3]))\n",
    "print(has_33([3, 1, 3])) "
   ]
  },
  {
   "cell_type": "code",
   "execution_count": 86,
   "id": "5e403243-6a77-4609-961b-96af05bd040d",
   "metadata": {},
   "outputs": [
    {
     "name": "stdout",
     "output_type": "stream",
     "text": [
      "True\n",
      "True\n",
      "False\n"
     ]
    }
   ],
   "source": [
    "#2\n",
    "def spy_game(nums):\n",
    "    count = 0\n",
    "    for num in nums:\n",
    "        if num == 0:\n",
    "            count += 1\n",
    "        elif num == 7:\n",
    "            if count == 2:\n",
    "                return True\n",
    "    return False \n",
    "print(spy_game([1, 2, 4, 0, 0, 7, 5]))\n",
    "print(spy_game([1, 0, 2, 4, 0, 5, 7]))  \n",
    "print(spy_game([1, 7, 2, 0, 4, 5, 0]))"
   ]
  },
  {
   "cell_type": "code",
   "execution_count": 91,
   "id": "53c7e115-b3e6-4c63-9d25-7cdb263090eb",
   "metadata": {},
   "outputs": [
    {
     "ename": "IndentationError",
     "evalue": "unindent does not match any outer indentation level (<string>, line 4)",
     "output_type": "error",
     "traceback": [
      "\u001b[1;36m  File \u001b[1;32m<string>:4\u001b[1;36m\u001b[0m\n\u001b[1;33m    addition = inner_function(a, b)\u001b[0m\n\u001b[1;37m                                   ^\u001b[0m\n\u001b[1;31mIndentationError\u001b[0m\u001b[1;31m:\u001b[0m unindent does not match any outer indentation level\n"
     ]
    }
   ],
   "source": [
    "#3\n",
    "def outer_function(a, b):\n",
    "        return x + y\n",
    "    addition = inner_function(a, b)\n",
    "    return addition + 5\n",
    "result = outer_function(3, 4)\n",
    "print(result)"
   ]
  },
  {
   "cell_type": "code",
   "execution_count": 95,
   "id": "a80f949f-2e5f-4666-be4a-bd11e80ee6e9",
   "metadata": {},
   "outputs": [
    {
     "name": "stdout",
     "output_type": "stream",
     "text": [
      "2020-01-15 09:03:32.744178\n",
      "2020\n"
     ]
    }
   ],
   "source": [
    "from datetime import datetime\n",
    "timestamp = \"2020-01-15 09:03:32.744178\"\n",
    "dt = datetime.strptime(timestamp, '%Y-%m-%d %H:%M:%S.%f')\n",
    "get_year = lambda x: x.year\n",
    "get_month = lambda x: x.month\n",
    "get_day = lambda x: x.day\n",
    "get_time = lambda x: x.time()\n",
    "print(timestamp)\n",
    "print(get_year(dt))"
   ]
  },
  {
   "cell_type": "code",
   "execution_count": 3,
   "id": "59651172-cf0c-4e97-b59d-e58fc1827e5f",
   "metadata": {},
   "outputs": [
    {
     "name": "stdout",
     "output_type": "stream",
     "text": [
      "Original string: sdf 23 safs8 5 sdfsd8 sdfs 56 21sfs 20 5\n",
      "Numbers in sorted form:\n",
      "20 21 23 56\n"
     ]
    }
   ],
   "source": [
    "#5\n",
    "import re\n",
    "input_string = \"sdf 23 safs8 5 sdfsd8 sdfs 56 21sfs 20 5\"\n",
    "numbers = list(map(int, re.findall(r'\\d+', input_string)))\n",
    "length_of_list = len(numbers)\n",
    "filtered_numbers = list(filter(lambda x: x > length_of_list, numbers))\n",
    "sorted_numbers = sorted(filtered_numbers)\n",
    "print(\"Original string:\", input_string)\n",
    "print(\"Numbers in sorted form:\")\n",
    "print(' '.join(map(str, sorted_numbers)))"
   ]
  },
  {
   "cell_type": "code",
   "execution_count": 15,
   "id": "f261d9fe-eed1-4fc9-82b6-7f34c1763108",
   "metadata": {},
   "outputs": [
    {
     "name": "stdout",
     "output_type": "stream",
     "text": [
      "Original number: 12\n",
      "Next bigger number: 21\n",
      "\n",
      "Original number: 10\n",
      "Next bigger number: False\n",
      "\n",
      "Original number: 201\n",
      "Next bigger number: 210\n",
      "\n",
      "Original number: 102\n",
      "Next bigger number: 120\n",
      "\n",
      "Original number: 445\n",
      "Next bigger number: 454\n",
      "\n"
     ]
    }
   ],
   "source": [
    "def next_bigger_number(n):\n",
    "    digits = list(str(n))\n",
    "    i = len(digits) - 2\n",
    "    while i >= 0 and digits[i] >= digits[i + 1]:\n",
    "        i -= 1\n",
    "    if i == -1:\n",
    "        return False\n",
    "    j = len(digits) - 1\n",
    "    while digits[j] <= digits[i]:\n",
    "        j -= 1\n",
    "    digits[i], digits[j] = digits[j], digits[i]\n",
    "    digits = digits[:i + 1] + digits[i + 1:][::-1]\n",
    "    return int(''.join(digits))\n",
    "numbers = [12, 10, 201, 102, 445]\n",
    "for number in numbers:\n",
    "    result = next_bigger_number(number)\n",
    "    print(f\"Original number: {number}\\nNext bigger number: {result}\\n\")"
   ]
  },
  {
   "cell_type": "code",
   "execution_count": 17,
   "id": "05a821d5-9633-49f4-b5f6-4ccb4f365e58",
   "metadata": {},
   "outputs": [
    {
     "name": "stdout",
     "output_type": "stream",
     "text": [
      "['not', 'too']\n",
      "['a', 'bbb']\n",
      "[]\n"
     ]
    }
   ],
   "source": [
    "#7\n",
    "def noLong(strings):\n",
    "    return [s for s in strings if len(s) < 4]\n",
    "print(noLong([\"this\", \"not\", \"too\", \"long\"]))\n",
    "print(noLong([\"a\", \"bbb\", \"cccc\"]))\n",
    "print(noLong([\"cccc\", \"cccc\", \"cccc\"]))"
   ]
  },
  {
   "cell_type": "code",
   "execution_count": 19,
   "id": "8df43b27-1d73-4c7b-8834-d28e2c9b3cad",
   "metadata": {},
   "outputs": [
    {
     "name": "stdout",
     "output_type": "stream",
     "text": [
      "16\n"
     ]
    }
   ],
   "source": [
    "#8\n",
    "sample_names = ['sally', 'Dylan', 'rebecca', 'Diana', 'Joanne', 'keith']\n",
    "total_length = sum(map(len, filter(lambda name: name[0].isupper(), sample_names)))\n",
    "print(total_length)"
   ]
  },
  {
   "cell_type": "code",
   "execution_count": 26,
   "id": "0e7ffc4d-d6b7-42b1-bc25-111da4caf2de",
   "metadata": {},
   "outputs": [
    {
     "name": "stdout",
     "output_type": "stream",
     "text": [
      "25\n"
     ]
    }
   ],
   "source": [
    "#9\n",
    "def count_primes(n):\n",
    "    if n < 2:\n",
    "        return 0\n",
    "    primes = [True] * (n + 1)\n",
    "    primes[0], primes[1] = False, False\n",
    "    for i in range(2, int(n**0.5) + 1):\n",
    "        if primes[i]:\n",
    "            for j in range(i * i, n + 1, i):\n",
    "                primes[j] = False\n",
    "    return sum(primes)\n",
    "print(count_primes(100))"
   ]
  },
  {
   "cell_type": "code",
   "execution_count": 28,
   "id": "1f0207e5-5908-4ea9-90b8-70977fee4e99",
   "metadata": {},
   "outputs": [
    {
     "name": "stdout",
     "output_type": "stream",
     "text": [
      "9\n",
      "9\n",
      "14\n"
     ]
    }
   ],
   "source": [
    "#10\n",
    "def summer_69(arr):\n",
    "    total = 0\n",
    "    ignore = False\n",
    "    for num in arr:\n",
    "        if num == 6:\n",
    "            ignore = True\n",
    "        if not ignore:\n",
    "            total += num\n",
    "        if num == 9:\n",
    "            ignore = False\n",
    "    return total\n",
    "print(summer_69([1, 3, 5]))\n",
    "print(summer_69([4, 5, 6, 7, 8, 9])) \n",
    "print(summer_69([2, 1, 6, 9, 11]))"
   ]
  },
  {
   "cell_type": "code",
   "execution_count": null,
   "id": "18b78075-2258-41c4-87db-2bde69bf16f7",
   "metadata": {},
   "outputs": [],
   "source": []
  }
 ],
 "metadata": {
  "kernelspec": {
   "display_name": "Python 3 (ipykernel)",
   "language": "python",
   "name": "python3"
  },
  "language_info": {
   "codemirror_mode": {
    "name": "ipython",
    "version": 3
   },
   "file_extension": ".py",
   "mimetype": "text/x-python",
   "name": "python",
   "nbconvert_exporter": "python",
   "pygments_lexer": "ipython3",
   "version": "3.12.4"
  }
 },
 "nbformat": 4,
 "nbformat_minor": 5
}
