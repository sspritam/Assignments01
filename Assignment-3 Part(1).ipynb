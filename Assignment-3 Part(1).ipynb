{
 "cells": [
  {
   "cell_type": "markdown",
   "id": "8a7edc89-142c-41e1-a1fa-c81265beb7ce",
   "metadata": {},
   "source": [
    "LVL-EASY\n",
    "#1"
   ]
  },
  {
   "cell_type": "code",
   "execution_count": 2,
   "id": "013e90f4-c4c9-4be9-86a3-e1b019c6a663",
   "metadata": {},
   "outputs": [
    {
     "name": "stdout",
     "output_type": "stream",
     "text": [
      "1\n",
      "1\n",
      "2\n",
      "3\n"
     ]
    }
   ],
   "source": [
    "a = [1,1,2,3,5,8,13,21,34,55,89] \n",
    "for num in a:\n",
    "    if num < 5:\n",
    "        print(num)"
   ]
  },
  {
   "cell_type": "code",
   "execution_count": 4,
   "id": "f981b906-9307-4e03-8bcc-e2b179cc3bc5",
   "metadata": {},
   "outputs": [
    {
     "name": "stdout",
     "output_type": "stream",
     "text": [
      "10 4 6 "
     ]
    }
   ],
   "source": [
    "list = [10,21,4,5,6,93]\n",
    "for num in list:\n",
    "    if num % 2 == 0:\n",
    "        print(num, end=\" \")"
   ]
  },
  {
   "cell_type": "code",
   "execution_count": 8,
   "id": "3a10fa6f-13d6-49cf-b5c0-6a4456bd20ee",
   "metadata": {},
   "outputs": [
    {
     "name": "stdout",
     "output_type": "stream",
     "text": [
      "['Green', 'White', 'Black']\n"
     ]
    }
   ],
   "source": [
    "color = ['Red','Green','White','Black','Pink','Yellow']\n",
    "color = [x for (i,x) in enumerate(color) if i not in (0, 4, 5)]\n",
    "print(color)"
   ]
  },
  {
   "cell_type": "code",
   "execution_count": 10,
   "id": "ec162233-5256-4618-96f8-c66d10137be5",
   "metadata": {},
   "outputs": [
    {
     "name": "stdout",
     "output_type": "stream",
     "text": [
      "('tuple', False, 3.2, 1)\n"
     ]
    }
   ],
   "source": [
    "tuplex = (\"tuple\",False, 3.2,1)\n",
    "print(tuplex)"
   ]
  },
  {
   "cell_type": "code",
   "execution_count": 14,
   "id": "6c86d30c-40d8-4ff1-b4f9-bb5f8d030e6f",
   "metadata": {},
   "outputs": [],
   "source": [
    "#5"
   ]
  },
  {
   "cell_type": "code",
   "execution_count": 18,
   "id": "0ffb88e3-056d-486a-b27e-42a458ccd9ac",
   "metadata": {},
   "outputs": [
    {
     "name": "stdout",
     "output_type": "stream",
     "text": [
      "('orange', 'kiwi', 'melon')\n"
     ]
    }
   ],
   "source": [
    "this_tuple = (\"apple\",\"banana\",\"cherry\",\"orange\",\"kiwi\",\"melon\",\"mango\")\n",
    "print(this_tuple[-4:-1])"
   ]
  },
  {
   "cell_type": "code",
   "execution_count": 20,
   "id": "e71e398d-01e3-40b4-8002-008dfcab4756",
   "metadata": {},
   "outputs": [
    {
     "name": "stdout",
     "output_type": "stream",
     "text": [
      "{'salad', 'eggs', 'bread', 'milk', 'salami'}\n"
     ]
    }
   ],
   "source": [
    "list_item = [\"eggs\", \"milk\", \"bread\", \"salami\", \"salad\"]\n",
    "list_name = set(list_item)\n",
    "print(list_name)"
   ]
  },
  {
   "cell_type": "code",
   "execution_count": 22,
   "id": "38fd9b17-9b0f-4217-969b-24dc5f22f78c",
   "metadata": {},
   "outputs": [
    {
     "name": "stdout",
     "output_type": "stream",
     "text": [
      "{'Belgium', 'Austria', 'India', 'Scotland'}\n"
     ]
    }
   ],
   "source": [
    "city_set = {'India', 'Belgium', 'China', 'Austria', 'Scotland'}\n",
    "city_set.remove('China')\n",
    "print(city_set)"
   ]
  },
  {
   "cell_type": "code",
   "execution_count": 24,
   "id": "fb5c6aef-87af-45b3-aaca-9ee1ca85379f",
   "metadata": {},
   "outputs": [
    {
     "data": {
      "text/plain": [
       "{23, 34, 35, 89, 98}"
      ]
     },
     "execution_count": 24,
     "metadata": {},
     "output_type": "execute_result"
    }
   ],
   "source": [
    "#10\n",
    "setA = {23, 67, 98, 34, 25, 89, 35, 56, 25, 34}\n",
    "setB = {89, 45, 98, 77, 60, 69, 34, 35, 23, 100}\n",
    "set.intersection(setA,setB)"
   ]
  },
  {
   "cell_type": "markdown",
   "id": "66cf861e-b603-4cd4-b645-63b37b94ad46",
   "metadata": {},
   "source": [
    "#LVL-MODERATE #1\n"
   ]
  },
  {
   "cell_type": "code",
   "execution_count": 27,
   "id": "43719944-d47e-49d6-94f2-70adb63e9a16",
   "metadata": {},
   "outputs": [
    {
     "name": "stdout",
     "output_type": "stream",
     "text": [
      "{97, 33, 67, 37, 75, 78, 23, 56, 90}\n"
     ]
    }
   ],
   "source": [
    "duplicate = [ 23, 56, 67, 23, 97, 23, 78, 33, 90, 37, 75]\n",
    "print(set(duplicate))"
   ]
  },
  {
   "cell_type": "code",
   "execution_count": 29,
   "id": "9ecd1c57-035b-452d-9b25-aaf76d9142a6",
   "metadata": {},
   "outputs": [
    {
     "name": "stdout",
     "output_type": "stream",
     "text": [
      "[23, 56, 67, 97, 78, 33, 90, 37, 75]\n"
     ]
    }
   ],
   "source": [
    "list = [ 23, 56, 67, 23, 97, 23, 78, 33, 90, 37, 75]\n",
    "mylist = [list[i] for i in range(len(list)) if list.index(list[i]) == i]\n",
    "print(mylist)"
   ]
  },
  {
   "cell_type": "code",
   "execution_count": 31,
   "id": "955df89d-6d00-4373-8815-906e7bc14d5e",
   "metadata": {},
   "outputs": [
    {
     "name": "stdout",
     "output_type": "stream",
     "text": [
      "['Mike', 'Emma', 'Kelly', 'Brad']\n",
      "Mike\n",
      "Emma\n",
      "Kelly\n",
      "Brad\n"
     ]
    }
   ],
   "source": [
    "#2\n",
    "list1 = [\"Mike\",\"Emma\",\"Kelly\",\" \",\"Brad\",\" \"]\n",
    "result = [x for x in list1 if x != \" \"]\n",
    "print(result)\n",
    "for i in list1:\n",
    "    if i!= \" \":\n",
    "        print(i)\n",
    "    else:\n",
    "        pass"
   ]
  },
  {
   "cell_type": "code",
   "execution_count": 33,
   "id": "591ec6b1-675a-443b-b4e3-1c886d6a603d",
   "metadata": {},
   "outputs": [
    {
     "name": "stdout",
     "output_type": "stream",
     "text": [
      "['Mobile', 'Laptop', 'Camera', 'Speakers', 'Television', 'Laptop Case', 'Camera Lens']\n"
     ]
    }
   ],
   "source": [
    "gadgets = [\"Mobile\", \"Laptop\", 100, \"Camera\", 310.28, \"Speakers\", 27.00, \"Television\", 1000, \"Laptop Case\", \"Camera Lens\"]\n",
    "list_str = []\n",
    "list_int = []\n",
    "for i in gadgets:\n",
    "    t = type(i)==str\n",
    "    if t:\n",
    "        list_str.append(i)\n",
    "    else:\n",
    "        list_int.append(i)\n",
    "print(list_str)"
   ]
  },
  {
   "cell_type": "code",
   "execution_count": 35,
   "id": "3b52817e-3080-4532-804f-705dcb980c23",
   "metadata": {},
   "outputs": [
    {
     "name": "stdout",
     "output_type": "stream",
     "text": [
      "10 4 66 24 "
     ]
    }
   ],
   "source": [
    "#4\n",
    "list = [10,21,4,45,66,93,33,24]\n",
    "for num in list:\n",
    "    if num % 2 == 0:\n",
    "        print(num,end=\" \")"
   ]
  },
  {
   "cell_type": "code",
   "execution_count": 37,
   "id": "6af393eb-d0c3-404e-ae54-f18d1e7f40e8",
   "metadata": {},
   "outputs": [
    {
     "name": "stdout",
     "output_type": "stream",
     "text": [
      "(50, 40, 30, 20, 10)\n"
     ]
    }
   ],
   "source": [
    "#4\n",
    "def Reverse(tuples):\n",
    "    new_tup = tuples[: :-1]\n",
    "    return new_tup\n",
    "tuples = (10,20,30,40,50)\n",
    "print(Reverse(tuples))"
   ]
  },
  {
   "cell_type": "code",
   "execution_count": 57,
   "id": "48503843-9bf7-43ea-9f1d-1002e1d53f57",
   "metadata": {},
   "outputs": [
    {
     "ename": "TypeError",
     "evalue": "'list' object is not callable",
     "output_type": "error",
     "traceback": [
      "\u001b[1;31m---------------------------------------------------------------------------\u001b[0m",
      "\u001b[1;31mTypeError\u001b[0m                                 Traceback (most recent call last)",
      "Cell \u001b[1;32mIn[57], line 2\u001b[0m\n\u001b[0;32m      1\u001b[0m tup1 \u001b[38;5;241m=\u001b[39m (\u001b[38;5;124m\"\u001b[39m\u001b[38;5;124mI\u001b[39m\u001b[38;5;124m'\u001b[39m\u001b[38;5;124mm\u001b[39m\u001b[38;5;124m\"\u001b[39m, \u001b[38;5;241m22\u001b[39m, \u001b[38;5;124m'\u001b[39m\u001b[38;5;124mSalary\u001b[39m\u001b[38;5;124m'\u001b[39m, \u001b[38;5;241m23.4\u001b[39m)\n\u001b[1;32m----> 2\u001b[0m tup_list \u001b[38;5;241m=\u001b[39m \u001b[38;5;28mlist\u001b[39m(tup1)\n\u001b[0;32m      3\u001b[0m salary_index \u001b[38;5;241m=\u001b[39m tup_list\u001b[38;5;241m.\u001b[39mindex(\u001b[38;5;124m\"\u001b[39m\u001b[38;5;124msalary\u001b[39m\u001b[38;5;124m\"\u001b[39m)\n\u001b[0;32m      4\u001b[0m tup_list\u001b[38;5;241m.\u001b[39mpop(salary_index)\n",
      "\u001b[1;31mTypeError\u001b[0m: 'list' object is not callable"
     ]
    }
   ],
   "source": [
    "tup1 = (\"I'm\", 22, 'Salary', 23.4)\n",
    "tup_list = list(tup1)\n",
    "salary_index = tup_list.index(\"salary\")\n",
    "tup_list.pop(salary_index)\n",
    "new_tup = tuple(tup_list)\n",
    "print(new_tup)"
   ]
  },
  {
   "cell_type": "code",
   "execution_count": 41,
   "id": "82057b3a-fe3c-4b44-bd09-db561b6ed9a4",
   "metadata": {},
   "outputs": [
    {
     "name": "stdout",
     "output_type": "stream",
     "text": [
      "20\n"
     ]
    }
   ],
   "source": [
    "aTuple = (\"Orange\", [10, 20, 30], (5, 15, 25))\n",
    "#tuple[0] = \"orange\"\n",
    "#tuple[1] = [10,20,30]\n",
    "#list[1][1] = 20\n",
    "print(aTuple[1][1])"
   ]
  },
  {
   "cell_type": "code",
   "execution_count": 43,
   "id": "01c4c50a-46e4-4ab7-9434-5835c7b0928a",
   "metadata": {},
   "outputs": [
    {
     "name": "stdout",
     "output_type": "stream",
     "text": [
      "True\n"
     ]
    }
   ],
   "source": [
    "def check(t):\n",
    "    return all(i == t[0] for i in t)\n",
    "    \n",
    "tuple1 = (44, 44, 44, 44, 44, 44)\n",
    "print(check(tuple1))"
   ]
  },
  {
   "cell_type": "code",
   "execution_count": 45,
   "id": "dc09918a-bf44-412d-b9fc-4d2becee2e0f",
   "metadata": {},
   "outputs": [
    {
     "name": "stdout",
     "output_type": "stream",
     "text": [
      "Yes, 'apple' is in the fruits tuple\n"
     ]
    }
   ],
   "source": [
    "tuple = (\"apple\", \"banana\", \"cherry\")\n",
    "if \"apple\" in tuple:\n",
    "        print(\"Yes, 'apple' is in the fruits tuple\")"
   ]
  },
  {
   "cell_type": "code",
   "execution_count": 47,
   "id": "1e96dac0-f637-490a-aa8f-abb5b33881a9",
   "metadata": {},
   "outputs": [
    {
     "name": "stdout",
     "output_type": "stream",
     "text": [
      "{20, 70, 10, 60}\n"
     ]
    }
   ],
   "source": [
    "#9\n",
    "set1 = {10, 20, 30, 40, 50}\n",
    "set2 = {30, 40, 50, 60, 70}\n",
    "print(set1.symmetric_difference(set2))"
   ]
  },
  {
   "cell_type": "code",
   "execution_count": 49,
   "id": "0c749e5c-abe6-4213-8ae9-5c91e01830d2",
   "metadata": {},
   "outputs": [
    {
     "name": "stdout",
     "output_type": "stream",
     "text": [
      "{'a', 'h', 't', 'P', 's', 'n', 'l', 'o', 'C', 'y'}\n"
     ]
    }
   ],
   "source": [
    "#9\n",
    "A = set(\"Python\")\n",
    "B = set(\"Class\")\n",
    "A.update(B) \n",
    "print(A)"
   ]
  },
  {
   "cell_type": "code",
   "execution_count": 14,
   "id": "f04a169e-3fdb-40a0-b05f-436fb255c07d",
   "metadata": {},
   "outputs": [
    {
     "name": "stdout",
     "output_type": "stream",
     "text": [
      "i\n",
      "o\n",
      "k\n",
      "e\n",
      "R\n",
      "s\n",
      "M\n"
     ]
    }
   ],
   "source": [
    "name = \"MikeRoss\"\n",
    "unique_chars = set(name)\n",
    "for char in unique_chars:\n",
    "    print(char)"
   ]
  },
  {
   "cell_type": "markdown",
   "id": "edd64f6f-049f-4a8b-ad0a-a0722ad53cf6",
   "metadata": {},
   "source": [
    "DIFFICUL-LVL\n",
    "#1"
   ]
  },
  {
   "cell_type": "code",
   "execution_count": 17,
   "id": "0a71530e-b075-48ff-95ac-fd99f3e47651",
   "metadata": {},
   "outputs": [
    {
     "name": "stdout",
     "output_type": "stream",
     "text": [
      "['Hello Dear', 'nice to meet you']\n"
     ]
    }
   ],
   "source": [
    "List1 = [\"Hello\",\"nice to\"]\n",
    "List2 = [\"Dear\", \"meet you\"]\n",
    "result = [f\"{List1[i]} {List2[i]}\" for i in range(len(List1))]\n",
    "print(result)"
   ]
  },
  {
   "cell_type": "raw",
   "id": "665824cf-2559-4be5-a023-b671955766f8",
   "metadata": {},
   "source": [
    "#2"
   ]
  },
  {
   "cell_type": "code",
   "execution_count": 19,
   "id": "1269b5c7-7463-488b-842d-2e59c1322979",
   "metadata": {},
   "outputs": [
    {
     "name": "stdout",
     "output_type": "stream",
     "text": [
      "[1, 0, 3, 2, 5, 4]\n"
     ]
    }
   ],
   "source": [
    "def swap_nth_with_next(input_list):\n",
    "    for i in range(0, len(input_list) - 1, 2):\n",
    "        # Swap the elements at positions i and i+1\n",
    "        input_list[i], input_list[i + 1] = input_list[i + 1], input_list[i]\n",
    "    return input_list\n",
    "sample_list = [0, 1, 2, 3, 4, 5]\n",
    "output_list = swap_nth_with_next(sample_list)\n",
    "print(output_list)"
   ]
  },
  {
   "cell_type": "code",
   "execution_count": 21,
   "id": "e0b5f05c-a357-4e04-b8d3-e518a331aac8",
   "metadata": {},
   "outputs": [
    {
     "name": "stdout",
     "output_type": "stream",
     "text": [
      "[['a', 'd', 'g', 'j', 'm'], ['b', 'e', 'h', 'k', 'n'], ['c', 'f', 'i', 'l']]\n"
     ]
    }
   ],
   "source": [
    "#3\n",
    "def split_list_every_nth(lst, n):\n",
    "    result = [[] for _ in range(n)]\n",
    "    for i in range(len(lst)):\n",
    "        result[i % n].append(lst[i])\n",
    "    return result\n",
    "sample_list = ['a', 'b', 'c', 'd', 'e', 'f', 'g', 'h', 'i', 'j', 'k', 'l', 'm', 'n']\n",
    "N = 3\n",
    "output = split_list_every_nth(sample_list, N)\n",
    "print(output)"
   ]
  },
  {
   "cell_type": "code",
   "execution_count": 23,
   "id": "7cf64707-c97a-4964-a05e-1ff49bd7ba88",
   "metadata": {},
   "outputs": [
    {
     "name": "stdout",
     "output_type": "stream",
     "text": [
      "4\n"
     ]
    }
   ],
   "source": [
    "#4\n",
    "tup=(2,4,5,6,2,3,4,4,7,8,4,3,2)\n",
    "repeated_item = max(set(tup), key=tup.count)\n",
    "print(repeated_item)"
   ]
  },
  {
   "cell_type": "code",
   "execution_count": 25,
   "id": "4f54a215-9bd6-483b-9fd7-600d5e9eb2db",
   "metadata": {},
   "outputs": [
    {
     "name": "stdout",
     "output_type": "stream",
     "text": [
      "(('c', 11), ('a', 23), ('d', 29), ('b', 37))\n"
     ]
    }
   ],
   "source": [
    "my_tuple = (('a', 23), ('b', 37), ('c', 11), ('d', 29))\n",
    "sorted_tuple = tuple(sorted(my_tuple, key=lambda x: x[1]))\n",
    "print(sorted_tuple)"
   ]
  },
  {
   "cell_type": "code",
   "execution_count": 28,
   "id": "800eb53a-17d6-4122-9483-9c0d41ef781b",
   "metadata": {},
   "outputs": [
    {
     "name": "stdout",
     "output_type": "stream",
     "text": [
      "[('',), ('a', 'b'), ('a', 'b', 'c'), 'd']\n"
     ]
    }
   ],
   "source": [
    "#6\n",
    "data = [(), (), ('',), ('a', 'b'), ('a', 'b', 'c'), ('d')]\n",
    "filtered_data = [item for item in data if item != ()]\n",
    "print(filtered_data)\n"
   ]
  },
  {
   "cell_type": "code",
   "execution_count": 44,
   "id": "64270d22-4e7a-4b8d-83b7-4c1972c2f350",
   "metadata": {},
   "outputs": [
    {
     "name": "stdout",
     "output_type": "stream",
     "text": [
      "The index of e: 1\n",
      "The index of i: 2\n"
     ]
    }
   ],
   "source": [
    "vowels_string = 'aeiou'\n",
    "vowels = list(vowels_string)\n",
    "index = vowels.index('e')\n",
    "print('The index of e:', index)\n",
    "index = vowels.index('i')\n",
    "print('The index of i:', index)"
   ]
  },
  {
   "cell_type": "code",
   "execution_count": 46,
   "id": "21b7293e-f3cb-4f51-9f9e-621ec14c5d4e",
   "metadata": {},
   "outputs": [
    {
     "name": "stdout",
     "output_type": "stream",
     "text": [
      "[2, 4, 6, 8, 10, 12, 14, 16]\n"
     ]
    }
   ],
   "source": [
    "#8\n",
    "mat = [[1,2,3,4], [5,6,7,8], [9,10,11,12], [13,14,15,16]]\n",
    "result = [i for row in mat for i in row if i % 2 == 0]\n",
    "print(result)"
   ]
  },
  {
   "cell_type": "code",
   "execution_count": 48,
   "id": "51a8a763-aef5-4d07-8a40-0f9aae6792a1",
   "metadata": {},
   "outputs": [
    {
     "name": "stdout",
     "output_type": "stream",
     "text": [
      "symdiffAB: {'t', 'z', 'g', 'h', 'b', 'i'} size: 6\n",
      "symdiffBA: {'t', 'z', 'g', 'h', 'i', 'b'} size: 6\n"
     ]
    }
   ],
   "source": [
    "#9\n",
    "setA = {'a', 'e', 'i', 'o', 'u', 'g', 'h'}\n",
    "setB = {'a', 'e', 'z', 'b', 't', 'o', 'u'}\n",
    "symdiffAB = setA.symmetric_difference(setB)\n",
    "print(\"symdiffAB:\", symdiffAB, \"size:\", len(symdiffAB))\n",
    "symdiffBA = setB.symmetric_difference(setA)\n",
    "print(\"symdiffBA:\", symdiffBA, \"size:\", len(symdiffBA))"
   ]
  },
  {
   "cell_type": "code",
   "execution_count": 50,
   "id": "38569be3-c261-4414-8fc9-d94a4af9a32d",
   "metadata": {},
   "outputs": [
    {
     "name": "stdout",
     "output_type": "stream",
     "text": [
      "Frozen set 1: frozenset({1, 2, 3, 4, 5})\n",
      "Frozen set 2: frozenset({6, 7, 8, 9, 10})\n"
     ]
    }
   ],
   "source": [
    "#10\n",
    "frozen_set1 = frozenset([1,2,3,4,5])\n",
    "frozen_set2 = frozenset([6,7,8,9,10])\n",
    "print(\"Frozen set 1:\",frozen_set1)\n",
    "print(\"Frozen set 2:\",frozen_set2)"
   ]
  },
  {
   "cell_type": "code",
   "execution_count": null,
   "id": "b3a2a23e-e098-414f-9a44-5d8941d34ad3",
   "metadata": {},
   "outputs": [],
   "source": []
  },
  {
   "cell_type": "code",
   "execution_count": null,
   "id": "095995cf-d6ac-42e7-b10d-60c15419bf41",
   "metadata": {},
   "outputs": [],
   "source": []
  }
 ],
 "metadata": {
  "kernelspec": {
   "display_name": "Python 3 (ipykernel)",
   "language": "python",
   "name": "python3"
  },
  "language_info": {
   "codemirror_mode": {
    "name": "ipython",
    "version": 3
   },
   "file_extension": ".py",
   "mimetype": "text/x-python",
   "name": "python",
   "nbconvert_exporter": "python",
   "pygments_lexer": "ipython3",
   "version": "3.12.4"
  }
 },
 "nbformat": 4,
 "nbformat_minor": 5
}
