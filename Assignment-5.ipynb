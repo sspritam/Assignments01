{
 "cells": [
  {
   "cell_type": "code",
   "execution_count": 9,
   "id": "ad8d0dda-b270-4bb8-9bc8-762d67d233b9",
   "metadata": {},
   "outputs": [
    {
     "name": "stdout",
     "output_type": "stream",
     "text": [
      "Operating System: nt\n",
      "Information of current operating system: uname_result(system='Windows', node='LAPTOP-41TNFTBP', release='10', version='10.0.19045', machine='AMD64')\n",
      "Current Working Directory: C:\\\n"
     ]
    }
   ],
   "source": [
    "#1\n",
    "import os\n",
    "import platform\n",
    "os_name = os.name\n",
    "os_info = platform.uname()\n",
    "current_directory = os.getcwd()\n",
    "print(f\"Operating System: {os_name}\")\n",
    "print(f\"Information of current operating system: {os_info}\")\n",
    "print(f\"Current Working Directory: {current_directory}\")"
   ]
  },
  {
   "cell_type": "code",
   "execution_count": 11,
   "id": "f191b9c7-9a26-45d2-90f5-7804ba7cc6be",
   "metadata": {},
   "outputs": [
    {
     "name": "stdout",
     "output_type": "stream",
     "text": [
      "Current dir: C:\\\n",
      "Change the dir (moving up one): ..\n",
      "Current dir: C:\\\n",
      "Current dir: C:\\\n",
      "Change the dir (moving up one): ..\n",
      "Current dir: C:\\\n"
     ]
    }
   ],
   "source": [
    "#2\n",
    "import os\n",
    "def change_directory_up():\n",
    "    current_dir = os.getcwd()\n",
    "    print(f\"Current dir: {current_dir}\")\n",
    "    os.chdir('..')\n",
    "    new_dir = os.getcwd()\n",
    "    print(f\"Change the dir (moving up one): ..\")\n",
    "    print(f\"Current dir: {new_dir}\")\n",
    "change_directory_up()\n",
    "change_directory_up()"
   ]
  },
  {
   "cell_type": "code",
   "execution_count": 13,
   "id": "e861b2d5-cfa9-465e-9514-780c583fca71",
   "metadata": {},
   "outputs": [
    {
     "name": "stdout",
     "output_type": "stream",
     "text": [
      "File not found. Please check the file path.\n"
     ]
    }
   ],
   "source": [
    "#3\n",
    "def read_file(file_path):\n",
    "    try:\n",
    "        with open(file_path, 'r') as file:\n",
    "            contents = file.read()\n",
    "            print(contents)\n",
    "    except FileNotFoundError:\n",
    "        print(\"File not found. Please check the file path.\")\n",
    "file_path = 'your/file/path/sample.txt'\n",
    "read_file(file_path)"
   ]
  },
  {
   "cell_type": "code",
   "execution_count": 19,
   "id": "6a3e33db-f473-43e9-b5f3-a97f99fadee1",
   "metadata": {},
   "outputs": [
    {
     "ename": "ValueError",
     "evalue": "invalid mode: 'C:/Users/YourUsername/Path/To/Your/sample.txt'",
     "output_type": "error",
     "traceback": [
      "\u001b[1;31m---------------------------------------------------------------------------\u001b[0m",
      "\u001b[1;31mValueError\u001b[0m                                Traceback (most recent call last)",
      "Cell \u001b[1;32mIn[19], line 11\u001b[0m\n\u001b[0;32m      9\u001b[0m         \u001b[38;5;28;01mreturn\u001b[39;00m []\n\u001b[0;32m     10\u001b[0m file_path \u001b[38;5;241m=\u001b[39m \u001b[38;5;124m'\u001b[39m\u001b[38;5;124mC:/Users/YourUsername/Path/To/Your/sample.txt\u001b[39m\u001b[38;5;124m'\u001b[39m\n\u001b[1;32m---> 11\u001b[0m lines \u001b[38;5;241m=\u001b[39m read_file_lines(file_path)\n\u001b[0;32m     12\u001b[0m \u001b[38;5;28mprint\u001b[39m(lines)\n",
      "Cell \u001b[1;32mIn[19], line 4\u001b[0m, in \u001b[0;36mread_file_lines\u001b[1;34m(file_path)\u001b[0m\n\u001b[0;32m      2\u001b[0m \u001b[38;5;28;01mdef\u001b[39;00m \u001b[38;5;21mread_file_lines\u001b[39m(file_path):\n\u001b[0;32m      3\u001b[0m     \u001b[38;5;28;01mtry\u001b[39;00m:\n\u001b[1;32m----> 4\u001b[0m         \u001b[38;5;28;01mwith\u001b[39;00m \u001b[38;5;28mopen\u001b[39m(file_path, \u001b[38;5;124m'\u001b[39m\u001b[38;5;124mC:/Users/YourUsername/Path/To/Your/sample.txt\u001b[39m\u001b[38;5;124m'\u001b[39m) \u001b[38;5;28;01mas\u001b[39;00m file:\n\u001b[0;32m      5\u001b[0m             lines \u001b[38;5;241m=\u001b[39m file\u001b[38;5;241m.\u001b[39mreadlines()\n\u001b[0;32m      6\u001b[0m             \u001b[38;5;28;01mreturn\u001b[39;00m lines\n",
      "File \u001b[1;32m~\\anaconda3\\Lib\\site-packages\\IPython\\core\\interactiveshell.py:324\u001b[0m, in \u001b[0;36m_modified_open\u001b[1;34m(file, *args, **kwargs)\u001b[0m\n\u001b[0;32m    317\u001b[0m \u001b[38;5;28;01mif\u001b[39;00m file \u001b[38;5;129;01min\u001b[39;00m {\u001b[38;5;241m0\u001b[39m, \u001b[38;5;241m1\u001b[39m, \u001b[38;5;241m2\u001b[39m}:\n\u001b[0;32m    318\u001b[0m     \u001b[38;5;28;01mraise\u001b[39;00m \u001b[38;5;167;01mValueError\u001b[39;00m(\n\u001b[0;32m    319\u001b[0m         \u001b[38;5;124mf\u001b[39m\u001b[38;5;124m\"\u001b[39m\u001b[38;5;124mIPython won\u001b[39m\u001b[38;5;124m'\u001b[39m\u001b[38;5;124mt let you open fd=\u001b[39m\u001b[38;5;132;01m{\u001b[39;00mfile\u001b[38;5;132;01m}\u001b[39;00m\u001b[38;5;124m by default \u001b[39m\u001b[38;5;124m\"\u001b[39m\n\u001b[0;32m    320\u001b[0m         \u001b[38;5;124m\"\u001b[39m\u001b[38;5;124mas it is likely to crash IPython. If you know what you are doing, \u001b[39m\u001b[38;5;124m\"\u001b[39m\n\u001b[0;32m    321\u001b[0m         \u001b[38;5;124m\"\u001b[39m\u001b[38;5;124myou can use builtins\u001b[39m\u001b[38;5;124m'\u001b[39m\u001b[38;5;124m open.\u001b[39m\u001b[38;5;124m\"\u001b[39m\n\u001b[0;32m    322\u001b[0m     )\n\u001b[1;32m--> 324\u001b[0m \u001b[38;5;28;01mreturn\u001b[39;00m io_open(file, \u001b[38;5;241m*\u001b[39margs, \u001b[38;5;241m*\u001b[39m\u001b[38;5;241m*\u001b[39mkwargs)\n",
      "\u001b[1;31mValueError\u001b[0m: invalid mode: 'C:/Users/YourUsername/Path/To/Your/sample.txt'"
     ]
    }
   ],
   "source": [
    "#4\n",
    "def read_file_lines(file_path):\n",
    "    try:\n",
    "        with open(file_path, 'C:/Users/YourUsername/Path/To/Your/sample.txt') as file:\n",
    "            lines = file.readlines()\n",
    "            return lines\n",
    "    except FileNotFoundError:\n",
    "        print(\"File not found. Please check the file path.\")\n",
    "        return []\n",
    "file_path = 'C:/Users/YourUsername/Path/To/Your/sample.txt'\n",
    "lines = read_file_lines(file_path)\n",
    "print(lines)"
   ]
  },
  {
   "cell_type": "code",
   "execution_count": 21,
   "id": "527338a9-f442-424b-8ad0-a087cc21f379",
   "metadata": {},
   "outputs": [
    {
     "name": "stdout",
     "output_type": "stream",
     "text": [
      "5-2345861: True\n",
      "6-2345861: True\n",
      "7-2345861: False\n",
      "4-2345861: False\n"
     ]
    }
   ],
   "source": [
    "#5\n",
    "def starts_with_specific_number(s):\n",
    "    return s.startswith(('5', '6'))\n",
    "input_strings = ['5-2345861', '6-2345861', '7-2345861', '4-2345861']\n",
    "for string in input_strings:\n",
    "    result = starts_with_specific_number(string)\n",
    "    print(f\"{string}: {result}\")"
   ]
  },
  {
   "cell_type": "code",
   "execution_count": 23,
   "id": "edbcae8c-ae0b-471c-81bd-b27e86f8b664",
   "metadata": {},
   "outputs": [
    {
     "name": "stdout",
     "output_type": "stream",
     "text": [
      "216.8.94.196\n"
     ]
    }
   ],
   "source": [
    "def remove_leading_zeros(ip):\n",
    "    parts = ip.split('.')\n",
    "    cleaned_parts = [str(int(part)) for part in parts]\n",
    "    return '.'.join(cleaned_parts)\n",
    "ip = \"216.08.094.196\"\n",
    "cleaned_ip = remove_leading_zeros(ip)\n",
    "print(cleaned_ip)"
   ]
  },
  {
   "cell_type": "code",
   "execution_count": 25,
   "id": "b8e3610a-7a39-4635-b2a7-d5e06028a459",
   "metadata": {},
   "outputs": [
    {
     "name": "stdout",
     "output_type": "stream",
     "text": [
      "2014-07-01 14:43:00\n"
     ]
    }
   ],
   "source": [
    "#7\n",
    "from datetime import datetime\n",
    "def convert_string_to_datetime(date_string):\n",
    "    date_format = '%Y-%m-%d %H:%M:%S'\n",
    "    dt = datetime.strptime(date_string, date_format)\n",
    "    return dt\n",
    "date_string = \"2014-07-01 14:43:00\"\n",
    "converted_datetime = convert_string_to_datetime(date_string)\n",
    "print(converted_datetime)"
   ]
  },
  {
   "cell_type": "code",
   "execution_count": 29,
   "id": "0c07e2cc-6004-48eb-bb50-1b0f77e76626",
   "metadata": {},
   "outputs": [
    {
     "name": "stdout",
     "output_type": "stream",
     "text": [
      "18:48:01.039516\n"
     ]
    }
   ],
   "source": [
    "#8\n",
    "from datetime import datetime\n",
    "def get_current_time():\n",
    "    now = datetime.now()\n",
    "    current_time = now.strftime(\"%H:%M:%S.%f\")\n",
    "    return current_time\n",
    "print(get_current_time())"
   ]
  },
  {
   "cell_type": "code",
   "execution_count": 31,
   "id": "c3ca713e-cc27-44d6-a1ea-8418e4532ae9",
   "metadata": {},
   "outputs": [
    {
     "name": "stdout",
     "output_type": "stream",
     "text": [
      "File created at: C:\\Users\\mp12y\\Desktop\\myFile.txt\n"
     ]
    }
   ],
   "source": [
    "#9\n",
    "import os\n",
    "def create_file_on_desktop():\n",
    "    username = os.getlogin()\n",
    "    desktop_path = os.path.join(f\"C:\\\\Users\\\\{username}\\\\Desktop\", \"myFile.txt\")\n",
    "    content = 'Python is oriented programming language'\n",
    "    with open(desktop_path, 'w') as file:\n",
    "        file.write(content)\n",
    "    print(f\"File created at: {desktop_path}\")\n",
    "create_file_on_desktop()"
   ]
  },
  {
   "cell_type": "code",
   "execution_count": 33,
   "id": "38bec6fd-9b4a-42cf-9977-6b4e4d31b53e",
   "metadata": {},
   "outputs": [
    {
     "name": "stdout",
     "output_type": "stream",
     "text": [
      "File content:\n",
      "Python is oriented programming language\n"
     ]
    }
   ],
   "source": [
    "#10\n",
    "import os\n",
    "def read_file_from_desktop():\n",
    "    username = os.getlogin()\n",
    "    desktop_path = os.path.join(f\"C:\\\\Users\\\\{username}\\\\Desktop\", \"myFile.txt\")\n",
    "    try:\n",
    "        with open(desktop_path, 'r') as file:\n",
    "            content = file.read()\n",
    "            print(\"File content:\")\n",
    "            print(content)\n",
    "    except FileNotFoundError:\n",
    "        print(\"File not found. Please ensure myFile.txt exists on your desktop.\")\n",
    "read_file_from_desktop()"
   ]
  },
  {
   "cell_type": "markdown",
   "id": "96830258-0573-4f63-89c8-375184d88126",
   "metadata": {},
   "source": [
    "LVL-MODERATE"
   ]
  },
  {
   "cell_type": "code",
   "execution_count": 35,
   "id": "0df1ecc5-88b2-4ca6-83b6-b7e187e2e06f",
   "metadata": {},
   "outputs": [
    {
     "ename": "FileNotFoundError",
     "evalue": "[WinError 3] The system cannot find the path specified: 'your/specified/path'",
     "output_type": "error",
     "traceback": [
      "\u001b[1;31m---------------------------------------------------------------------------\u001b[0m",
      "\u001b[1;31mFileNotFoundError\u001b[0m                         Traceback (most recent call last)",
      "Cell \u001b[1;32mIn[35], line 20\u001b[0m\n\u001b[0;32m     18\u001b[0m     \u001b[38;5;28mprint\u001b[39m(directories \u001b[38;5;241m+\u001b[39m files)\n\u001b[0;32m     19\u001b[0m specified_path \u001b[38;5;241m=\u001b[39m \u001b[38;5;124m'\u001b[39m\u001b[38;5;124myour/specified/path\u001b[39m\u001b[38;5;124m'\u001b[39m\n\u001b[1;32m---> 20\u001b[0m list_directories_and_files(specified_path)\n",
      "Cell \u001b[1;32mIn[35], line 7\u001b[0m, in \u001b[0;36mlist_directories_and_files\u001b[1;34m(path)\u001b[0m\n\u001b[0;32m      5\u001b[0m directories \u001b[38;5;241m=\u001b[39m []\n\u001b[0;32m      6\u001b[0m files \u001b[38;5;241m=\u001b[39m []\n\u001b[1;32m----> 7\u001b[0m \u001b[38;5;28;01mfor\u001b[39;00m item \u001b[38;5;129;01min\u001b[39;00m os\u001b[38;5;241m.\u001b[39mlistdir(path):\n\u001b[0;32m      8\u001b[0m     item_path \u001b[38;5;241m=\u001b[39m os\u001b[38;5;241m.\u001b[39mpath\u001b[38;5;241m.\u001b[39mjoin(path, item)\n\u001b[0;32m      9\u001b[0m     \u001b[38;5;28;01mif\u001b[39;00m os\u001b[38;5;241m.\u001b[39mpath\u001b[38;5;241m.\u001b[39misdir(item_path):\n",
      "\u001b[1;31mFileNotFoundError\u001b[0m: [WinError 3] The system cannot find the path specified: 'your/specified/path'"
     ]
    }
   ],
   "source": [
    "#1\n",
    "import os\n",
    "\n",
    "def list_directories_and_files(path):\n",
    "    directories = []\n",
    "    files = []\n",
    "    for item in os.listdir(path):\n",
    "        item_path = os.path.join(path, item)\n",
    "        if os.path.isdir(item_path):\n",
    "            directories.append(item)\n",
    "        elif os.path.isfile(item_path):\n",
    "            files.append(item)\n",
    "    print(\"Only directories:\")\n",
    "    print(directories)\n",
    "    print(\"\\nOnly files:\")\n",
    "    print(files)\n",
    "    print(\"\\nAll directories and files:\")\n",
    "    print(directories + files)\n",
    "specified_path = 'your/specified/path'\n",
    "list_directories_and_files(specified_path)"
   ]
  },
  {
   "cell_type": "code",
   "execution_count": 37,
   "id": "5b31df9d-e7c9-4e2b-8989-a636f39ca67e",
   "metadata": {},
   "outputs": [
    {
     "name": "stdout",
     "output_type": "stream",
     "text": [
      "Exist: False\n",
      "Readable: False\n",
      "Writable: False\n",
      "Executable: False\n"
     ]
    }
   ],
   "source": [
    "#2\n",
    "import os\n",
    "def check_access(path):\n",
    "    exists = os.path.exists(path)\n",
    "    readable = os.access(path, os.R_OK) if exists else False\n",
    "    writable = os.access(path, os.W_OK) if exists else False\n",
    "    executable = os.access(path, os.X_OK) if exists else False\n",
    "    print(f\"Exist: {exists}\")\n",
    "    print(f\"Readable: {readable}\")\n",
    "    print(f\"Writable: {writable}\")\n",
    "    print(f\"Executable: {executable}\")\n",
    "specified_path = r'c:\\Users\\Public\\C programming library.docx'\n",
    "check_access(specified_path)"
   ]
  },
  {
   "cell_type": "code",
   "execution_count": 41,
   "id": "0c4e2643-1308-480d-8d34-b99dacf9b0f6",
   "metadata": {},
   "outputs": [
    {
     "name": "stdout",
     "output_type": "stream",
     "text": [
      "File not found. Please check the file path.\n",
      "[]\n"
     ]
    }
   ],
   "source": [
    "#3\n",
    "def find_longest_words(file_path):\n",
    "    try:\n",
    "        with open(file_path, ) as file:\n",
    "            content = file.read()\n",
    "            words = content.split()\n",
    "            max_length = max(len(word) for word in words)\n",
    "            \n",
    "            longest_words = [word for word in words if len(word) == max_length]\n",
    "\n",
    "            return longest_words\n",
    "    except FileNotFoundError:\n",
    "        print(\"File not found. Please check the file path.\")\n",
    "        return []\n",
    "file_path = 'text.txt'\n",
    "longest_words = find_longest_words(file_path)\n",
    "print(longest_words)"
   ]
  },
  {
   "cell_type": "code",
   "execution_count": 58,
   "id": "19bf82d7-53cb-402e-a6c3-2fb60203ed90",
   "metadata": {},
   "outputs": [
    {
     "ename": "FileNotFoundError",
     "evalue": "[Errno 2] No such file or directory: 'test.txt'",
     "output_type": "error",
     "traceback": [
      "\u001b[1;31m---------------------------------------------------------------------------\u001b[0m",
      "\u001b[1;31mFileNotFoundError\u001b[0m                         Traceback (most recent call last)",
      "Cell \u001b[1;32mIn[58], line 7\u001b[0m\n\u001b[0;32m      5\u001b[0m             \u001b[38;5;28;01mpass\u001b[39;00m\n\u001b[0;32m      6\u001b[0m     \u001b[38;5;28;01mreturn\u001b[39;00m i \u001b[38;5;241m+\u001b[39m \u001b[38;5;241m1\u001b[39m \n\u001b[1;32m----> 7\u001b[0m \u001b[38;5;28mprint\u001b[39m(\u001b[38;5;124m\"\u001b[39m\u001b[38;5;124mNumber of lines in the file: \u001b[39m\u001b[38;5;124m\"\u001b[39m,file_lengthy(\u001b[38;5;124m\"\u001b[39m\u001b[38;5;124mtest.txt\u001b[39m\u001b[38;5;124m\"\u001b[39m))\n",
      "Cell \u001b[1;32mIn[58], line 3\u001b[0m, in \u001b[0;36mfile_lengthy\u001b[1;34m(fname)\u001b[0m\n\u001b[0;32m      2\u001b[0m \u001b[38;5;28;01mdef\u001b[39;00m \u001b[38;5;21mfile_lengthy\u001b[39m(fname):\n\u001b[1;32m----> 3\u001b[0m     \u001b[38;5;28;01mwith\u001b[39;00m \u001b[38;5;28mopen\u001b[39m(fname) \u001b[38;5;28;01mas\u001b[39;00m f:\n\u001b[0;32m      4\u001b[0m         \u001b[38;5;28;01mfor\u001b[39;00m i, l \u001b[38;5;129;01min\u001b[39;00m \u001b[38;5;28menumerate\u001b[39m(f):\n\u001b[0;32m      5\u001b[0m             \u001b[38;5;28;01mpass\u001b[39;00m\n",
      "File \u001b[1;32m~\\anaconda3\\Lib\\site-packages\\IPython\\core\\interactiveshell.py:324\u001b[0m, in \u001b[0;36m_modified_open\u001b[1;34m(file, *args, **kwargs)\u001b[0m\n\u001b[0;32m    317\u001b[0m \u001b[38;5;28;01mif\u001b[39;00m file \u001b[38;5;129;01min\u001b[39;00m {\u001b[38;5;241m0\u001b[39m, \u001b[38;5;241m1\u001b[39m, \u001b[38;5;241m2\u001b[39m}:\n\u001b[0;32m    318\u001b[0m     \u001b[38;5;28;01mraise\u001b[39;00m \u001b[38;5;167;01mValueError\u001b[39;00m(\n\u001b[0;32m    319\u001b[0m         \u001b[38;5;124mf\u001b[39m\u001b[38;5;124m\"\u001b[39m\u001b[38;5;124mIPython won\u001b[39m\u001b[38;5;124m'\u001b[39m\u001b[38;5;124mt let you open fd=\u001b[39m\u001b[38;5;132;01m{\u001b[39;00mfile\u001b[38;5;132;01m}\u001b[39;00m\u001b[38;5;124m by default \u001b[39m\u001b[38;5;124m\"\u001b[39m\n\u001b[0;32m    320\u001b[0m         \u001b[38;5;124m\"\u001b[39m\u001b[38;5;124mas it is likely to crash IPython. If you know what you are doing, \u001b[39m\u001b[38;5;124m\"\u001b[39m\n\u001b[0;32m    321\u001b[0m         \u001b[38;5;124m\"\u001b[39m\u001b[38;5;124myou can use builtins\u001b[39m\u001b[38;5;124m'\u001b[39m\u001b[38;5;124m open.\u001b[39m\u001b[38;5;124m\"\u001b[39m\n\u001b[0;32m    322\u001b[0m     )\n\u001b[1;32m--> 324\u001b[0m \u001b[38;5;28;01mreturn\u001b[39;00m io_open(file, \u001b[38;5;241m*\u001b[39margs, \u001b[38;5;241m*\u001b[39m\u001b[38;5;241m*\u001b[39mkwargs)\n",
      "\u001b[1;31mFileNotFoundError\u001b[0m: [Errno 2] No such file or directory: 'test.txt'"
     ]
    }
   ],
   "source": [
    "#4\n",
    "def file_lengthy(fname):\n",
    "    with open(fname) as f:\n",
    "        for i, l in enumerate(f):\n",
    "            pass\n",
    "    return i + 1 \n",
    "print(\"Number of lines in the file: \",file_lengthy(\"test.txt\"))"
   ]
  },
  {
   "cell_type": "code",
   "execution_count": 54,
   "id": "c249b17a-5b11-4bbf-bc03-8952783ba08e",
   "metadata": {},
   "outputs": [
    {
     "name": "stdout",
     "output_type": "stream",
     "text": [
      "Found a match!\n",
      "Found a match!\n"
     ]
    }
   ],
   "source": [
    "#5\n",
    "def match_word_at_beginning(strings, word):\n",
    "    for s in strings:\n",
    "        if s.lstrip().startswith(word):\n",
    "            print(\"Found a match!\")\n",
    "        else:\n",
    "            print(\"Not matched!\")\n",
    "input_strings = [\n",
    "    \"The quick brown fox jumps over the lazy dog.\",\n",
    "    \" The quick brown fox jumps over the lazy dog.\"\n",
    "]\n",
    "word_to_match = \"The\"\n",
    "match_word_at_beginning(input_strings, word_to_match)"
   ]
  },
  {
   "cell_type": "code",
   "execution_count": 56,
   "id": "84345311-1482-4834-b6e3-b779d1bf7eb3",
   "metadata": {},
   "outputs": [
    {
     "name": "stdout",
     "output_type": "stream",
     "text": [
      "Found a match!\n",
      "Not matched!\n"
     ]
    }
   ],
   "source": [
    "#6\n",
    "def match_word_containing_z(strings):\n",
    "    for s in strings:\n",
    "        if any('z' in word for word in s.split()):\n",
    "            print(\"Found a match!\")\n",
    "        else:\n",
    "            print(\"Not matched!\")\n",
    "input_strings = [\n",
    "    \"The quick brown fox jumps over the lazy dog.\",\n",
    "    \"Python Exercises.\"\n",
    "]\n",
    "match_word_containing_z(input_strings)"
   ]
  },
  {
   "cell_type": "code",
   "execution_count": 60,
   "id": "e7796444-b293-4e1e-a8f4-dfd20a0301c2",
   "metadata": {},
   "outputs": [
    {
     "name": "stdout",
     "output_type": "stream",
     "text": [
      "Current date and time: 2024-09-28 19:27:04.162312\n",
      "Current year: 2024\n",
      "Month of year: September\n",
      "Week number of the year: 39\n",
      "Weekday of the week: 6\n",
      "Day of year: 272\n",
      "Day of the month: 28\n",
      "Day of week: Saturday\n"
     ]
    }
   ],
   "source": [
    "#7\n",
    "from datetime import datetime\n",
    "def display_date_time_formats():\n",
    "    now = datetime.now()\n",
    "    print(f\"Current date and time: {now}\")\n",
    "    print(f\"Current year: {now.year}\")\n",
    "    print(f\"Month of year: {now.strftime('%B')}\")\n",
    "    print(f\"Week number of the year: {now.isocalendar()[1]}\")\n",
    "    print(f\"Weekday of the week: {now.isocalendar()[2]}\")\n",
    "    print(f\"Day of year: {now.timetuple().tm_yday}\")\n",
    "    print(f\"Day of the month: {now.day:02d}\")\n",
    "    print(f\"Day of week: {now.strftime('%A')}\")\n",
    "display_date_time_formats()"
   ]
  },
  {
   "cell_type": "code",
   "execution_count": 62,
   "id": "b5e61ecc-6eca-40ec-9c91-85188c839895",
   "metadata": {},
   "outputs": [
    {
     "name": "stdout",
     "output_type": "stream",
     "text": [
      "366 days, 0:00:00\n"
     ]
    }
   ],
   "source": [
    "#8\n",
    "from datetime import datetime\n",
    "def get_days_between_dates(date1_str, date2_str):\n",
    "    date_format = \"%Y-%m-%d\"\n",
    "    date1 = datetime.strptime(date1_str, date_format)\n",
    "    date2 = datetime.strptime(date2_str, date_format)\n",
    "    delta = abs(date2 - date1)\n",
    "    return delta\n",
    "date1 = \"2020-01-01\"\n",
    "date2 = \"2021-01-01\"\n",
    "difference = get_days_between_dates(date1, date2)\n",
    "print(difference)"
   ]
  },
  {
   "cell_type": "code",
   "execution_count": 78,
   "id": "e5beaf2a-21b1-4344-8aba-423f98f32446",
   "metadata": {},
   "outputs": [
    {
     "name": "stdout",
     "output_type": "stream",
     "text": [
      "An error occurred: [Errno 13] Permission denied: 'Assignment-5.ipynb'\n"
     ]
    }
   ],
   "source": [
    "#9\n",
    "def write_to_file(file_path):\n",
    "    try:\n",
    "        with open(file_path, 'w') as file:\n",
    "            file.write(\"First line\\n\")\n",
    "            file.write(\"Second line\\n\")\n",
    "            file.write(\"Third line\\n\")\n",
    "        print(\"Lines written successfully to myfile.txt.\")\n",
    "    except Exception as e:\n",
    "        print(f\"An error occurred: {e}\")\n",
    "file_path =  'Assignment-5.ipynb'\n",
    "write_to_file(file_path)"
   ]
  },
  {
   "cell_type": "code",
   "execution_count": 100,
   "id": "538c65fc-69fb-4816-a20f-780b5e7b607f",
   "metadata": {},
   "outputs": [],
   "source": [
    "#10\n",
    "# create_file.py\n",
    "\n",
    "def create_file():\n",
    "    try:\n",
    "        with open('myfile.txt', 'w') as file:\n",
    "            file.write(\"Python is object oriented programming language\")\n",
    "        print(\"File created successfully.\")\n",
    "    except Exception as e:\n",
    "        print(f\"An error occurred: {e}\")"
   ]
  },
  {
   "cell_type": "code",
   "execution_count": 108,
   "id": "b0c15846-8374-4e6b-b8a5-7906223f6f56",
   "metadata": {},
   "outputs": [
    {
     "ename": "SyntaxError",
     "evalue": "invalid syntax (1497921301.py, line 32)",
     "output_type": "error",
     "traceback": [
      "\u001b[1;36m  Cell \u001b[1;32mIn[108], line 32\u001b[1;36m\u001b[0m\n\u001b[1;33m    Python is object oriented programming language\u001b[0m\n\u001b[1;37m                     ^\u001b[0m\n\u001b[1;31mSyntaxError\u001b[0m\u001b[1;31m:\u001b[0m invalid syntax\n"
     ]
    }
   ],
   "source": [
    "# remove_word.py\n",
    "\n",
    "def remove_third_word(file_path):\n",
    "    try:\n",
    "        # Read the current content of the file\n",
    "        with open(file_path, 'r') as file:\n",
    "            lines = file.readlines()\n",
    "        \n",
    "        # Process each line\n",
    "        updated_lines = []\n",
    "        for line in lines:\n",
    "            words = line.split()\n",
    "            if len(words) > 2:\n",
    "                # Remove the third word (index 2)\n",
    "                words.pop(2)\n",
    "            updated_lines.append(' '.join(words))\n",
    "        \n",
    "        # Write the updated content back to the file\n",
    "        with open(file_path, 'w') as file:\n",
    "            file.write('\\n'.join(updated_lines) + '\\n')  \n",
    "        \n",
    "        print(\"Third word removed successfully.\")\n",
    "    except Exception as e:\n",
    "        print(f\"An error occurred: {e}\")\n",
    "\n",
    "# Specify the path to myfile.txt\n",
    "file_path = 'myfile.txt'\n",
    "\n",
    "# Call the function to remove the third word\n",
    "remove_third_word(file_path)"
   ]
  },
  {
   "cell_type": "markdown",
   "id": "30c18f19-5dc5-4894-b5e5-cd2a29ea69c0",
   "metadata": {},
   "source": [
    "LVL-HARD"
   ]
  },
  {
   "cell_type": "code",
   "execution_count": 116,
   "id": "46bdd8fb-302e-457d-823a-7a8ddc177789",
   "metadata": {},
   "outputs": [
    {
     "name": "stdout",
     "output_type": "stream",
     "text": [
      "$Recycle.Bin dir\n",
      "$SysReset dir\n",
      "$WinREAgent dir\n",
      "Documents and Settings dir\n",
      "DumpStack.log.tmp file\n",
      "edb dir\n",
      "eSupport dir\n",
      "hiberfil.sys file\n",
      "inetpub dir\n",
      "Intel dir\n",
      "IntelOptaneData dir\n",
      "listener dir\n",
      "OneDriveTemp dir\n",
      "pagefile.sys file\n",
      "PerfLogs dir\n",
      "Program Files dir\n",
      "Program Files (x86) dir\n",
      "ProgramData dir\n",
      "Recovery dir\n",
      "SQL2022 dir\n",
      "swapfile.sys file\n",
      "System Volume Information dir\n",
      "TCPPortListenerTool dir\n",
      "Users dir\n",
      "Windows dir\n"
     ]
    }
   ],
   "source": [
    "#1\n",
    "import os\n",
    "\n",
    "def scan_directory(path):\n",
    "    try:\n",
    "        # List all items in the specified directory\n",
    "        items = os.listdir(path)\n",
    "\n",
    "        for item in items:\n",
    "            item_path = os.path.join(path, item)\n",
    "            # Check if the item is a directory\n",
    "            if os.path.isdir(item_path):\n",
    "                print(f\"{item} dir\")\n",
    "            # Check if the item is a file\n",
    "            elif os.path.isfile(item_path):\n",
    "                print(f\"{item} file\")\n",
    "    except Exception as e:\n",
    "        print(f\"An error occurred: {e}\")\n",
    "\n",
    "# Get the current working directory\n",
    "directory_path = os.getcwd()\n",
    "\n",
    "# Call the function to scan the directory\n",
    "scan_directory(directory_path)\n"
   ]
  },
  {
   "cell_type": "code",
   "execution_count": 131,
   "id": "58331faa-cc9f-492f-9135-90e0302b1e92",
   "metadata": {},
   "outputs": [
    {
     "name": "stdout",
     "output_type": "stream",
     "text": [
      "Path Name (C:\\):\n",
      "\n",
      "Size: 8192 bytes\n",
      "Permissions: 0o40777\n",
      "Owner: 0\n",
      "Device: 14721851928573523692\n",
      "Created: Sat Sep 15 11:39:26 2018\n",
      "Last modified: Wed Sep 18 18:20:39 2024\n",
      "Last accessed: Sat Sep 28 20:00:37 2024\n"
     ]
    }
   ],
   "source": [
    "#2\n",
    "import os\n",
    "import stat\n",
    "import time\n",
    "\n",
    "def get_file_info(path):\n",
    "    try:\n",
    "        file_stats = os.stat(path)\n",
    "        size = file_stats.st_size\n",
    "        permissions = oct(file_stats.st_mode)\n",
    "        owner = file_stats.st_uid\n",
    "        device = file_stats.st_dev\n",
    "        created = time.ctime(file_stats.st_ctime)\n",
    "        last_modified = time.ctime(file_stats.st_mtime)\n",
    "        last_accessed = time.ctime(file_stats.st_atime)\n",
    "        print(f\"Path Name ({path}):\\n\")\n",
    "        print(f\"Size: {size} bytes\")\n",
    "        print(f\"Permissions: {permissions}\")\n",
    "        print(f\"Owner: {owner}\")\n",
    "        print(f\"Device: {device}\")\n",
    "        print(f\"Created: {created}\")\n",
    "        print(f\"Last modified: {last_modified}\")\n",
    "        print(f\"Last accessed: {last_accessed}\")\n",
    "    except Exception as e:\n",
    "        print(f\"An error occurred: {e}\")\n",
    "current_directory = os.getcwd()\n",
    "get_file_info(current_directory)"
   ]
  },
  {
   "cell_type": "code",
   "execution_count": 143,
   "id": "e0988d70-155f-456c-b003-8a7f11fc125c",
   "metadata": {},
   "outputs": [
    {
     "name": "stdout",
     "output_type": "stream",
     "text": [
      "File already exists.\n",
      "What is Python language?\n",
      "Python is a widely used high-level, general-purpose, interpreted, dynamic programming language.\n"
     ]
    }
   ],
   "source": [
    "#3\n",
    "#(google code)\n",
    "import os\n",
    "\n",
    "def create_file(file_path):\n",
    "    # Create the file with initial content if it doesn't exist\n",
    "    if not os.path.exists(file_path):\n",
    "        try:\n",
    "            with open(file_path, 'w') as file:\n",
    "                file.write(\"What is Python language?\\n\")\n",
    "                file.write(\"Python is a widely used high-level, general-purpose, interpreted, dynamic programming language.\\n\")\n",
    "                file.write(\"Its design philosophy emphasizes code readability, and its syntax allows programmers to express concepts in fewer lines of code than possible in languages such as C++ or Java.\\n\")\n",
    "                file.write(\"Python supports multiple programming paradigms, including object-oriented, imperative and functional programming or procedural styles.\\n\")\n",
    "                file.write(\"It features a dynamic type system and automatic memory management and has a large and comprehensive standard library.\\n\")\n",
    "                file.write(\"The best way we learn anything is by practice and exercise questions.\\n\")\n",
    "                file.write(\"We have started this section for those (beginner to intermediate) who are familiar with Python.\\n\")\n",
    "            print(\"File created successfully.\")\n",
    "        except Exception as e:\n",
    "            print(f\"An error occurred while creating the file: {e}\")\n",
    "    else:\n",
    "        print(\"File already exists.\")\n",
    "\n",
    "def read_first_n_lines(file_path, n):\n",
    "    try:\n",
    "        with open(file_path, 'r') as file:\n",
    "            for _ in range(n):\n",
    "                line = file.readline()\n",
    "                if line:\n",
    "                    print(line, end='')\n",
    "                else:\n",
    "                    break\n",
    "    except Exception as e:\n",
    "        print(f\"An error occurred while reading the file: {e}\")\n",
    "file_path = os.path.expanduser('~/text.txt') \n",
    "n = 2 \n",
    "create_file(file_path)\n",
    "read_first_n_lines(file_path, n)"
   ]
  },
  {
   "cell_type": "code",
   "execution_count": 141,
   "id": "5456103e-5554-4eb2-84de-9463d72f7f3b",
   "metadata": {},
   "outputs": [
    {
     "name": "stdout",
     "output_type": "stream",
     "text": [
      "An error occurred: [Errno 2] No such file or directory: 'text.txt'\n"
     ]
    }
   ],
   "source": [
    "(my code)\n",
    "def read_first_n_lines(file_path, n):\n",
    "    try:\n",
    "        with open(file_path, 'r') as file:\n",
    "            for _ in range(n):\n",
    "                line = file.readline()\n",
    "                if line:\n",
    "                    print(line, end='')\n",
    "                else:\n",
    "                    break \n",
    "    except Exception as e:\n",
    "        print(f\"An error occurred: {e}\")\n",
    "file_path = 'text.txt'\n",
    "n = 2 \n",
    "read_first_n_lines(file_path, n)"
   ]
  },
  {
   "cell_type": "code",
   "execution_count": 155,
   "id": "69a172b2-fdbc-4dda-a53b-5593687a9674",
   "metadata": {},
   "outputs": [
    {
     "name": "stdout",
     "output_type": "stream",
     "text": [
      "An error occurred while creating A.txt: [Errno 13] Permission denied: 'C:\\\\A.txt'\n",
      "An error occurred while creating B.txt: [Errno 13] Permission denied: 'C:\\\\B.txt'\n",
      "An error occurred while creating C.txt: [Errno 13] Permission denied: 'C:\\\\C.txt'\n",
      "An error occurred while creating D.txt: [Errno 13] Permission denied: 'C:\\\\D.txt'\n",
      "An error occurred while creating E.txt: [Errno 13] Permission denied: 'C:\\\\E.txt'\n",
      "An error occurred while creating F.txt: [Errno 13] Permission denied: 'C:\\\\F.txt'\n",
      "An error occurred while creating G.txt: [Errno 13] Permission denied: 'C:\\\\G.txt'\n",
      "An error occurred while creating H.txt: [Errno 13] Permission denied: 'C:\\\\H.txt'\n",
      "An error occurred while creating I.txt: [Errno 13] Permission denied: 'C:\\\\I.txt'\n",
      "An error occurred while creating J.txt: [Errno 13] Permission denied: 'C:\\\\J.txt'\n",
      "An error occurred while creating K.txt: [Errno 13] Permission denied: 'C:\\\\K.txt'\n",
      "An error occurred while creating L.txt: [Errno 13] Permission denied: 'C:\\\\L.txt'\n",
      "An error occurred while creating M.txt: [Errno 13] Permission denied: 'C:\\\\M.txt'\n",
      "An error occurred while creating N.txt: [Errno 13] Permission denied: 'C:\\\\N.txt'\n",
      "An error occurred while creating O.txt: [Errno 13] Permission denied: 'C:\\\\O.txt'\n",
      "An error occurred while creating P.txt: [Errno 13] Permission denied: 'C:\\\\P.txt'\n",
      "An error occurred while creating Q.txt: [Errno 13] Permission denied: 'C:\\\\Q.txt'\n",
      "An error occurred while creating R.txt: [Errno 13] Permission denied: 'C:\\\\R.txt'\n",
      "An error occurred while creating S.txt: [Errno 13] Permission denied: 'C:\\\\S.txt'\n",
      "An error occurred while creating T.txt: [Errno 13] Permission denied: 'C:\\\\T.txt'\n",
      "An error occurred while creating U.txt: [Errno 13] Permission denied: 'C:\\\\U.txt'\n",
      "An error occurred while creating V.txt: [Errno 13] Permission denied: 'C:\\\\V.txt'\n",
      "An error occurred while creating W.txt: [Errno 13] Permission denied: 'C:\\\\W.txt'\n",
      "An error occurred while creating X.txt: [Errno 13] Permission denied: 'C:\\\\X.txt'\n",
      "An error occurred while creating Y.txt: [Errno 13] Permission denied: 'C:\\\\Y.txt'\n",
      "An error occurred while creating Z.txt: [Errno 13] Permission denied: 'C:\\\\Z.txt'\n"
     ]
    }
   ],
   "source": [
    "#4\n",
    "import os\n",
    "def create_text_files():\n",
    "    current_directory = os.getcwd()\n",
    "    for i in range(26):\n",
    "        file_name = chr(65 + i) + '.txt'\n",
    "        file_path = os.path.join(current_directory, file_name)\n",
    "        \n",
    "        try:\n",
    "            with open(file_path, 'w') as file:\n",
    "                file.write(f\"This is the file named {file_name}\\n\")\n",
    "            print(f\"Created: {file_path}\")\n",
    "        except Exception as e:\n",
    "            print(f\"An error occurred while creating {file_name}: {e}\")\n",
    "create_text_files()"
   ]
  },
  {
   "cell_type": "code",
   "execution_count": 159,
   "id": "fe5ae1cc-5231-46d4-b405-6f71310c9db2",
   "metadata": {},
   "outputs": [
    {
     "name": "stdout",
     "output_type": "stream",
     "text": [
      "True\n",
      "False\n"
     ]
    }
   ],
   "source": [
    "#5\n",
    "import re\n",
    "\n",
    "def check_string(s):\n",
    "    pattern = r'^[a-zA-Z0-9]+$'\n",
    "    return bool(re.match(pattern, s))\n",
    "input1 = \"Hello123\"\n",
    "input2 = \"Hello@123\"\n",
    "print(check_string(input1))\n",
    "print(check_string(input2))"
   ]
  },
  {
   "cell_type": "code",
   "execution_count": 161,
   "id": "e4b7ee4a-f49d-4bb6-b63c-6f9d04bda852",
   "metadata": {},
   "outputs": [
    {
     "name": "stdout",
     "output_type": "stream",
     "text": [
      "Found a match!\n",
      "Not matched!\n",
      "Not matched!\n"
     ]
    }
   ],
   "source": [
    "#6\n",
    "import re\n",
    "\n",
    "def check_lowercase_sequence(s):\n",
    "    pattern = r'^[a-z]+_[a-z]+$'\n",
    "    if re.match(pattern, s):\n",
    "        return \"Found a match!\"\n",
    "    else:\n",
    "        return \"Not matched!\"\n",
    "input_texts = [\n",
    "    \"aab_cbbbc\",\n",
    "    \"aab_Abbbc\",\n",
    "    \"Aaab_abbbc\"\n",
    "]\n",
    "for text in input_texts:\n",
    "    result = check_lowercase_sequence(text)\n",
    "    print(result)"
   ]
  },
  {
   "cell_type": "code",
   "execution_count": 165,
   "id": "07175ece-8cfc-4545-a151-0d9e56ca0c47",
   "metadata": {},
   "outputs": [
    {
     "name": "stdout",
     "output_type": "stream",
     "text": [
      "Sundays in 2024:\n",
      "2024-01-07\n",
      "2024-01-14\n",
      "2024-01-21\n",
      "2024-01-28\n",
      "2024-02-04\n",
      "2024-02-11\n",
      "2024-02-18\n",
      "2024-02-25\n",
      "2024-03-03\n",
      "2024-03-10\n",
      "2024-03-17\n",
      "2024-03-24\n",
      "2024-03-31\n",
      "2024-04-07\n",
      "2024-04-14\n",
      "2024-04-21\n",
      "2024-04-28\n",
      "2024-05-05\n",
      "2024-05-12\n",
      "2024-05-19\n",
      "2024-05-26\n",
      "2024-06-02\n",
      "2024-06-09\n",
      "2024-06-16\n",
      "2024-06-23\n",
      "2024-06-30\n",
      "2024-07-07\n",
      "2024-07-14\n",
      "2024-07-21\n",
      "2024-07-28\n",
      "2024-08-04\n",
      "2024-08-11\n",
      "2024-08-18\n",
      "2024-08-25\n",
      "2024-09-01\n",
      "2024-09-08\n",
      "2024-09-15\n",
      "2024-09-22\n",
      "2024-09-29\n",
      "2024-10-06\n",
      "2024-10-13\n",
      "2024-10-20\n",
      "2024-10-27\n",
      "2024-11-03\n",
      "2024-11-10\n",
      "2024-11-17\n",
      "2024-11-24\n",
      "2024-12-01\n",
      "2024-12-08\n",
      "2024-12-15\n",
      "2024-12-22\n",
      "2024-12-29\n"
     ]
    }
   ],
   "source": [
    "#7\n",
    "from datetime import datetime, timedelta\n",
    "\n",
    "def find_sundays(year):\n",
    "    sundays = []\n",
    "    date = datetime(year, 1, 1)\n",
    "    while date.year == year:\n",
    "        if date.weekday() == 6:\n",
    "            sundays.append(date.strftime('%Y-%m-%d'))\n",
    "        date += timedelta(days=1)\n",
    "    return sundays\n",
    "\n",
    "year = 2024\n",
    "sundays = find_sundays(year)\n",
    "print(f\"Sundays in {year}:\")\n",
    "for sunday in sundays:\n",
    "    print(sunday)"
   ]
  },
  {
   "cell_type": "code",
   "execution_count": 163,
   "id": "2a2f8524-742d-4252-bf9b-c3c0a099c4b0",
   "metadata": {},
   "outputs": [
    {
     "name": "stdout",
     "output_type": "stream",
     "text": [
      "    January 2024\n",
      "Mo Tu We Th Fr Sa Su\n",
      " 1  2  3  4  5  6  7\n",
      " 8  9 10 11 12 13 14\n",
      "15 16 17 18 19 20 21\n",
      "22 23 24 25 26 27 28\n",
      "29 30 31\n",
      "\n",
      "--------------------\n",
      "   February 2024\n",
      "Mo Tu We Th Fr Sa Su\n",
      "          1  2  3  4\n",
      " 5  6  7  8  9 10 11\n",
      "12 13 14 15 16 17 18\n",
      "19 20 21 22 23 24 25\n",
      "26 27 28 29\n",
      "\n",
      "--------------------\n",
      "     March 2024\n",
      "Mo Tu We Th Fr Sa Su\n",
      "             1  2  3\n",
      " 4  5  6  7  8  9 10\n",
      "11 12 13 14 15 16 17\n",
      "18 19 20 21 22 23 24\n",
      "25 26 27 28 29 30 31\n",
      "\n",
      "--------------------\n",
      "     April 2024\n",
      "Mo Tu We Th Fr Sa Su\n",
      " 1  2  3  4  5  6  7\n",
      " 8  9 10 11 12 13 14\n",
      "15 16 17 18 19 20 21\n",
      "22 23 24 25 26 27 28\n",
      "29 30\n",
      "\n",
      "--------------------\n",
      "      May 2024\n",
      "Mo Tu We Th Fr Sa Su\n",
      "       1  2  3  4  5\n",
      " 6  7  8  9 10 11 12\n",
      "13 14 15 16 17 18 19\n",
      "20 21 22 23 24 25 26\n",
      "27 28 29 30 31\n",
      "\n",
      "--------------------\n",
      "     June 2024\n",
      "Mo Tu We Th Fr Sa Su\n",
      "                1  2\n",
      " 3  4  5  6  7  8  9\n",
      "10 11 12 13 14 15 16\n",
      "17 18 19 20 21 22 23\n",
      "24 25 26 27 28 29 30\n",
      "\n",
      "--------------------\n",
      "     July 2024\n",
      "Mo Tu We Th Fr Sa Su\n",
      " 1  2  3  4  5  6  7\n",
      " 8  9 10 11 12 13 14\n",
      "15 16 17 18 19 20 21\n",
      "22 23 24 25 26 27 28\n",
      "29 30 31\n",
      "\n",
      "--------------------\n",
      "    August 2024\n",
      "Mo Tu We Th Fr Sa Su\n",
      "          1  2  3  4\n",
      " 5  6  7  8  9 10 11\n",
      "12 13 14 15 16 17 18\n",
      "19 20 21 22 23 24 25\n",
      "26 27 28 29 30 31\n",
      "\n",
      "--------------------\n",
      "   September 2024\n",
      "Mo Tu We Th Fr Sa Su\n",
      "                   1\n",
      " 2  3  4  5  6  7  8\n",
      " 9 10 11 12 13 14 15\n",
      "16 17 18 19 20 21 22\n",
      "23 24 25 26 27 28 29\n",
      "30\n",
      "\n",
      "--------------------\n",
      "    October 2024\n",
      "Mo Tu We Th Fr Sa Su\n",
      "    1  2  3  4  5  6\n",
      " 7  8  9 10 11 12 13\n",
      "14 15 16 17 18 19 20\n",
      "21 22 23 24 25 26 27\n",
      "28 29 30 31\n",
      "\n",
      "--------------------\n",
      "   November 2024\n",
      "Mo Tu We Th Fr Sa Su\n",
      "             1  2  3\n",
      " 4  5  6  7  8  9 10\n",
      "11 12 13 14 15 16 17\n",
      "18 19 20 21 22 23 24\n",
      "25 26 27 28 29 30\n",
      "\n",
      "--------------------\n",
      "   December 2024\n",
      "Mo Tu We Th Fr Sa Su\n",
      "                   1\n",
      " 2  3  4  5  6  7  8\n",
      " 9 10 11 12 13 14 15\n",
      "16 17 18 19 20 21 22\n",
      "23 24 25 26 27 28 29\n",
      "30 31\n",
      "\n",
      "--------------------\n"
     ]
    }
   ],
   "source": [
    "#8\n",
    "import calendar\n",
    "\n",
    "def print_year_calendar(year):\n",
    "    cal = calendar.TextCalendar()\n",
    "    for month in range(1, 13):\n",
    "        month_calendar = cal.formatmonth(year, month)\n",
    "        print(month_calendar)\n",
    "        print('-' * 20)\n",
    "year = 2024\n",
    "print_year_calendar(year)"
   ]
  },
  {
   "cell_type": "code",
   "execution_count": 167,
   "id": "4e838943-9ab1-45a9-8234-80f74ee4c620",
   "metadata": {},
   "outputs": [
    {
     "name": "stdout",
     "output_type": "stream",
     "text": [
      "      Name  Age         City\n",
      "0    Alice   25     New York\n",
      "1      Bob   30  Los Angeles\n",
      "2  Charlie   35      Chicago\n"
     ]
    }
   ],
   "source": [
    "#9\n",
    "import pandas as pd\n",
    "data = {\n",
    "    'Name': ['Alice', 'Bob', 'Charlie'],\n",
    "    'Age': [25, 30, 35],\n",
    "    'City': ['New York', 'Los Angeles', 'Chicago']\n",
    "}\n",
    "df = pd.DataFrame(data)\n",
    "print(df)"
   ]
  },
  {
   "cell_type": "code",
   "execution_count": 171,
   "id": "f4f0b141-4750-4913-841f-acc77963c8ac",
   "metadata": {},
   "outputs": [
    {
     "name": "stdout",
     "output_type": "stream",
     "text": [
      "Name: David\n",
      "Class: I\n",
      "Age: 6\n"
     ]
    }
   ],
   "source": [
    "#10\n",
    "import json\n",
    "\n",
    "json_data = '{\"Name\": \"David\", \"Class\": \"I\", \"Age\": 6}'\n",
    "python_object = json.loads(json_data)\n",
    "\n",
    "print(f\"Name: {python_object['Name']}\")\n",
    "print(f\"Class: {python_object['Class']}\")\n",
    "print(f\"Age: {python_object['Age']}\")"
   ]
  },
  {
   "cell_type": "code",
   "execution_count": null,
   "id": "4e6b60e3-b426-480c-bfb7-ab2f416e0f87",
   "metadata": {},
   "outputs": [],
   "source": []
  }
 ],
 "metadata": {
  "kernelspec": {
   "display_name": "Python 3 (ipykernel)",
   "language": "python",
   "name": "python3"
  },
  "language_info": {
   "codemirror_mode": {
    "name": "ipython",
    "version": 3
   },
   "file_extension": ".py",
   "mimetype": "text/x-python",
   "name": "python",
   "nbconvert_exporter": "python",
   "pygments_lexer": "ipython3",
   "version": "3.12.4"
  }
 },
 "nbformat": 4,
 "nbformat_minor": 5
}
