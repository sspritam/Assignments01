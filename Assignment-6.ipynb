{
 "cells": [
  {
   "cell_type": "markdown",
   "id": "b050f40b-5a41-480f-8a1f-dfc0dcff7065",
   "metadata": {},
   "source": [
    "LVL-EASY\n",
    "#1"
   ]
  },
  {
   "cell_type": "code",
   "execution_count": 6,
   "id": "8bc082b3-ed25-427e-ba25-d8c387f67916",
   "metadata": {},
   "outputs": [
    {
     "name": "stdout",
     "output_type": "stream",
     "text": [
      "<__main__.Vehicle object at 0x000002B91F3D6F60>\n"
     ]
    }
   ],
   "source": [
    "class Vehicle:\n",
    "    pass\n",
    "# Create an instance of the Vehicle class\n",
    "my_vehicle = Vehicle()\n",
    "print(my_vehicle)"
   ]
  },
  {
   "cell_type": "code",
   "execution_count": 8,
   "id": "39d81252-94a2-4265-8b6b-edf117f7492c",
   "metadata": {},
   "outputs": [
    {
     "name": "stdout",
     "output_type": "stream",
     "text": [
      "56.55\n",
      "94.25\n"
     ]
    }
   ],
   "source": [
    "import math\n",
    "class Cylinder:\n",
    "    def __init__(self, height=1, radius=1):\n",
    "        self.height = height\n",
    "        self.radius = radius\n",
    "    def volume(self):\n",
    "        return math.pi * (self.radius ** 2) * self.height\n",
    "    def surface_area(self):\n",
    "        return 2 * math.pi * self.radius * (self.radius + self.height)\n",
    "c = Cylinder(2, 3)\n",
    "print(round(c.volume(), 2))\n",
    "print(round(c.surface_area(), 2))"
   ]
  },
  {
   "cell_type": "code",
   "execution_count": 10,
   "id": "ff9b8178-449a-4a32-bf43-70c5b643d48c",
   "metadata": {},
   "outputs": [
    {
     "name": "stdout",
     "output_type": "stream",
     "text": [
      "Vehicle Name: School Volvo Speed: 180 Mileage: 12\n"
     ]
    }
   ],
   "source": [
    "#3\n",
    "class Vehicle:\n",
    "    def __init__(self, name, max_speed, mileage):\n",
    "        self.name = name\n",
    "        self.max_speed = max_speed\n",
    "        self.mileage = mileage\n",
    "class Bus(Vehicle):\n",
    "    pass\n",
    "my_bus = Bus(\"School Volvo\", 180, 12)\n",
    "print(f\"Vehicle Name: {my_bus.name} Speed: {my_bus.max_speed} Mileage: {my_bus.mileage}\")"
   ]
  },
  {
   "cell_type": "code",
   "execution_count": 16,
   "id": "6ffc2a7c-fb57-43ac-b28c-d76769fdf800",
   "metadata": {},
   "outputs": [
    {
     "name": "stdout",
     "output_type": "stream",
     "text": [
      "Max Speed: 180 km/h\n",
      "Mileage: 12 km/l\n"
     ]
    }
   ],
   "source": [
    "#4\n",
    "class Vehicle:\n",
    "    def __init__(self, max_speed, mileage):\n",
    "        self.max_speed = max_speed\n",
    "        self.mileage = mileage\n",
    "my_vehicle = Vehicle(180, 12)\n",
    "print(f\"Max Speed: {my_vehicle.max_speed} km/h\")\n",
    "print(f\"Mileage: {my_vehicle.mileage} km/l\")"
   ]
  },
  {
   "cell_type": "code",
   "execution_count": 18,
   "id": "03b4790f-55d3-492b-96be-1cd474a8ceed",
   "metadata": {},
   "outputs": [
    {
     "name": "stdout",
     "output_type": "stream",
     "text": [
      "Is School_bus an instance of Vehicle? True\n"
     ]
    }
   ],
   "source": [
    "#5\n",
    "class Vehicle:\n",
    "    def __init__(self, name, mileage, capacity):\n",
    "        self.name = name\n",
    "        self.mileage = mileage\n",
    "        self.capacity = capacity\n",
    "class Bus(Vehicle):\n",
    "    pass\n",
    "School_bus = Bus(\"School Volvo\", 12, 50)\n",
    "is_instance_of_vehicle = isinstance(School_bus, Vehicle)\n",
    "print(f\"Is School_bus an instance of Vehicle? {is_instance_of_vehicle}\")"
   ]
  },
  {
   "cell_type": "markdown",
   "id": "1da2a0f0-adc6-4c00-8b87-4f4128effb0b",
   "metadata": {},
   "source": [
    "LVL-MODERATE\n",
    "#1"
   ]
  },
  {
   "cell_type": "code",
   "execution_count": 21,
   "id": "e34034bb-8b2d-470e-86d9-4648d43da043",
   "metadata": {},
   "outputs": [
    {
     "name": "stdout",
     "output_type": "stream",
     "text": [
      "The seating capacity of a bus is 50 passengers\n"
     ]
    }
   ],
   "source": [
    "class Vehicle:\n",
    "    def __init__(self, name, max_speed, mileage):\n",
    "        self.name = name\n",
    "        self.max_speed = max_speed\n",
    "        self.mileage = mileage\n",
    "    def seating_capacity(self, capacity):\n",
    "        return f\"The seating capacity of a {self.name} is {capacity} passengers\"\n",
    "class Bus(Vehicle):\n",
    "    def seating_capacity(self, capacity=50):\n",
    "        return f\"The seating capacity of a bus is {capacity} passengers\"\n",
    "my_bus = Bus(\"School Volvo\", 180, 12)\n",
    "print(my_bus.seating_capacity())"
   ]
  },
  {
   "cell_type": "code",
   "execution_count": 23,
   "id": "005fa2b8-581e-49cb-8519-24cc1e1bc33b",
   "metadata": {},
   "outputs": [
    {
     "name": "stdout",
     "output_type": "stream",
     "text": [
      "Color: White, Vehicle name: School Volvo, Speed: 180, Mileage: 12\n",
      "Color: White, Vehicle name: Audi Q5, Speed: 240, Mileage: 18\n"
     ]
    }
   ],
   "source": [
    "#2\n",
    "class Vehicle:\n",
    "    color = \"White\"\n",
    "    def __init__(self, name, max_speed, mileage):\n",
    "        self.name = name\n",
    "        self.max_speed = max_speed\n",
    "        self.mileage = mileage\n",
    "class Bus(Vehicle):\n",
    "    pass\n",
    "class Car(Vehicle):\n",
    "    pass\n",
    "school_bus = Bus(\"School Volvo\", 180, 12)\n",
    "audi_q5 = Car(\"Audi Q5\", 240, 18)\n",
    "print(f\"Color: {Vehicle.color}, Vehicle name: {school_bus.name}, Speed: {school_bus.max_speed}, Mileage: {school_bus.mileage}\")\n",
    "print(f\"Color: {Vehicle.color}, Vehicle name: {audi_q5.name}, Speed: {audi_q5.max_speed}, Mileage: {audi_q5.mileage}\")"
   ]
  },
  {
   "cell_type": "code",
   "execution_count": 25,
   "id": "389fda5f-b49e-4c5d-9f83-3d052fa5e94a",
   "metadata": {},
   "outputs": [
    {
     "name": "stdout",
     "output_type": "stream",
     "text": [
      "New Delhi is the capital of India.\n",
      "Hindi is the most widely spoken language of India.\n",
      "India is a developing country.\n",
      "Washington, D.C. is the capital of USA.\n",
      "English is the primary language of USA.\n",
      "USA is a developed country.\n"
     ]
    }
   ],
   "source": [
    "#3\n",
    "class India:\n",
    "    def capital(self): \n",
    "        print(\"New Delhi is the capital of India.\") \n",
    "    def language(self): \n",
    "        print(\"Hindi is the most widely spoken language of India.\") \n",
    "    def type(self): \n",
    "        print(\"India is a developing country.\") \n",
    "class USA:\n",
    "    def capital(self): \n",
    "        print(\"Washington, D.C. is the capital of USA.\") \n",
    "    def language(self): \n",
    "        print(\"English is the primary language of USA.\") \n",
    "    def type(self): \n",
    "        print(\"USA is a developed country.\") \n",
    "obj_ind = India()\n",
    "obj_usa = USA()\n",
    "for country in (obj_ind, obj_usa):\n",
    "    country.capital() \n",
    "    country.language() \n",
    "    country.type() "
   ]
  },
  {
   "cell_type": "markdown",
   "id": "1f22d0e8-7e0c-4e6f-bcb0-43d6e4604e19",
   "metadata": {},
   "source": [
    "LVL-HARD\n",
    "#1"
   ]
  },
  {
   "cell_type": "code",
   "execution_count": 33,
   "id": "8da732d2-8e60-4b24-a0b0-f7335fe6944d",
   "metadata": {},
   "outputs": [
    {
     "ename": "SyntaxError",
     "evalue": "'return' outside function (2282116889.py, line 17)",
     "output_type": "error",
     "traceback": [
      "\u001b[1;36m  Cell \u001b[1;32mIn[33], line 17\u001b[1;36m\u001b[0m\n\u001b[1;33m    return True\u001b[0m\n\u001b[1;37m    ^\u001b[0m\n\u001b[1;31mSyntaxError\u001b[0m\u001b[1;31m:\u001b[0m 'return' outside function\n"
     ]
    }
   ],
   "source": [
    "import math\n",
    "\n",
    "class Circle:\n",
    "    def __init__(self, center_x, center_y, radius):\n",
    "        self.center_x = center_x\n",
    "        self.center_y = center_y\n",
    "        self.radius = radius\n",
    "\n",
    "class Rectangle:\n",
    "    def __init__(self, bottom_left_x, bottom_left_y, width, height):\n",
    "        self.bottom_left_x = bottom_left_x\n",
    "        self.bottom_left_y = bottom_left_y\n",
    "        self.top_right_x = bottom_left_x + width\n",
    "        self.top_right_y = bottom_left_y + height\n",
    "    for (x, y) in corners:\n",
    "        if (x - circle.center_x) ** 2 + (y - circle.center_y) ** 2 < circle.radius ** 2:\n",
    "            return True\n",
    "    return False\n",
    "circle = Circle(5, 5, 3)\n",
    "rectangle = Rectangle(4, 4, 3, 3)\n",
    "print(rect_circle_overlap(circle, rectangle))"
   ]
  },
  {
   "cell_type": "code",
   "execution_count": 39,
   "id": "686ccd51-981a-4886-a63b-634a582573ce",
   "metadata": {},
   "outputs": [
    {
     "name": "stdout",
     "output_type": "stream",
     "text": [
      "Average pace: 0.0h 4.0m 33.0s\n"
     ]
    }
   ],
   "source": [
    "#2\n",
    "class Time:\n",
    "    def __init__(self, hours=0, minutes=0, seconds=0):\n",
    "        self.hours = hours\n",
    "        self.minutes = minutes\n",
    "        self.seconds = seconds\n",
    "    def total_seconds(self):\n",
    "        return self.hours * 3600 + self.minutes * 60 + self.seconds\n",
    "    @staticmethod\n",
    "    def from_seconds(total_seconds):\n",
    "        hours = total_seconds // 3600\n",
    "        minutes = (total_seconds % 3600) // 60\n",
    "        seconds = total_seconds % 60\n",
    "        return Time(hours, minutes, seconds)\n",
    "finishing_time = Time(0, 45, 30)\n",
    "distance = 10\n",
    "average_pace_time = average_pace(finishing_time, distance)\n",
    "print(f\"Average pace: {average_pace_time.hours}h {average_pace_time.minutes}m {average_pace_time.seconds}s\")"
   ]
  },
  {
   "cell_type": "code",
   "execution_count": 45,
   "id": "de0dd383-46e1-4f9b-b78f-85dff7d554ba",
   "metadata": {},
   "outputs": [
    {
     "name": "stdout",
     "output_type": "stream",
     "text": [
      "Insufficient funds or invalid amount.\n"
     ]
    }
   ],
   "source": [
    "#3\n",
    "class BankAccount:\n",
    "    def __init__(self, owner, balance=0):\n",
    "        self.owner = owner\n",
    "        self.balance = balance\n",
    "    def deposit(self, amount):\n",
    "        if amount > 0:\n",
    "            self.balance += amount\n",
    "    def withdraw(self, amount):\n",
    "        if 0 < amount <= self.balance:\n",
    "            self.balance -= amount\n",
    "        else:\n",
    "            print(\"Insufficient funds or invalid amount.\")\n",
    "account = BankAccount(\"Alice\", 100)\n",
    "account.deposit(50)\n",
    "account.deposit(25)\n",
    "account.withdraw(30)\n",
    "account.withdraw(200)\n",
    "account.withdraw(50) "
   ]
  },
  {
   "cell_type": "code",
   "execution_count": 53,
   "id": "44bcd74c-703f-488a-b981-83486a064614",
   "metadata": {},
   "outputs": [
    {
     "name": "stdout",
     "output_type": "stream",
     "text": [
      "Meow\n",
      "I am a cat. My name is Kitty. I am 2.5 years old.\n",
      "Bark\n",
      "I am a dog. My name is Fluffy. I am 4 years old.\n"
     ]
    }
   ],
   "source": [
    "#4\n",
    "class Cat:\n",
    "    def __init__(self, name, age):\n",
    "        self.name = name\n",
    "        self.age = age\n",
    "    def info(self):\n",
    "        print(f\"I am a cat. My name is {self.name}. I am {self.age} years old.\")\n",
    "    def make_sound(self):\n",
    "        print(\"Meow\")\n",
    "class Dog:\n",
    "    def __init__(self, name, age):\n",
    "        self.name = name\n",
    "        self.age = age\n",
    "    def info(self):\n",
    "        print(f\"I am a dog. My name is {self.name}. I am {self.age} years old.\")\n",
    "    def make_sound(self):\n",
    "        print(\"Bark\")\n",
    "cat1 = Cat(\"Kitty\", 2.5)\n",
    "dog1 = Dog(\"Fluffy\", 4)\n",
    "for animal in (cat1, dog1):\n",
    "    animal.make_sound()\n",
    "    animal.info()"
   ]
  },
  {
   "cell_type": "code",
   "execution_count": 55,
   "id": "72a0489d-cef6-4dab-a126-c4fd8f462c9d",
   "metadata": {},
   "outputs": [
    {
     "name": "stdout",
     "output_type": "stream",
     "text": [
      "I am a bird named Hedwig and my color is white. I am an owl and I live in forests.\n"
     ]
    }
   ],
   "source": [
    "#5\n",
    "class Bird:\n",
    "    def __init__(self, name, color):\n",
    "        self.name = name\n",
    "        self.color = color\n",
    "    def describe(self):\n",
    "        return f\"I am a bird named {self.name} and my color is {self.color}.\"\n",
    "class Owl(Bird):\n",
    "    def __init__(self, name, color, habitat):\n",
    "        super().__init__(name, color)\n",
    "        self.habitat = habitat\n",
    "    def describe(self):\n",
    "        return super().describe() + f\" I am an owl and I live in {self.habitat}.\"\n",
    "owl = Owl(\"Hedwig\", \"white\", \"forests\")\n",
    "print(owl.describe())"
   ]
  },
  {
   "cell_type": "code",
   "execution_count": 59,
   "id": "5a036739-5465-45a9-b8fb-38b15f9c6215",
   "metadata": {},
   "outputs": [
    {
     "name": "stdout",
     "output_type": "stream",
     "text": [
      "True\n",
      "True\n",
      "False\n",
      "False\n",
      "False\n"
     ]
    }
   ],
   "source": [
    "#6\n",
    "class ParenthesesValidator:\n",
    "    def __init__(self):\n",
    "        self.bracket_map = {')': '(', '}': '{', ']': '['}\n",
    "    def is_valid(self, s):\n",
    "        stack = []\n",
    "        for char in s:\n",
    "            if char in self.bracket_map.values():\n",
    "                stack.append(char)\n",
    "            elif char in self.bracket_map.keys():\n",
    "                if stack and stack[-1] == self.bracket_map[char]:\n",
    "                    stack.pop()\n",
    "                else:\n",
    "                    return False\n",
    "        return not stack\n",
    "validator = ParenthesesValidator()\n",
    "print(validator.is_valid(\"()\"))\n",
    "print(validator.is_valid(\"()[]{}\"))\n",
    "print(validator.is_valid(\"[)\"))\n",
    "print(validator.is_valid(\"({[)]\"))\n",
    "print(validator.is_valid(\"{{{\"))\n"
   ]
  },
  {
   "cell_type": "code",
   "execution_count": 57,
   "id": "c670cb6b-01f5-47a1-938c-2890796421ff",
   "metadata": {},
   "outputs": [
    {
     "ename": "TypeError",
     "evalue": "Volume.volume() takes 2 positional arguments but 4 were given",
     "output_type": "error",
     "traceback": [
      "\u001b[1;31m---------------------------------------------------------------------------\u001b[0m",
      "\u001b[1;31mTypeError\u001b[0m                                 Traceback (most recent call last)",
      "Cell \u001b[1;32mIn[57], line 11\u001b[0m\n\u001b[0;32m      9\u001b[0m v \u001b[38;5;241m=\u001b[39m Volume()\n\u001b[0;32m     10\u001b[0m cube_volume \u001b[38;5;241m=\u001b[39m v\u001b[38;5;241m.\u001b[39mvolume(\u001b[38;5;241m3\u001b[39m)\n\u001b[1;32m---> 11\u001b[0m cuboid_volume \u001b[38;5;241m=\u001b[39m v\u001b[38;5;241m.\u001b[39mvolume(\u001b[38;5;241m2\u001b[39m, \u001b[38;5;241m3\u001b[39m, \u001b[38;5;241m4\u001b[39m)\n\u001b[0;32m     12\u001b[0m sphere_volume \u001b[38;5;241m=\u001b[39m v\u001b[38;5;241m.\u001b[39mvolume(\u001b[38;5;241m5\u001b[39m)\n\u001b[0;32m     13\u001b[0m \u001b[38;5;28mprint\u001b[39m(\u001b[38;5;124mf\u001b[39m\u001b[38;5;124m\"\u001b[39m\u001b[38;5;124mVolume of cube: \u001b[39m\u001b[38;5;132;01m{\u001b[39;00mcube_volume\u001b[38;5;132;01m}\u001b[39;00m\u001b[38;5;124m\"\u001b[39m)\n",
      "\u001b[1;31mTypeError\u001b[0m: Volume.volume() takes 2 positional arguments but 4 were given"
     ]
    }
   ],
   "source": [
    "#7\n",
    "class Volume:\n",
    "    def volume(self, side):\n",
    "        return side ** 3\n",
    "    def volume(self, length, width, height):\n",
    "        return length * width * height\n",
    "    def volume(self, radius):\n",
    "        return (4/3) * math.pi * (radius ** 3)\n",
    "v = Volume()\n",
    "cube_volume = v.volume(3)\n",
    "cuboid_volume = v.volume(2, 3, 4)\n",
    "sphere_volume = v.volume(5)\n",
    "print(f\"Volume of cube: {cube_volume}\")\n",
    "print(f\"Volume of cuboid: {cuboid_volume}\")\n",
    "print(f\"Volume of sphere: {sphere_volume}\")"
   ]
  },
  {
   "cell_type": "code",
   "execution_count": null,
   "id": "b55e9543-a9b8-4022-b806-9f725d1d90ef",
   "metadata": {},
   "outputs": [],
   "source": []
  }
 ],
 "metadata": {
  "kernelspec": {
   "display_name": "Python 3 (ipykernel)",
   "language": "python",
   "name": "python3"
  },
  "language_info": {
   "codemirror_mode": {
    "name": "ipython",
    "version": 3
   },
   "file_extension": ".py",
   "mimetype": "text/x-python",
   "name": "python",
   "nbconvert_exporter": "python",
   "pygments_lexer": "ipython3",
   "version": "3.12.4"
  }
 },
 "nbformat": 4,
 "nbformat_minor": 5
}
